{
 "cells": [
  {
   "cell_type": "code",
   "execution_count": 13,
   "metadata": {},
   "outputs": [],
   "source": [
    "import sqlite3\n",
    "import pandas as pd\n",
    "import numpy as np\n",
    "from sklearn.feature_extraction.text import TfidfVectorizer \n",
    "from nltk.corpus import stopwords\n",
    "from nltk import word_tokenize\n",
    "from nltk.stem.wordnet import WordNetLemmatizer"
   ]
  },
  {
   "cell_type": "markdown",
   "metadata": {},
   "source": [
    "# User count"
   ]
  },
  {
   "cell_type": "code",
   "execution_count": 5,
   "metadata": {},
   "outputs": [
    {
     "name": "stdout",
     "output_type": "stream",
     "text": [
      "Total number of distinct Twitter users is:\n",
      "28199\n"
     ]
    }
   ],
   "source": [
    "conn = sqlite3.connect('dpc.db')\n",
    "\n",
    "df = pd.read_sql('SELECT count(DISTINCT([user.screen_name])) FROM tweets', conn)\n",
    "\n",
    "conn.close()\n",
    "\n",
    "print('Total number of distinct Twitter users is:\\n'+str(df.iloc[0][0]))"
   ]
  },
  {
   "cell_type": "markdown",
   "metadata": {},
   "source": [
    "# Clustering"
   ]
  },
  {
   "cell_type": "code",
   "execution_count": 210,
   "metadata": {},
   "outputs": [],
   "source": [
    "lmtz = WordNetLemmatizer()\n",
    "\n",
    "\n",
    "def lemmatize(word):\n",
    "    if word.startswith('#'):\n",
    "        return word\n",
    "    \n",
    "    lemma = lmtz.lemmatize(word, 'v')\n",
    "    if lemma == word:\n",
    "        lemma = lmtz.lemmatize(word, 'n')\n",
    "    return lemma\n",
    "\n",
    "\n",
    "def strip_punc(s):\n",
    "    if s[0] == '#':\n",
    "        return s\n",
    "    return ''.join([c for c in s if c.isalpha()])"
   ]
  },
  {
   "cell_type": "code",
   "execution_count": 211,
   "metadata": {},
   "outputs": [],
   "source": [
    "stop_words = [strip_punc(w) for w in stopwords.words('english')]\n",
    "stop_words.extend([\n",
    "    'i',\n",
    "    'u',\n",
    "    'r',\n",
    "    'im',\n",
    "    'cant',\n",
    "    'would',\n",
    "    'family',\n",
    "    'domestic',\n",
    "    'violence',\n",
    "    'australia',\n",
    "    'australian',\n",
    "    'dv',\n",
    "    'fv',\n",
    "    'au',\n",
    "    'via',\n",
    "    'today',\n",
    "    'thing',\n",
    "    'make',\n",
    "    'talk',\n",
    "    'due',\n",
    "    'day',\n",
    "    'month',\n",
    "    'find',\n",
    "    'show',\n",
    "    'put',\n",
    "    'part',\n",
    "    'time',\n",
    "    'yeah',\n",
    "    'deal',\n",
    "    'big',\n",
    "    'level',\n",
    "    'focus',\n",
    "    'theyre',\n",
    "    'list',\n",
    "    'top',\n",
    "    'give',\n",
    "    'situation',\n",
    "    'lot',\n",
    "    'hold',\n",
    "    'number',\n",
    "    'include',\n",
    "    'form',\n",
    "    'back',\n",
    "    'involve',\n",
    "    'link',\n",
    "    'real',\n",
    "    'get',\n",
    "    'go',\n",
    "    'have',\n",
    "    'do',\n",
    "    'take',\n",
    "    'time','year','month','week','day','say'\n",
    "])"
   ]
  },
  {
   "cell_type": "code",
   "execution_count": 212,
   "metadata": {},
   "outputs": [],
   "source": [
    "def clean_text(text):\n",
    "    cleaned_text = ''\n",
    "    for token in text.split():\n",
    "        \n",
    "        # Cleaning\n",
    "        if token[0] in ['@','$','%','^','&','*'] or token.startswith('http'):\n",
    "            continue\n",
    "\n",
    "        # Remove puctuations, lower case\n",
    "        token = strip_punc(token.lower())\n",
    "        \n",
    "        # Lemmatize\n",
    "        lemma = lemmatize(token)\n",
    "\n",
    "        if lemma and lemma not in stop_words:\n",
    "            cleaned_text += lemma + ' '\n",
    "    \n",
    "    return cleaned_text.strip()"
   ]
  },
  {
   "cell_type": "code",
   "execution_count": 273,
   "metadata": {},
   "outputs": [
    {
     "name": "stdout",
     "output_type": "stream",
     "text": [
      "2181 deadly message appear\n"
     ]
    }
   ],
   "source": [
    "docs = []\n",
    "raw_docs = []\n",
    "conn = sqlite3.connect('dpc.db')\n",
    "\n",
    "df = pd.read_sql('SELECT text, [extended_tweet.full_text] FROM tweets where created_at like \"%Nov%\" and created_at like \"%2018\"', conn)\n",
    "conn.close()\n",
    "\n",
    "for i, row in df.iterrows():\n",
    "    text = ''\n",
    "    if row['extended_tweet.full_text']:\n",
    "        text = clean_text(row['extended_tweet.full_text'])\n",
    "        raw_docs.append(row['extended_tweet.full_text'])\n",
    "    else:\n",
    "        text = clean_text(row['text'])\n",
    "        raw_docs.append(row['text'])\n",
    "    if text:\n",
    "        docs.append(text)\n",
    "\n",
    "print(len(docs), docs[0])"
   ]
  },
  {
   "cell_type": "code",
   "execution_count": 274,
   "metadata": {},
   "outputs": [],
   "source": [
    "tfidf_vectorizer=TfidfVectorizer(use_idf=True)\n",
    "\n",
    "tfidf_vectorizer_vectors=tfidf_vectorizer.fit_transform(docs)\n",
    "\n",
    "# get the first vector out (target document)\n",
    "first_vector_tfidfvectorizer=tfidf_vectorizer_vectors[0]\n",
    "\n",
    "\n",
    "\n",
    "# # place tf-idf values in a pandas data frame\n",
    "# df = pd.DataFrame(first_vector_tfidfvectorizer.T.todense(), index=tfidf_vectorizer.get_feature_names(), columns=[\"tfidf\"])\n",
    "# print(df.sort_values(by=[\"tfidf\"],ascending=False))"
   ]
  },
  {
   "cell_type": "markdown",
   "metadata": {},
   "source": [
    "# KMEANS"
   ]
  },
  {
   "cell_type": "code",
   "execution_count": 122,
   "metadata": {},
   "outputs": [],
   "source": [
    "from sklearn.cluster import KMeans"
   ]
  },
  {
   "cell_type": "code",
   "execution_count": 279,
   "metadata": {},
   "outputs": [
    {
     "data": {
      "text/plain": [
       "KMeans(algorithm='auto', copy_x=True, init='k-means++', max_iter=300,\n",
       "    n_clusters=5, n_init=10, n_jobs=None, precompute_distances='auto',\n",
       "    random_state=None, tol=0.0001, verbose=0)"
      ]
     },
     "execution_count": 279,
     "metadata": {},
     "output_type": "execute_result"
    }
   ],
   "source": [
    "km_model = KMeans(n_clusters=5)\n",
    "km_model.fit(tfidf_vectorizer_vectors)"
   ]
  },
  {
   "cell_type": "code",
   "execution_count": 125,
   "metadata": {},
   "outputs": [],
   "source": [
    "import collections"
   ]
  },
  {
   "cell_type": "code",
   "execution_count": 280,
   "metadata": {},
   "outputs": [],
   "source": [
    "clustering = collections.defaultdict(list)\n",
    " \n",
    "for idx, label in enumerate(km_model.labels_):\n",
    "    clustering[label].append(idx)"
   ]
  },
  {
   "cell_type": "code",
   "execution_count": 281,
   "metadata": {
    "scrolled": false
   },
   "outputs": [
    {
     "name": "stdout",
     "output_type": "stream",
     "text": [
      "-----------------------------------------\n",
      "Cluster 4\n",
      "\n",
      "After a deadly month for domestic violence, the message doesn't appear to be getting through https://t.co/uo1woxut9R via @ConversationEDU \n",
      "\n",
      "@BarbyWT @GenderANU @sanambna @wpscoalition Indeed @BarbyWT, I advocate on domestic violence too. That doesn't mean women elsewhere don't deserve justice too though. \n",
      "\n",
      "After a deadly month for domestic violence, the message doesn't appear to be getting through https://t.co/FAZ9qtqiEd via @ConversationEDU \n",
      "\n",
      ".@RichardWilkins #askcharlie why him saying his speaking tour would be full of laughs causes grief to victims of domestic violence #vaw @CollectiveShout \n",
      "\n",
      "@ScottMorrisonMP Mr Morrison, STOP Charlie Sheen’s entry to Australia. We have an epidemic of lethal family violence with men killing women in high numbers during October. Sheen is a serial perpetrator &amp; the message your Government is providing is “he’s okay to speak publicly”! \n",
      "\n",
      "After a deadly month for domestic #violence, the message doesn't appear to be getting through\n",
      "\n",
      "https://t.co/pun6cy9oMP\n",
      "@ConversationEDU\n",
      "#auspol #Nswpol \n",
      "\n",
      "After a deadly month for domestic violence, the message doesn't appear to be getting through https://t.co/hAFMLFlBP0 via @ConversationEDU \n",
      "\n",
      "@SaintFrankly @Taezar Victim blaming is a horrendous part of Australian culture. Apparently the cyclist keyed this person’s car earlier. So in Oz logic, the cyclist caused the motorist to try and kill him. \n",
      "\n",
      "It’s this kind of bullshit that is why a woman a week dies from family violence. \n",
      "\n",
      "@Partisangirl #BringTheTroopsHome to protect US borders.\n",
      "\n",
      "[The #USGovt] shall protect each of them [the States] against Invasion; and on Application of the Legislature, or of the Executive (when the Legislature cannot be convened) against domestic Violence. #USConstitution #Article4Section4 https://t.co/u1zYpvJBZV \n",
      "\n",
      "\"After a deadly month for domestic violence, the message doesn't appear to be getting through\"  https://t.co/jKRrPZI6pN \n",
      "\n",
      "-----------------------------------------\n",
      "\n",
      "\n",
      "-----------------------------------------\n",
      "Cluster 2\n",
      "\n",
      "A deadly month for domestic violence suggests the message isn't getting through https://t.co/aZRgkKiExr: ABC News-Facebook_Organic via @abcnews \n",
      "\n",
      "A huge thank you @NatHutchins for all that you have done - particularly in your prevention of family violence and women’s portfolios. My best wishes. https://t.co/kCMqdHw6Rn \n",
      "\n",
      "Labor has invested a record $2.6 billion in family violence services, as we work to implement each and every one of the 227 recommendations of the landmark Royal Commission into Family Violence to protect women. #ThisIsLabor #OnlyLaborDelivers https://t.co/MiyCvmR2VS \n",
      "\n",
      "Silence is at best acceptance, at its worst, compliance.\n",
      "\n",
      "Men Against Violence Australia @MAV_aus encourages all men to voice their collective disgust at a government refusing to admit and address the domestic violence epidemic.\n",
      "\n",
      "If sixty-nine men had been killed . . . ? https://t.co/XulRa3yHUL \n",
      "\n",
      "@Scott31517545 @marcialangton Couldn't resist\n",
      "https://t.co/zX5YkH7w4u \n",
      "\n",
      "If this government took Australian women at risk of domestic violence, deposited them on #Nauru &amp; told them they were safe now &amp; to get on with their lives, there’d be a huge OUTCRY. Why does this government think that that idea works for refugees? #auspol \n",
      "\n",
      "@Seagullrm @SkyNewsAust @ScottMorrisonMP Which culture and religion in homes do you think outperform others in Domestic Violence ?? \n",
      "\n",
      "\"Sentencing in intimate partner homicides is part of an enduring legacy of treating family violence as less serious than other forms of violence. It’s time we broke with the past and reframed our hierarchies of violence.\" https://t.co/jgCSl2TzRG \n",
      "\n",
      "Premier @DanielAndrewsMP tells Jon Faine \"we had a terrible incident down in Geelong last week. Family violence remains the number one law and order issue\" @9NewsMelb \n",
      "\n",
      "Filed under ‘Woe is me what can we do about DV’ Oct 2018, Victoria: Convicted domestic violence offenders gathered to march against women’s autonomy.  Nonviolent protestors, were handed over the boys in blue. #CountingDeadWomen #DV #Vicpol #SpringSt #MVAWG https://t.co/ymOsUyZkpc \n",
      "\n",
      "-----------------------------------------\n",
      "\n",
      "\n",
      "-----------------------------------------\n",
      "Cluster 3\n",
      "\n",
      "@David_Speers @ScottMorrisonMP @ScottMorrisonMP Can't commit to funding domestic violence programs or making financial institutions liable for  wholesale theft and extortion but decides that he can weigh into and fund the Israeli conflict by moving the Embassy? Apart from the diplomatic fallout, who's paying? \n",
      "\n",
      "@JordanBannister So, as long as you were born in Australia, you can assault, stab, sexually assault etc other Australians with impunity? Happens in our households every day, Jordan - around 90 women killed in 2018. While this incident was horrendous, the ongoing domestic violence problem is too. \n",
      "\n",
      "Domestic violence is a terrorism we haven't sorted.  200+ women killed so far this year.  And victims of terrorism?  Pack your bags. https://t.co/yyNuKRjBFA \n",
      "\n",
      "@wombat_wood @lindybassett @crazyjoedevola There is data. https://t.co/1EZbqASjL7 \n",
      "\n",
      "https://t.co/8BcvqdK5J3\n",
      "\n",
      "Appalling PM cant see his way to attend a domestic and family violence event \n",
      "\n",
      "The seismic cultural changes that would reduce family violence unfolds over years, decades even. Will a post-election government continue the work of the royal commission, and... https://t.co/kAgTBTbNCY \n",
      "\n",
      "The most important issue for me is eliminating family violence. Think about that tomorrow. #VicVotes https://t.co/hQVTNVubz7 \n",
      "\n",
      "@RealMarkLatham make sure you get out the real stats about female violence against men - at Pride Fairday I tried talking to the Greens and ALP about LGBT Domestic Violence and got told by TERFS men are more violent than women - so fact Lesbians are 42 - 47% in all studies - Protect the childen \n",
      "\n",
      "How many times has the PM met in his office with a photo op with AFP, Home Affairs  the heads of state police to discuss domestic violence in response to each assault/death?\n",
      "\n",
      "By all means discuss terrorism, but can we also look to what is one of the bigger killers in this country https://t.co/pb4gYBcxaT \n",
      "\n",
      "Italy’s divorce law reforms 'endanger domestic violence victims and pose grave threat to women’s rights' https://t.co/cwgyhmDb3B \n",
      "\n",
      "-----------------------------------------\n",
      "\n",
      "\n",
      "-----------------------------------------\n",
      "Cluster 1\n",
      "\n",
      "@jenbechwati @ScottMorrisonMP If only domestic violence received the same swift and serious attention. (Honestly, though, a meeting is a photo op? Enough with the preening and just get on with your job.) \n",
      "\n",
      "And they wonder why I won't trust them https://t.co/4K5Pp4wF6x \n",
      "\n",
      "@BrentJo56408314 @SkyNewsAust @ScottMorrisonMP Emotional or verbal abuse should grant a VRO\n",
      "If they disregard that, straight to jail\n",
      "I believe that there should be a family violence register so that they can’t escape their past\n",
      "I think that partners looking to cohabitate where there is a child should have a criminal check \n",
      "\n",
      "#Wagga residents, community groups, defence, education and emergency services came out in force at the 2018 @WhiteRibbonAust Walk to combat domestic violence. https://t.co/akJsIUvRmr \n",
      "\n",
      "@ScottMorrisonMP If you spent half as much on mental health and domestic violence prevention as you do on anti terrorism and jingoistic politics we’d all be a lot safer. \n",
      "\n",
      "@raywilton4 Google domestic violence and the pentacostal church and you will see where Morrison is coming from. \n",
      "\n",
      "Did you notice the @FamilyCourtAU is beyond your reach? I think you would make an Appropriate replace3ment, empowered to remove children from Sexual Predators and Domestic Violence while guaranteeing no child grows up deprived of the Family. You will need funding, take the courts https://t.co/7ZGfiEuvIm \n",
      "\n",
      "@stephenmorphy11 @australian Domestic violence is abhorant, but definitely not a threat to National Security. #growabraindumbass #cuckedmalefeminist \n",
      "\n",
      "@noplaceforsheep And let's remember that most of the people committing acts officially called terrorism have histories of misogyny &amp; domestic violence. \n",
      "\n",
      "Murray Straus states this 25 years ago with groundbreaking facts and evidence exposing the clear links and generational history of family violence. He was called a sexist and his female colleague got death and bomb threats. Apparently the patriarchy did it?@DavidLeyonhjelm https://t.co/y6ZeTueEz3 \n",
      "\n",
      "-----------------------------------------\n",
      "\n",
      "\n",
      "-----------------------------------------\n",
      "Cluster 0\n",
      "\n",
      "So all the women &amp; men who get stressed &amp; don’t use domestic violence are...not normal? https://t.co/h35SThsnKI \n",
      "\n",
      "I hope views change soon as domestic violence is one of if not the biggest issues Australia currently faces. We pretend to be a loving, accepting and fair country but sexism, violence and racism are still pervasive to this day. It needs to change. \n",
      "\n",
      "The Central Coast today took a stand against domestic violence, in a powerful display at Gosford’s Kibble Park.\n",
      "\n",
      "Survivors shared their stories and support agencies explained the services they offer, in a bid to provide hope.\n",
      "\n",
      "@sarah_iuliano https://t.co/0Oh0cRFjgu \n",
      "\n",
      "Scott Morrison far too busy schmoozing with News Ltd people and execs to turn up at a Parliamentarians Against Family Violence Friendship Group event on... https://t.co/uqVwcWBsVG \n",
      "\n",
      "And in a different context, based on my @arc_gov_au funded DECRA research, @suzannemfraser &amp; I found that lawyers deploy these same stereotypes and arguments in family violence matters, when negotiating whether women need/require protection from violent partners. \n",
      "\n",
      "Morrison's puffy chest arrogance is working well for him ... \n",
      "Scott Morrison misses family violence event for a Sky News 'housewarming' \n",
      "\n",
      "Clontarf Academy ride to end domestic violence against women https://t.co/brsPzsVRED \n",
      "\n",
      "\"1/5 believe domestic violence is a normal reaction to stress, that sometimes a woman can make a man so angry he hits her without meaning to.\" \n",
      "\n",
      "Sobering stuff. A reminder that behind closed doors, the 21st Century has never arrived. Much more to do. ♀✊\n",
      "\n",
      "https://t.co/dyu7P22pj9 \n",
      "\n",
      "PM attends Sky News 'housewarming' on night of annual family violence event | Weekly Beast https://t.co/WAk9tFVYU3 \n",
      "\n",
      "@livingroomtv @GuySebastian @GuySebastian men suffer from domestic violence too! \n",
      "\n",
      "-----------------------------------------\n",
      "\n",
      "\n"
     ]
    }
   ],
   "source": [
    "for label in clustering:\n",
    "    scores = {}\n",
    "    for idx in clustering[label]:\n",
    "        scores[idx] = np.sum(tfidf_vectorizer_vectors[idx])\n",
    "        \n",
    "    print('-----------------------------------------\\nCluster '+str(label)+'\\n')\n",
    "    for idx in list(reversed(sorted(scores, key=scores.get)))[:10]:\n",
    "        print(raw_docs[idx], '\\n')\n",
    "    print('-----------------------------------------\\n\\n')"
   ]
  },
  {
   "cell_type": "markdown",
   "metadata": {},
   "source": [
    "# LDA"
   ]
  },
  {
   "cell_type": "code",
   "execution_count": null,
   "metadata": {},
   "outputs": [],
   "source": [
    "import gensim\n",
    "from gensim.utils import simple_preprocess\n",
    "from gensim.parsing.preprocessing import STOPWORDS\n",
    "np.random.seed(2018)"
   ]
  },
  {
   "cell_type": "code",
   "execution_count": null,
   "metadata": {},
   "outputs": [],
   "source": [
    "processed_docs = pd.Series([doc.split() for doc in docs])\n",
    "processed_docs.head()"
   ]
  },
  {
   "cell_type": "code",
   "execution_count": null,
   "metadata": {},
   "outputs": [],
   "source": [
    "dictionary = gensim.corpora.Dictionary(processed_docs)\n"
   ]
  },
  {
   "cell_type": "code",
   "execution_count": null,
   "metadata": {},
   "outputs": [],
   "source": [
    "bow_corpus = [dictionary.doc2bow(doc) for doc in processed_docs]\n"
   ]
  },
  {
   "cell_type": "code",
   "execution_count": null,
   "metadata": {},
   "outputs": [],
   "source": [
    "from gensim import corpora, models\n",
    "tfidf = models.TfidfModel(bow_corpus)\n",
    "corpus_tfidf = tfidf[bow_corpus]\n"
   ]
  },
  {
   "cell_type": "code",
   "execution_count": null,
   "metadata": {},
   "outputs": [],
   "source": [
    "num_topics = 3\n",
    "\n",
    "lda_model_tfidf = gensim.models.LdaMulticore(corpus_tfidf, num_topics=num_topics, id2word=dictionary, passes=2, workers=4)\n",
    "for idx, topic in lda_model_tfidf.print_topics(-1):\n",
    "    print('Topic: {} Word: {}'.format(idx, topic))"
   ]
  },
  {
   "cell_type": "code",
   "execution_count": null,
   "metadata": {
    "scrolled": false
   },
   "outputs": [],
   "source": [
    "for idx, topic in lda_model_tfidf.print_topics(-1):\n",
    "    print('Topic: {} Word: {}'.format(idx, topic))\n",
    "    print()\n",
    "    \n",
    "    scores = {}\n",
    "    for i in range(len(bow_corpus)):\n",
    "        for index, score in sorted(lda_model_tfidf[bow_corpus[i]], key=lambda tup: -1*tup[1]):\n",
    "            if index == idx:\n",
    "                scores[i] = score\n",
    "            break\n",
    "\n",
    "    for i in list(reversed(sorted(scores, key=scores.get)))[:10]:\n",
    "        print(raw_docs[i], '\\n')\n",
    "    \n",
    "    print('---------------------------------------------------------------------------------------------------------')"
   ]
  },
  {
   "cell_type": "code",
   "execution_count": null,
   "metadata": {},
   "outputs": [],
   "source": []
  }
 ],
 "metadata": {
  "kernelspec": {
   "display_name": "Python 3",
   "language": "python",
   "name": "python3"
  },
  "language_info": {
   "codemirror_mode": {
    "name": "ipython",
    "version": 3
   },
   "file_extension": ".py",
   "mimetype": "text/x-python",
   "name": "python",
   "nbconvert_exporter": "python",
   "pygments_lexer": "ipython3",
   "version": "3.7.1"
  }
 },
 "nbformat": 4,
 "nbformat_minor": 2
}
