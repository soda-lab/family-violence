{
 "cells": [
  {
   "cell_type": "code",
   "execution_count": 1,
   "metadata": {},
   "outputs": [],
   "source": [
    "import re\n",
    "import numpy as np\n",
    "import pandas as pd\n",
    "from pprint import pprint\n",
    "import sqlite3\n",
    "\n",
    "# Gensim\n",
    "import gensim\n",
    "import gensim.corpora as corpora\n",
    "from gensim.utils import simple_preprocess\n",
    "from gensim.models import CoherenceModel\n",
    "\n",
    "# NLTK\n",
    "from nltk.corpus import stopwords\n",
    "from nltk import word_tokenize\n",
    "from nltk.stem.wordnet import WordNetLemmatizer\n",
    "\n",
    "# Plotting tools\n",
    "import pyLDAvis\n",
    "import pyLDAvis.gensim  # don't skip this\n",
    "import matplotlib.pyplot as plt\n",
    "%matplotlib inline\n",
    "\n",
    "# Enable logging for gensim - optional\n",
    "import logging\n",
    "logging.basicConfig(format='%(asctime)s : %(levelname)s : %(message)s', level=logging.ERROR)\n",
    "\n",
    "import warnings\n",
    "warnings.filterwarnings(\"ignore\",category=DeprecationWarning)"
   ]
  },
  {
   "cell_type": "code",
   "execution_count": 24,
   "metadata": {},
   "outputs": [],
   "source": [
    "lmtz = WordNetLemmatizer()\n",
    "\n",
    "\n",
    "def lemmatize(word):\n",
    "    if word.startswith('#'):\n",
    "        return word\n",
    "    \n",
    "    lemma = lmtz.lemmatize(word, 'v')\n",
    "    if lemma == word:\n",
    "        lemma = lmtz.lemmatize(word, 'n')\n",
    "    return lemma\n",
    "\n",
    "\n",
    "def strip_punc(s):\n",
    "    if s[0] == '#':\n",
    "        return s\n",
    "    return ''.join([c for c in s if c.isalpha()])"
   ]
  },
  {
   "cell_type": "markdown",
   "metadata": {},
   "source": [
    "### Stop words"
   ]
  },
  {
   "cell_type": "code",
   "execution_count": 224,
   "metadata": {},
   "outputs": [],
   "source": [
    "stop_words = [strip_punc(w) for w in stopwords.words('english')]\n",
    "stop_words.extend([\n",
    "    'i',\n",
    "    'u',\n",
    "    'r',\n",
    "    'im',\n",
    "    'cant',\n",
    "    'would',\n",
    "    'family',\n",
    "    'domestic',\n",
    "    'violence',\n",
    "    'australia',\n",
    "    'australian',\n",
    "    'dv',\n",
    "    'fv',\n",
    "    'wa',\n",
    "    'via',\n",
    "    'today',\n",
    "    'thing',\n",
    "    'make',\n",
    "    'talk',\n",
    "    'due',\n",
    "    'day',\n",
    "    'month',\n",
    "    'find',\n",
    "    'show',\n",
    "    'put',\n",
    "    'part',\n",
    "    'time',\n",
    "    'yeah',\n",
    "    'deal',\n",
    "    'big',\n",
    "    'level',\n",
    "    'focus',\n",
    "    'theyre',\n",
    "    'list',\n",
    "    'top',\n",
    "    'give',\n",
    "    'situation',\n",
    "    'lot',\n",
    "    'hold',\n",
    "    'number',\n",
    "    'include',\n",
    "    'form',\n",
    "    'back',\n",
    "    'involve',\n",
    "    'link',\n",
    "    'real'\n",
    "])"
   ]
  },
  {
   "cell_type": "markdown",
   "metadata": {},
   "source": [
    "### Data from SQLite"
   ]
  },
  {
   "cell_type": "code",
   "execution_count": 309,
   "metadata": {},
   "outputs": [
    {
     "name": "stdout",
     "output_type": "stream",
     "text": [
      "3811\n"
     ]
    },
    {
     "data": {
      "text/plain": [
       "3811"
      ]
     },
     "execution_count": 309,
     "metadata": {},
     "output_type": "execute_result"
    }
   ],
   "source": [
    "conn = sqlite3.connect('dpc.db')\n",
    "c = conn.cursor()\n",
    "\n",
    "data = []\n",
    "replied_ids = []\n",
    "for (date, text, ftext, replied_id) in c.execute('SELECT created_at, text, [extended_tweet.full_text], in_reply_to_status_id FROM tweets'):\n",
    "    if date.split(' ')[-1] == '2014':\n",
    "        if ftext:\n",
    "            data.append(ftext)\n",
    "        else:\n",
    "            data.append(text)\n",
    "        \n",
    "        if replied_id:\n",
    "            replied_ids.append(replied_id)\n",
    "        else:\n",
    "            replied_ids.append(None)\n",
    "        \n",
    "conn.close()\n",
    "print(len(data))\n",
    "len(replied_ids)"
   ]
  },
  {
   "cell_type": "markdown",
   "metadata": {},
   "source": [
    "### Preprocessing"
   ]
  },
  {
   "cell_type": "code",
   "execution_count": 310,
   "metadata": {},
   "outputs": [
    {
     "name": "stdout",
     "output_type": "stream",
     "text": [
      "0 100 200 300 400 500 600 700 800 900 1000 1100 1200 1300 1400 1500 1600 1700 1800 1900 2000 2100 2200 2300 2400 2500 2600 2700 2800 2900 3000 3100 3200 3300 3400 3500 3600 3700 3800 "
     ]
    }
   ],
   "source": [
    "set_cleaned_sent = set()\n",
    "data_lemmatized = []\n",
    "data_filtered = []\n",
    "indices = [] # points back to index in original data\n",
    "\n",
    "for i, sent in enumerate(data):\n",
    "    \n",
    "    cleaned_sent = ''\n",
    "    for token in sent.split():\n",
    "        \n",
    "        # Cleaning\n",
    "        if token[0] in ['@','$','%','^','&','*'] or token.startswith('http'):\n",
    "            continue\n",
    "\n",
    "        # Remove puctuations, lower case\n",
    "        token = strip_punc(token.lower())\n",
    "        \n",
    "        # Lemmatize\n",
    "        lemma = lemmatize(token)\n",
    "\n",
    "        if lemma and lemma not in stop_words:\n",
    "            cleaned_sent += lemma + ' '\n",
    "    \n",
    "    cleaned_sent = cleaned_sent.strip()\n",
    "    \n",
    "    # Check for duplicates\n",
    "    if cleaned_sent and cleaned_sent not in set_cleaned_sent:\n",
    "        set_cleaned_sent.add(cleaned_sent)\n",
    "        data_lemmatized.append(cleaned_sent.split())\n",
    "        data_filtered.append(sent)\n",
    "        indices.append(i)\n",
    "        \n",
    "    if i % 100 == 0:\n",
    "        print(i, end=' ')"
   ]
  },
  {
   "cell_type": "code",
   "execution_count": 311,
   "metadata": {},
   "outputs": [
    {
     "data": {
      "text/plain": [
       "3402"
      ]
     },
     "execution_count": 311,
     "metadata": {},
     "output_type": "execute_result"
    }
   ],
   "source": [
    "len(data_lemmatized)"
   ]
  },
  {
   "cell_type": "code",
   "execution_count": null,
   "metadata": {
    "scrolled": true
   },
   "outputs": [],
   "source": [
    "for i, sent in enumerate(data_lemmatized[:50]):\n",
    "    print(indices[i], sent)"
   ]
  },
  {
   "cell_type": "markdown",
   "metadata": {},
   "source": [
    "### Creating Bigram and Trigram Models"
   ]
  },
  {
   "cell_type": "code",
   "execution_count": 312,
   "metadata": {},
   "outputs": [],
   "source": [
    "# Build the bigram and trigram models\n",
    "bigram = gensim.models.Phrases(data_lemmatized, min_count=5, threshold=100) # higher threshold fewer phrases.\n",
    "trigram = gensim.models.Phrases(bigram[data_lemmatized], threshold=100)  \n",
    "\n",
    "# Faster way to get a Tweet clubbed as a trigram/bigram\n",
    "bigram_mod = gensim.models.phrases.Phraser(bigram)\n",
    "trigram_mod = gensim.models.phrases.Phraser(trigram)"
   ]
  },
  {
   "cell_type": "code",
   "execution_count": 313,
   "metadata": {},
   "outputs": [],
   "source": [
    "def make_bigrams(texts):\n",
    "    return [bigram_mod[doc] for doc in texts]\n",
    "\n",
    "\n",
    "def make_trigrams(texts):\n",
    "    return [trigram_mod[bigram_mod[doc]] for doc in texts]"
   ]
  },
  {
   "cell_type": "code",
   "execution_count": 314,
   "metadata": {},
   "outputs": [],
   "source": [
    "data_lemmatized = make_bigrams(data_lemmatized)"
   ]
  },
  {
   "cell_type": "markdown",
   "metadata": {},
   "source": [
    "### Create the Dictionary and Corpus needed for Topic Modeling"
   ]
  },
  {
   "cell_type": "code",
   "execution_count": 315,
   "metadata": {},
   "outputs": [
    {
     "name": "stdout",
     "output_type": "stream",
     "text": [
      "[['christmas', 'woman', 'victim', 'life', 'woman', 'week', 'kill', 'current', 'former', 'male', 'partner']]\n"
     ]
    }
   ],
   "source": [
    "# Create Dictionary\n",
    "id2word = corpora.Dictionary(data_lemmatized)\n",
    "\n",
    "# Create Corpus\n",
    "texts = data_lemmatized\n",
    "\n",
    "# Term Document Frequency\n",
    "corpus = [id2word.doc2bow(text) for text in texts]\n",
    "\n",
    "# View\n",
    "print(data_lemmatized[:1])"
   ]
  },
  {
   "cell_type": "markdown",
   "metadata": {},
   "source": [
    "### Building LDA Mallet Model\n",
    "Mallet’s version of LDA often gives a better quality of topics.\n",
    "Num of topics = 20 at this step."
   ]
  },
  {
   "cell_type": "code",
   "execution_count": 316,
   "metadata": {},
   "outputs": [],
   "source": [
    "# Download File: http://mallet.cs.umass.edu/dist/mallet-2.0.8.zip\n",
    "mallet_path = 'mallet-2.0.8/bin/mallet' # update this path\n",
    "# ldamallet = gensim.models.wrappers.LdaMallet(mallet_path, corpus=corpus, num_topics=12, id2word=id2word)"
   ]
  },
  {
   "cell_type": "markdown",
   "metadata": {},
   "source": [
    "### Optimal number of topics for LDA\n",
    "Build many LDA models with different values of number of topics (k) and pick the one that gives the highest coherence value."
   ]
  },
  {
   "cell_type": "code",
   "execution_count": 317,
   "metadata": {},
   "outputs": [],
   "source": [
    "def compute_coherence_values(dictionary, corpus, texts, limit, start=2, step=3):\n",
    "    \"\"\"\n",
    "    Compute c_v coherence for various number of topics\n",
    "\n",
    "    Parameters:\n",
    "    ----------\n",
    "    dictionary : Gensim dictionary\n",
    "    corpus : Gensim corpus\n",
    "    texts : List of input texts\n",
    "    limit : Max num of topics\n",
    "\n",
    "    Returns:\n",
    "    -------\n",
    "    model_list : List of LDA topic models\n",
    "    coherence_values : Coherence values corresponding to the LDA model with respective number of topics\n",
    "    \"\"\"\n",
    "    coherence_values = []\n",
    "    model_list = []\n",
    "    for num_topics in range(start, limit, step):\n",
    "        model = gensim.models.wrappers.LdaMallet(mallet_path, corpus=corpus, num_topics=num_topics, id2word=id2word)\n",
    "        model_list.append(model)\n",
    "        print(str(len(model_list)-1)+'-'+str(num_topics),end=' ')\n",
    "        coherencemodel = CoherenceModel(model=model, texts=texts, dictionary=dictionary, coherence='c_v')\n",
    "        coherence_values.append(coherencemodel.get_coherence())\n",
    "\n",
    "    return model_list, coherence_values"
   ]
  },
  {
   "cell_type": "markdown",
   "metadata": {},
   "source": [
    "#### Topic coherence provide a convenient measure to judge how good a given topic model is."
   ]
  },
  {
   "cell_type": "code",
   "execution_count": 318,
   "metadata": {},
   "outputs": [
    {
     "name": "stdout",
     "output_type": "stream",
     "text": [
      "0-4 1-5 2-6 3-7 4-8 5-9 6-10 7-11 8-12 9-13 10-14 11-15 12-16 13-17 14-18 15-19 16-20 "
     ]
    }
   ],
   "source": [
    "# Takes a long time to run.\n",
    "model_list, coherence_values = compute_coherence_values(dictionary=id2word, corpus=corpus, texts=data_lemmatized, start=4, limit=21, step=1)"
   ]
  },
  {
   "cell_type": "code",
   "execution_count": 38,
   "metadata": {},
   "outputs": [],
   "source": [
    "# model = gensim.models.wrappers.LdaMallet(mallet_path, corpus=corpus, num_topics=20, id2word=id2word)\n",
    "# model_list.append(model)\n",
    "# coherencemodel = CoherenceModel(model=model, texts=texts, dictionary=id2word, coherence='c_v')\n",
    "# coherence_values.append(coherencemodel.get_coherence())"
   ]
  },
  {
   "cell_type": "markdown",
   "metadata": {},
   "source": [
    "# Graphs"
   ]
  },
  {
   "cell_type": "code",
   "execution_count": 124,
   "metadata": {},
   "outputs": [
    {
     "data": {
      "image/png": "[encoded data removed]",
      "text/plain": [
       "<Figure size 432x288 with 1 Axes>"
      ]
     },
     "metadata": {
      "needs_background": "light"
     },
     "output_type": "display_data"
    }
   ],
   "source": [
    "limit=21; start=4; step=1;\n",
    "x = range(start, limit, step)\n",
    "plt.figure().suptitle('2018')\n",
    "plt.plot(x, coherence_values)\n",
    "plt.xlabel(\"Num Topics\")\n",
    "plt.ylabel(\"Coherence score\")\n",
    "plt.legend((\"coherence_values\"), loc='best')\n",
    "plt.show()"
   ]
  },
  {
   "cell_type": "code",
   "execution_count": 185,
   "metadata": {},
   "outputs": [
    {
     "data": {
      "image/png": "[encoded data removed]",
      "text/plain": [
       "<Figure size 432x288 with 1 Axes>"
      ]
     },
     "metadata": {
      "needs_background": "light"
     },
     "output_type": "display_data"
    }
   ],
   "source": [
    "limit=21; start=4; step=1;\n",
    "x = range(start, limit, step)\n",
    "plt.figure().suptitle('2017')\n",
    "plt.plot(x, coherence_values)\n",
    "plt.xlabel(\"Num Topics\")\n",
    "plt.ylabel(\"Coherence score\")\n",
    "plt.legend((\"coherence_values\"), loc='best')\n",
    "plt.show()"
   ]
  },
  {
   "cell_type": "code",
   "execution_count": 235,
   "metadata": {},
   "outputs": [
    {
     "data": {
      "image/png": "[encoded data removed]",
      "text/plain": [
       "<Figure size 432x288 with 1 Axes>"
      ]
     },
     "metadata": {
      "needs_background": "light"
     },
     "output_type": "display_data"
    }
   ],
   "source": [
    "limit=21; start=4; step=1;\n",
    "x = range(start, limit, step)\n",
    "plt.figure().suptitle('2016')\n",
    "plt.plot(x, coherence_values)\n",
    "plt.xlabel(\"Num Topics\")\n",
    "plt.ylabel(\"Coherence score\")\n",
    "plt.legend((\"coherence_values\"), loc='best')\n",
    "plt.show()"
   ]
  },
  {
   "cell_type": "code",
   "execution_count": 273,
   "metadata": {},
   "outputs": [
    {
     "data": {
      "image/png": "[encoded data removed]",
      "text/plain": [
       "<Figure size 432x288 with 1 Axes>"
      ]
     },
     "metadata": {
      "needs_background": "light"
     },
     "output_type": "display_data"
    }
   ],
   "source": [
    "limit=21; start=4; step=1;\n",
    "x = range(start, limit, step)\n",
    "plt.figure().suptitle('2015')\n",
    "plt.plot(x, coherence_values)\n",
    "plt.xlabel(\"Num Topics\")\n",
    "plt.ylabel(\"Coherence score\")\n",
    "plt.legend((\"coherence_values\"), loc='best')\n",
    "plt.show()"
   ]
  },
  {
   "cell_type": "code",
   "execution_count": 319,
   "metadata": {},
   "outputs": [
    {
     "data": {
      "image/png": "[encoded data removed]",
      "text/plain": [
       "<Figure size 432x288 with 1 Axes>"
      ]
     },
     "metadata": {
      "needs_background": "light"
     },
     "output_type": "display_data"
    }
   ],
   "source": [
    "limit=21; start=4; step=1;\n",
    "x = range(start, limit, step)\n",
    "plt.figure().suptitle('2014')\n",
    "plt.plot(x, coherence_values)\n",
    "plt.xlabel(\"Num Topics\")\n",
    "plt.ylabel(\"Coherence score\")\n",
    "plt.legend((\"coherence_values\"), loc='best')\n",
    "plt.show()"
   ]
  },
  {
   "cell_type": "code",
   "execution_count": 351,
   "metadata": {
    "scrolled": true
   },
   "outputs": [],
   "source": [
    "# Select the 3 optimal models\n",
    "optimal_model = model_list[9]\n",
    "model_topics = optimal_model.show_topics(formatted=False)\n",
    "# pprint(optimal_model.print_topics(num_words=10))"
   ]
  },
  {
   "cell_type": "markdown",
   "metadata": {},
   "source": [
    "### Find the most representative document for each topic"
   ]
  },
  {
   "cell_type": "code",
   "execution_count": 352,
   "metadata": {},
   "outputs": [],
   "source": [
    "# Finding the dominant topic in each Tweet\n",
    "\n",
    "\n",
    "def format_topics_sentences(ldamodel, corpus=corpus, texts=data_filtered):\n",
    "    # Init output\n",
    "    sent_topics_df = pd.DataFrame()\n",
    "\n",
    "    # Get main topic in each document\n",
    "    for i, row in enumerate(ldamodel[corpus]):\n",
    "        row = sorted(row, key=lambda x: (x[1]), reverse=True)\n",
    "        # Get the Dominant topic, Perc Contribution and Keywords for each document\n",
    "        for j, (topic_num, prop_topic) in enumerate(row):\n",
    "            if j == 0:  # => dominant topic\n",
    "                wp = ldamodel.show_topic(topic_num)\n",
    "                topic_keywords = \", \".join([word for word, prop in wp])\n",
    "                sent_topics_df = sent_topics_df.append(pd.Series([int(topic_num), round(prop_topic,4), topic_keywords]), ignore_index=True)\n",
    "            else:\n",
    "                break\n",
    "    sent_topics_df.columns = ['Dominant_Topic', 'Perc_Contribution', 'Topic_Keywords']\n",
    "\n",
    "    # Add original text to the end of the output\n",
    "    contents = pd.Series(texts)\n",
    "    sent_topics_df = pd.concat([sent_topics_df, contents], axis=1)\n",
    "    return(sent_topics_df)"
   ]
  },
  {
   "cell_type": "code",
   "execution_count": 353,
   "metadata": {
    "scrolled": true
   },
   "outputs": [],
   "source": [
    "df_topic_sents_keywords = format_topics_sentences(ldamodel=optimal_model, corpus=corpus, texts=data_filtered)\n",
    "\n",
    "# Format\n",
    "df_dominant_topic = df_topic_sents_keywords.reset_index()\n",
    "df_dominant_topic.columns = ['Document_No', 'Dominant_Topic', 'Topic_Perc_Contrib', 'Keywords', 'Text']\n",
    "\n"
   ]
  },
  {
   "cell_type": "code",
   "execution_count": 157,
   "metadata": {},
   "outputs": [
    {
     "data": {
      "text/plain": [
       "22384"
      ]
     },
     "execution_count": 157,
     "metadata": {},
     "output_type": "execute_result"
    }
   ],
   "source": [
    "# # Show\n",
    "len(df_dominant_topic)"
   ]
  },
  {
   "cell_type": "markdown",
   "metadata": {},
   "source": [
    "### Compute dominant topic for each Tweet"
   ]
  },
  {
   "cell_type": "code",
   "execution_count": 354,
   "metadata": {},
   "outputs": [
    {
     "data": {
      "text/html": [
       "<div>\n",
       "<style scoped>\n",
       "    .dataframe tbody tr th:only-of-type {\n",
       "        vertical-align: middle;\n",
       "    }\n",
       "\n",
       "    .dataframe tbody tr th {\n",
       "        vertical-align: top;\n",
       "    }\n",
       "\n",
       "    .dataframe thead th {\n",
       "        text-align: right;\n",
       "    }\n",
       "</style>\n",
       "<table border=\"1\" class=\"dataframe\">\n",
       "  <thead>\n",
       "    <tr style=\"text-align: right;\">\n",
       "      <th></th>\n",
       "      <th>Document_No</th>\n",
       "      <th>Dominant_Topic</th>\n",
       "      <th>Topic_Perc_Contrib</th>\n",
       "      <th>Keywords</th>\n",
       "      <th>Text</th>\n",
       "    </tr>\n",
       "  </thead>\n",
       "  <tbody>\n",
       "    <tr>\n",
       "      <th>0</th>\n",
       "      <td>2200</td>\n",
       "      <td>0.0</td>\n",
       "      <td>0.2000</td>\n",
       "      <td>issue, law, order, great, work, court, news, state, program, tackle</td>\n",
       "      <td>#afl (abc) Ronnie Burns fronts court on domestic violence order: Former Geelong AFL star and Foo...</td>\n",
       "    </tr>\n",
       "    <tr>\n",
       "      <th>1</th>\n",
       "      <td>2061</td>\n",
       "      <td>0.0</td>\n",
       "      <td>0.1911</td>\n",
       "      <td>issue, law, order, great, work, court, news, state, program, tackle</td>\n",
       "      <td>Ronnie Burns fronts court on domestic violence order: Former Geelong AFL star and Footy Show reg...</td>\n",
       "    </tr>\n",
       "    <tr>\n",
       "      <th>2</th>\n",
       "      <td>2060</td>\n",
       "      <td>0.0</td>\n",
       "      <td>0.1887</td>\n",
       "      <td>issue, law, order, great, work, court, news, state, program, tackle</td>\n",
       "      <td>Ronnie Burns fronts court on domestic violence order: Former Geelong AFL star and Footy Show reg...</td>\n",
       "    </tr>\n",
       "    <tr>\n",
       "      <th>3</th>\n",
       "      <td>1791</td>\n",
       "      <td>0.0</td>\n",
       "      <td>0.1819</td>\n",
       "      <td>issue, law, order, great, work, court, news, state, program, tackle</td>\n",
       "      <td>@Morning_Joe Your battle is not with Goddell,the battle is to change state laws on domestic viol...</td>\n",
       "    </tr>\n",
       "    <tr>\n",
       "      <th>4</th>\n",
       "      <td>2196</td>\n",
       "      <td>0.0</td>\n",
       "      <td>0.1771</td>\n",
       "      <td>issue, law, order, great, work, court, news, state, program, tackle</td>\n",
       "      <td>.@DanielleGreenMP States that the police association argues that family violence is the biggest ...</td>\n",
       "    </tr>\n",
       "  </tbody>\n",
       "</table>\n",
       "</div>"
      ],
      "text/plain": [
       "   Document_No  Dominant_Topic  Topic_Perc_Contrib  \\\n",
       "0         2200             0.0              0.2000   \n",
       "1         2061             0.0              0.1911   \n",
       "2         2060             0.0              0.1887   \n",
       "3         1791             0.0              0.1819   \n",
       "4         2196             0.0              0.1771   \n",
       "\n",
       "                                                              Keywords  \\\n",
       "0  issue, law, order, great, work, court, news, state, program, tackle   \n",
       "1  issue, law, order, great, work, court, news, state, program, tackle   \n",
       "2  issue, law, order, great, work, court, news, state, program, tackle   \n",
       "3  issue, law, order, great, work, court, news, state, program, tackle   \n",
       "4  issue, law, order, great, work, court, news, state, program, tackle   \n",
       "\n",
       "                                                                                                  Text  \n",
       "0  #afl (abc) Ronnie Burns fronts court on domestic violence order: Former Geelong AFL star and Foo...  \n",
       "1  Ronnie Burns fronts court on domestic violence order: Former Geelong AFL star and Footy Show reg...  \n",
       "2  Ronnie Burns fronts court on domestic violence order: Former Geelong AFL star and Footy Show reg...  \n",
       "3  @Morning_Joe Your battle is not with Goddell,the battle is to change state laws on domestic viol...  \n",
       "4  .@DanielleGreenMP States that the police association argues that family violence is the biggest ...  "
      ]
     },
     "execution_count": 354,
     "metadata": {},
     "output_type": "execute_result"
    }
   ],
   "source": [
    "# Group top 40 Tweets under each topic\n",
    "sent_topics_sorteddf_mallet = pd.DataFrame()\n",
    "\n",
    "sent_topics_outdf_grpd = df_dominant_topic.groupby('Dominant_Topic')\n",
    "\n",
    "for i, grp in sent_topics_outdf_grpd:\n",
    "    sent_topics_sorteddf_mallet = pd.concat([sent_topics_sorteddf_mallet, \n",
    "                                             grp.sort_values(['Topic_Perc_Contrib'], ascending=[0]).head(40)], \n",
    "                                            axis=0)\n",
    "\n",
    "# Reset Index    \n",
    "sent_topics_sorteddf_mallet.reset_index(drop=True, inplace=True)\n",
    "\n",
    "# # Format\n",
    "# sent_topics_sorteddf_mallet.columns = ['Topic_Num', \"Topic_Perc_Contrib\", \"Keywords\", \"Text\"]\n",
    "\n",
    "# Show\n",
    "sent_topics_sorteddf_mallet.head()"
   ]
  },
  {
   "cell_type": "markdown",
   "metadata": {},
   "source": [
    "## Most dominant topics and number of documents for each:"
   ]
  },
  {
   "cell_type": "code",
   "execution_count": 355,
   "metadata": {},
   "outputs": [
    {
     "data": {
      "text/html": [
       "<div>\n",
       "<style scoped>\n",
       "    .dataframe tbody tr th:only-of-type {\n",
       "        vertical-align: middle;\n",
       "    }\n",
       "\n",
       "    .dataframe tbody tr th {\n",
       "        vertical-align: top;\n",
       "    }\n",
       "\n",
       "    .dataframe thead th {\n",
       "        text-align: right;\n",
       "    }\n",
       "</style>\n",
       "<table border=\"1\" class=\"dataframe\">\n",
       "  <thead>\n",
       "    <tr style=\"text-align: right;\">\n",
       "      <th></th>\n",
       "      <th>Topic_Keywords</th>\n",
       "      <th>Num_Documents</th>\n",
       "      <th>Perc_Documents</th>\n",
       "    </tr>\n",
       "    <tr>\n",
       "      <th>Dominant_Topic_Num</th>\n",
       "      <th></th>\n",
       "      <th></th>\n",
       "      <th></th>\n",
       "    </tr>\n",
       "  </thead>\n",
       "  <tbody>\n",
       "    <tr>\n",
       "      <th>0</th>\n",
       "      <td>issue, law, order, great, work, court, news, state, program, tackle</td>\n",
       "      <td>330</td>\n",
       "      <td>9.7%</td>\n",
       "    </tr>\n",
       "    <tr>\n",
       "      <th>2</th>\n",
       "      <td>woman, justify, headlock_sometimes, senator, shelter, hit, cory_bernardi, escape, minister, voice</td>\n",
       "      <td>288</td>\n",
       "      <td>8.47%</td>\n",
       "    </tr>\n",
       "    <tr>\n",
       "      <th>3</th>\n",
       "      <td>#auspol, #domesticviolence, #vaw, campaign, address, terrorism, launch, refuge, male, #whiteribbon</td>\n",
       "      <td>278</td>\n",
       "      <td>8.17%</td>\n",
       "    </tr>\n",
       "    <tr>\n",
       "      <th>6</th>\n",
       "      <td>royal_commission, government, #9news, year, rosie_batty, #springst, victorian, announce, plan, p...</td>\n",
       "      <td>274</td>\n",
       "      <td>8.05%</td>\n",
       "    </tr>\n",
       "    <tr>\n",
       "      <th>5</th>\n",
       "      <td>men, stop, au, change, stand, national, article, read, fight, fail</td>\n",
       "      <td>272</td>\n",
       "      <td>8.0%</td>\n",
       "    </tr>\n",
       "    <tr>\n",
       "      <th>1</th>\n",
       "      <td>call, report, #dv, pm, join, mother, action, #today9, medium, #whiteribbonday</td>\n",
       "      <td>271</td>\n",
       "      <td>7.97%</td>\n",
       "    </tr>\n",
       "    <tr>\n",
       "      <th>4</th>\n",
       "      <td>child, abuse, #qanda, problem, watch, video, qld, assault, protect, forum</td>\n",
       "      <td>271</td>\n",
       "      <td>7.97%</td>\n",
       "    </tr>\n",
       "    <tr>\n",
       "      <th>7</th>\n",
       "      <td>song, good, story, #sbseurovision, tonight, victim, walk, end, important, prevent</td>\n",
       "      <td>257</td>\n",
       "      <td>7.55%</td>\n",
       "    </tr>\n",
       "    <tr>\n",
       "      <th>8</th>\n",
       "      <td>murder, kill, death, man, year, home, #whiteribbonday, hear, every_week, shock</td>\n",
       "      <td>247</td>\n",
       "      <td>7.26%</td>\n",
       "    </tr>\n",
       "    <tr>\n",
       "      <th>12</th>\n",
       "      <td>support, service, community, fund, cut, legal, prevention, raise, house, face</td>\n",
       "      <td>238</td>\n",
       "      <td>7.0%</td>\n",
       "    </tr>\n",
       "    <tr>\n",
       "      <th>9</th>\n",
       "      <td>nfl, case, experience, act, crime, end, white_ribbon, alcohol, player, protection</td>\n",
       "      <td>234</td>\n",
       "      <td>6.88%</td>\n",
       "    </tr>\n",
       "    <tr>\n",
       "      <th>11</th>\n",
       "      <td>speak, people, leave, week, die, partner, nsw, incident, christmas, love</td>\n",
       "      <td>227</td>\n",
       "      <td>6.67%</td>\n",
       "    </tr>\n",
       "    <tr>\n",
       "      <th>10</th>\n",
       "      <td>victim, police, rise, increase, labor, world_cup, england, govt, lose, justice</td>\n",
       "      <td>215</td>\n",
       "      <td>6.32%</td>\n",
       "    </tr>\n",
       "  </tbody>\n",
       "</table>\n",
       "</div>"
      ],
      "text/plain": [
       "                                                                                                         Topic_Keywords  \\\n",
       "Dominant_Topic_Num                                                                                                        \n",
       "0                                                   issue, law, order, great, work, court, news, state, program, tackle   \n",
       "2                     woman, justify, headlock_sometimes, senator, shelter, hit, cory_bernardi, escape, minister, voice   \n",
       "3                    #auspol, #domesticviolence, #vaw, campaign, address, terrorism, launch, refuge, male, #whiteribbon   \n",
       "6                   royal_commission, government, #9news, year, rosie_batty, #springst, victorian, announce, plan, p...   \n",
       "5                                                    men, stop, au, change, stand, national, article, read, fight, fail   \n",
       "1                                         call, report, #dv, pm, join, mother, action, #today9, medium, #whiteribbonday   \n",
       "4                                             child, abuse, #qanda, problem, watch, video, qld, assault, protect, forum   \n",
       "7                                     song, good, story, #sbseurovision, tonight, victim, walk, end, important, prevent   \n",
       "8                                        murder, kill, death, man, year, home, #whiteribbonday, hear, every_week, shock   \n",
       "12                                        support, service, community, fund, cut, legal, prevention, raise, house, face   \n",
       "9                                     nfl, case, experience, act, crime, end, white_ribbon, alcohol, player, protection   \n",
       "11                                             speak, people, leave, week, die, partner, nsw, incident, christmas, love   \n",
       "10                                       victim, police, rise, increase, labor, world_cup, england, govt, lose, justice   \n",
       "\n",
       "                    Num_Documents Perc_Documents  \n",
       "Dominant_Topic_Num                                \n",
       "0                             330           9.7%  \n",
       "2                             288          8.47%  \n",
       "3                             278          8.17%  \n",
       "6                             274          8.05%  \n",
       "5                             272           8.0%  \n",
       "1                             271          7.97%  \n",
       "4                             271          7.97%  \n",
       "7                             257          7.55%  \n",
       "8                             247          7.26%  \n",
       "12                            238           7.0%  \n",
       "9                             234          6.88%  \n",
       "11                            227          6.67%  \n",
       "10                            215          6.32%  "
      ]
     },
     "execution_count": 355,
     "metadata": {},
     "output_type": "execute_result"
    }
   ],
   "source": [
    "# Number of Documents for Each Topic\n",
    "series_topic_counts = df_topic_sents_keywords['Dominant_Topic'].value_counts()\n",
    "\n",
    "idx = []\n",
    "topic_counts = []\n",
    "keywords = []\n",
    "topic_contributions = []\n",
    "\n",
    "for (i, count) in series_topic_counts.iteritems():\n",
    "    idx.append(int(i))\n",
    "    keywords.append(\", \".join([word for word, _ in optimal_model.show_topic(int(i))]))\n",
    "    topic_counts.append(count)\n",
    "    topic_contributions.append(str(round(100*count/series_topic_counts.sum(), 2))+'%')\n",
    "    \n",
    "df_dominant_topics = pd.DataFrame.from_dict({\n",
    "    'Dominant_Topic_Num': idx,\n",
    "    'Topic_Keywords': keywords, \n",
    "    'Num_Documents': topic_counts, \n",
    "    'Perc_Documents': topic_contributions\n",
    "})\n",
    "\n",
    "# Show\n",
    "pd.options.display.max_colwidth = 100\n",
    "df_dominant_topics.set_index('Dominant_Topic_Num', inplace=True)\n",
    "df_dominant_topics"
   ]
  },
  {
   "cell_type": "markdown",
   "metadata": {},
   "source": [
    "# DF to Excel"
   ]
  },
  {
   "cell_type": "code",
   "execution_count": 356,
   "metadata": {},
   "outputs": [],
   "source": [
    "from pandas import ExcelWriter\n",
    "\n",
    "writer = ExcelWriter('output/2014/data/2014_13_clusters.xlsx')\n",
    "new_df = df_dominant_topics.copy()\n",
    "new_df.index += 1\n",
    "new_df.to_excel(writer,'topic_rank')\n",
    "\n",
    "for topic_no in range(13):\n",
    "    new_df = sent_topics_sorteddf_mallet.iloc[topic_no*40:((topic_no+1)*40),[0,4]]\n",
    "    new_df.set_index('Document_No', inplace=True)\n",
    "    \n",
    "    replied_texts = []\n",
    "    for i, row in new_df.iterrows():\n",
    "        if replied_ids[indices[i]]:\n",
    "            try:\n",
    "                text = api.get_status(replied_ids[indices[i]], tweet_mode='extended').full_text\n",
    "                replied_texts.append(text)\n",
    "            except:\n",
    "                replied_texts.append('')\n",
    "        else:\n",
    "            replied_texts.append('')\n",
    "            \n",
    "    new_df['In_Reply_To'] = replied_texts\n",
    "    \n",
    "    new_df.reset_index(inplace=True)\n",
    "    new_df.drop(['Document_No'], axis=1, inplace=True)\n",
    "    new_df.to_excel(writer,'topic_'+str(topic_no+1))\n",
    "    \n",
    "writer.save()"
   ]
  },
  {
   "cell_type": "markdown",
   "metadata": {},
   "source": [
    "# Evaluation"
   ]
  },
  {
   "cell_type": "code",
   "execution_count": 357,
   "metadata": {
    "scrolled": false
   },
   "outputs": [
    {
     "data": {
      "text/html": [
       "\n",
       "<link rel=\"stylesheet\" type=\"text/css\" href=\"https://cdn.rawgit.com/bmabey/pyLDAvis/files/ldavis.v1.0.0.css\">\n",
       "\n",
       "\n",
       "<div id=\"ldavis_el145421123245328882434317722\"></div>\n",
       "<script type=\"text/javascript\">\n",
       "\n",
       "var ldavis_el145421123245328882434317722_data = {\"mdsDat\": {\"x\": [0.18852877727855158, 0.002516394795823308, 0.011760768197011813, -0.1788763490219935, 0.1800477112700604, -0.27735149706810464, 0.14270290949127276, 0.11929546261467719, -0.031044002491205588, -0.0033473373066927117, -0.18961137494599645, -0.05244283165998385, 0.08782136884657964], \"y\": [0.1015463915515429, -0.28043787715466006, -0.039265449210093506, -0.018447582721218377, -0.11690333410774327, 0.07876904306170043, -0.008824842133650356, 0.1964712056078771, 0.11984378720813141, -0.028705472687683524, 0.1067544072975298, -0.23552805173448751, 0.1247277750227549], \"topics\": [1, 2, 3, 4, 5, 6, 7, 8, 9, 10, 11, 12, 13], \"cluster\": [1, 1, 1, 1, 1, 1, 1, 1, 1, 1, 1, 1, 1], \"Freq\": [7.727426459283461, 7.718795348298409, 7.710074569017535, 7.706070111235179, 7.706009293226939, 7.7018567929563115, 7.694910121208787, 7.690500477785915, 7.6893993175828745, 7.67172959877262, 7.670529448892749, 7.668184483016432, 7.644513978722793]}, \"tinfo\": {\"Category\": [\"Default\", \"Default\", \"Default\", \"Default\", \"Default\", \"Default\", \"Default\", \"Default\", \"Default\", \"Default\", \"Default\", \"Default\", \"Default\", \"Default\", \"Default\", \"Default\", \"Default\", \"Default\", \"Default\", \"Default\", \"Default\", \"Default\", \"Default\", \"Default\", \"Default\", \"Default\", \"Default\", \"Default\", \"Default\", \"Default\", \"Topic1\", \"Topic1\", \"Topic1\", \"Topic1\", \"Topic1\", \"Topic1\", \"Topic1\", \"Topic1\", \"Topic1\", \"Topic1\", \"Topic1\", \"Topic1\", \"Topic1\", \"Topic1\", \"Topic1\", \"Topic1\", \"Topic1\", \"Topic1\", \"Topic1\", \"Topic1\", \"Topic1\", \"Topic1\", \"Topic1\", \"Topic1\", \"Topic1\", \"Topic1\", \"Topic1\", \"Topic1\", \"Topic1\", \"Topic1\", \"Topic1\", \"Topic1\", \"Topic1\", \"Topic1\", \"Topic1\", \"Topic1\", \"Topic1\", \"Topic1\", \"Topic1\", \"Topic1\", \"Topic1\", \"Topic1\", \"Topic1\", \"Topic1\", \"Topic1\", \"Topic1\", \"Topic1\", \"Topic1\", \"Topic1\", \"Topic1\", \"Topic1\", \"Topic1\", \"Topic1\", \"Topic1\", \"Topic1\", \"Topic1\", \"Topic1\", \"Topic1\", \"Topic1\", \"Topic1\", \"Topic1\", \"Topic2\", \"Topic2\", \"Topic2\", \"Topic2\", \"Topic2\", \"Topic2\", \"Topic2\", \"Topic2\", \"Topic2\", \"Topic2\", \"Topic2\", \"Topic2\", \"Topic2\", \"Topic2\", \"Topic2\", \"Topic2\", \"Topic2\", \"Topic2\", \"Topic2\", \"Topic2\", \"Topic2\", \"Topic2\", \"Topic2\", \"Topic2\", \"Topic2\", \"Topic2\", \"Topic2\", \"Topic2\", \"Topic2\", \"Topic2\", \"Topic2\", \"Topic2\", \"Topic2\", \"Topic2\", \"Topic2\", \"Topic2\", \"Topic2\", \"Topic2\", \"Topic2\", \"Topic2\", \"Topic2\", \"Topic2\", \"Topic2\", \"Topic2\", \"Topic2\", \"Topic2\", \"Topic2\", \"Topic2\", \"Topic2\", \"Topic2\", \"Topic2\", \"Topic2\", \"Topic2\", \"Topic2\", \"Topic2\", \"Topic2\", \"Topic2\", \"Topic2\", \"Topic2\", \"Topic2\", \"Topic2\", \"Topic2\", \"Topic2\", \"Topic2\", \"Topic2\", \"Topic2\", \"Topic2\", \"Topic2\", \"Topic2\", \"Topic2\", \"Topic3\", \"Topic3\", \"Topic3\", \"Topic3\", \"Topic3\", \"Topic3\", \"Topic3\", \"Topic3\", \"Topic3\", \"Topic3\", \"Topic3\", \"Topic3\", \"Topic3\", \"Topic3\", \"Topic3\", \"Topic3\", \"Topic3\", \"Topic3\", \"Topic3\", \"Topic3\", \"Topic3\", \"Topic3\", \"Topic3\", \"Topic3\", \"Topic3\", \"Topic3\", \"Topic3\", \"Topic3\", \"Topic3\", \"Topic3\", \"Topic3\", \"Topic3\", \"Topic3\", \"Topic3\", \"Topic3\", \"Topic3\", \"Topic3\", \"Topic3\", \"Topic3\", \"Topic3\", \"Topic3\", \"Topic3\", \"Topic3\", \"Topic3\", \"Topic3\", \"Topic3\", \"Topic3\", \"Topic3\", \"Topic3\", \"Topic3\", \"Topic3\", \"Topic3\", \"Topic3\", \"Topic3\", \"Topic3\", \"Topic3\", \"Topic3\", \"Topic3\", \"Topic3\", \"Topic3\", \"Topic3\", \"Topic3\", \"Topic3\", \"Topic3\", \"Topic3\", \"Topic3\", \"Topic3\", \"Topic3\", \"Topic3\", \"Topic3\", \"Topic4\", \"Topic4\", \"Topic4\", \"Topic4\", \"Topic4\", \"Topic4\", \"Topic4\", \"Topic4\", \"Topic4\", \"Topic4\", \"Topic4\", \"Topic4\", \"Topic4\", \"Topic4\", \"Topic4\", \"Topic4\", \"Topic4\", \"Topic4\", \"Topic4\", \"Topic4\", \"Topic4\", \"Topic4\", \"Topic4\", \"Topic4\", \"Topic4\", \"Topic4\", \"Topic4\", \"Topic4\", \"Topic4\", \"Topic4\", \"Topic4\", \"Topic4\", \"Topic4\", \"Topic4\", \"Topic4\", \"Topic4\", \"Topic4\", \"Topic4\", \"Topic4\", \"Topic4\", \"Topic4\", \"Topic4\", \"Topic4\", \"Topic4\", \"Topic4\", \"Topic4\", \"Topic4\", \"Topic4\", \"Topic4\", \"Topic4\", \"Topic4\", \"Topic4\", \"Topic4\", \"Topic4\", \"Topic4\", \"Topic4\", \"Topic4\", \"Topic4\", \"Topic4\", \"Topic4\", \"Topic4\", \"Topic4\", \"Topic4\", \"Topic4\", \"Topic4\", \"Topic4\", \"Topic4\", \"Topic4\", \"Topic4\", \"Topic4\", \"Topic5\", \"Topic5\", \"Topic5\", \"Topic5\", \"Topic5\", \"Topic5\", \"Topic5\", \"Topic5\", \"Topic5\", \"Topic5\", \"Topic5\", \"Topic5\", \"Topic5\", \"Topic5\", \"Topic5\", \"Topic5\", \"Topic5\", \"Topic5\", \"Topic5\", \"Topic5\", \"Topic5\", \"Topic5\", \"Topic5\", \"Topic5\", \"Topic5\", \"Topic5\", \"Topic5\", \"Topic5\", \"Topic5\", \"Topic5\", \"Topic5\", \"Topic5\", \"Topic5\", \"Topic5\", \"Topic5\", \"Topic5\", \"Topic5\", \"Topic5\", \"Topic5\", \"Topic5\", \"Topic5\", \"Topic5\", \"Topic5\", \"Topic5\", \"Topic5\", \"Topic5\", \"Topic5\", \"Topic5\", \"Topic5\", \"Topic5\", \"Topic5\", \"Topic5\", \"Topic5\", \"Topic5\", \"Topic5\", \"Topic5\", \"Topic5\", \"Topic5\", \"Topic5\", \"Topic5\", \"Topic5\", \"Topic5\", \"Topic5\", \"Topic5\", \"Topic5\", \"Topic5\", \"Topic5\", \"Topic5\", \"Topic5\", \"Topic5\", \"Topic5\", \"Topic5\", \"Topic5\", \"Topic5\", \"Topic6\", \"Topic6\", \"Topic6\", \"Topic6\", \"Topic6\", \"Topic6\", \"Topic6\", \"Topic6\", \"Topic6\", \"Topic6\", \"Topic6\", \"Topic6\", \"Topic6\", \"Topic6\", \"Topic6\", \"Topic6\", \"Topic6\", \"Topic6\", \"Topic6\", \"Topic6\", \"Topic6\", \"Topic6\", \"Topic6\", \"Topic6\", \"Topic6\", \"Topic6\", \"Topic6\", \"Topic6\", \"Topic6\", \"Topic6\", \"Topic6\", \"Topic6\", \"Topic6\", \"Topic6\", \"Topic6\", \"Topic6\", \"Topic6\", \"Topic6\", \"Topic6\", \"Topic6\", \"Topic6\", \"Topic6\", \"Topic6\", \"Topic6\", \"Topic6\", \"Topic6\", \"Topic6\", \"Topic6\", \"Topic6\", \"Topic6\", \"Topic6\", \"Topic6\", \"Topic6\", \"Topic6\", \"Topic6\", \"Topic6\", \"Topic6\", \"Topic6\", \"Topic6\", \"Topic7\", \"Topic7\", \"Topic7\", \"Topic7\", \"Topic7\", \"Topic7\", \"Topic7\", \"Topic7\", \"Topic7\", \"Topic7\", \"Topic7\", \"Topic7\", \"Topic7\", \"Topic7\", \"Topic7\", \"Topic7\", \"Topic7\", \"Topic7\", \"Topic7\", \"Topic7\", \"Topic7\", \"Topic7\", \"Topic7\", \"Topic7\", \"Topic7\", \"Topic7\", \"Topic7\", \"Topic7\", \"Topic7\", \"Topic7\", \"Topic7\", \"Topic7\", \"Topic7\", \"Topic7\", \"Topic7\", \"Topic7\", \"Topic7\", \"Topic7\", \"Topic7\", \"Topic7\", \"Topic7\", \"Topic7\", \"Topic7\", \"Topic7\", \"Topic7\", \"Topic7\", \"Topic7\", \"Topic7\", \"Topic7\", \"Topic7\", \"Topic7\", \"Topic7\", \"Topic7\", \"Topic7\", \"Topic7\", \"Topic7\", \"Topic7\", \"Topic7\", \"Topic7\", \"Topic7\", \"Topic7\", \"Topic7\", \"Topic7\", \"Topic7\", \"Topic7\", \"Topic7\", \"Topic7\", \"Topic7\", \"Topic7\", \"Topic7\", \"Topic7\", \"Topic8\", \"Topic8\", \"Topic8\", \"Topic8\", \"Topic8\", \"Topic8\", \"Topic8\", \"Topic8\", \"Topic8\", \"Topic8\", \"Topic8\", \"Topic8\", \"Topic8\", \"Topic8\", \"Topic8\", \"Topic8\", \"Topic8\", \"Topic8\", \"Topic8\", \"Topic8\", \"Topic8\", \"Topic8\", \"Topic8\", \"Topic8\", \"Topic8\", \"Topic8\", \"Topic8\", \"Topic8\", \"Topic8\", \"Topic8\", \"Topic8\", \"Topic8\", \"Topic8\", \"Topic8\", \"Topic8\", \"Topic8\", \"Topic8\", \"Topic8\", \"Topic8\", \"Topic8\", \"Topic8\", \"Topic8\", \"Topic8\", \"Topic8\", \"Topic8\", \"Topic8\", \"Topic8\", \"Topic8\", \"Topic8\", \"Topic8\", \"Topic8\", \"Topic8\", \"Topic8\", \"Topic8\", \"Topic8\", \"Topic8\", \"Topic8\", \"Topic8\", \"Topic8\", \"Topic8\", \"Topic8\", \"Topic8\", \"Topic8\", \"Topic8\", \"Topic9\", \"Topic9\", \"Topic9\", \"Topic9\", \"Topic9\", \"Topic9\", \"Topic9\", \"Topic9\", \"Topic9\", \"Topic9\", \"Topic9\", \"Topic9\", \"Topic9\", \"Topic9\", \"Topic9\", \"Topic9\", \"Topic9\", \"Topic9\", \"Topic9\", \"Topic9\", \"Topic9\", \"Topic9\", \"Topic9\", \"Topic9\", \"Topic9\", \"Topic9\", \"Topic9\", \"Topic9\", \"Topic9\", \"Topic9\", \"Topic9\", \"Topic9\", \"Topic9\", \"Topic9\", \"Topic9\", \"Topic9\", \"Topic9\", \"Topic9\", \"Topic9\", \"Topic9\", \"Topic9\", \"Topic9\", \"Topic9\", \"Topic9\", \"Topic9\", \"Topic9\", \"Topic9\", \"Topic9\", \"Topic9\", \"Topic9\", \"Topic9\", \"Topic9\", \"Topic9\", \"Topic9\", \"Topic9\", \"Topic9\", \"Topic9\", \"Topic9\", \"Topic9\", \"Topic9\", \"Topic9\", \"Topic9\", \"Topic9\", \"Topic10\", \"Topic10\", \"Topic10\", \"Topic10\", \"Topic10\", \"Topic10\", \"Topic10\", \"Topic10\", \"Topic10\", \"Topic10\", \"Topic10\", \"Topic10\", \"Topic10\", \"Topic10\", \"Topic10\", \"Topic10\", \"Topic10\", \"Topic10\", \"Topic10\", \"Topic10\", \"Topic10\", \"Topic10\", \"Topic10\", \"Topic10\", \"Topic10\", \"Topic10\", \"Topic10\", \"Topic10\", \"Topic10\", \"Topic10\", \"Topic10\", \"Topic10\", \"Topic10\", \"Topic10\", \"Topic10\", \"Topic10\", \"Topic10\", \"Topic10\", \"Topic10\", \"Topic10\", \"Topic10\", \"Topic10\", \"Topic10\", \"Topic10\", \"Topic10\", \"Topic10\", \"Topic10\", \"Topic10\", \"Topic10\", \"Topic10\", \"Topic10\", \"Topic10\", \"Topic10\", \"Topic10\", \"Topic10\", \"Topic10\", \"Topic10\", \"Topic10\", \"Topic10\", \"Topic10\", \"Topic10\", \"Topic10\", \"Topic10\", \"Topic10\", \"Topic10\", \"Topic10\", \"Topic10\", \"Topic10\", \"Topic10\", \"Topic10\", \"Topic10\", \"Topic11\", \"Topic11\", \"Topic11\", \"Topic11\", \"Topic11\", \"Topic11\", \"Topic11\", \"Topic11\", \"Topic11\", \"Topic11\", \"Topic11\", \"Topic11\", \"Topic11\", \"Topic11\", \"Topic11\", \"Topic11\", \"Topic11\", \"Topic11\", \"Topic11\", \"Topic11\", \"Topic11\", \"Topic11\", \"Topic11\", \"Topic11\", \"Topic11\", \"Topic11\", \"Topic11\", \"Topic11\", \"Topic11\", \"Topic11\", \"Topic11\", \"Topic11\", \"Topic11\", \"Topic11\", \"Topic11\", \"Topic11\", \"Topic11\", \"Topic11\", \"Topic11\", \"Topic11\", \"Topic11\", \"Topic11\", \"Topic11\", \"Topic11\", \"Topic11\", \"Topic11\", \"Topic11\", \"Topic11\", \"Topic11\", \"Topic11\", \"Topic11\", \"Topic11\", \"Topic11\", \"Topic11\", \"Topic11\", \"Topic11\", \"Topic11\", \"Topic11\", \"Topic11\", \"Topic11\", \"Topic11\", \"Topic11\", \"Topic11\", \"Topic11\", \"Topic11\", \"Topic11\", \"Topic11\", \"Topic11\", \"Topic12\", \"Topic12\", \"Topic12\", \"Topic12\", \"Topic12\", \"Topic12\", \"Topic12\", \"Topic12\", \"Topic12\", \"Topic12\", \"Topic12\", \"Topic12\", \"Topic12\", \"Topic12\", \"Topic12\", \"Topic12\", \"Topic12\", \"Topic12\", \"Topic12\", \"Topic12\", \"Topic12\", \"Topic12\", \"Topic12\", \"Topic12\", \"Topic12\", \"Topic12\", \"Topic12\", \"Topic12\", \"Topic12\", \"Topic12\", \"Topic12\", \"Topic12\", \"Topic12\", \"Topic12\", \"Topic12\", \"Topic12\", \"Topic12\", \"Topic12\", \"Topic12\", \"Topic12\", \"Topic12\", \"Topic12\", \"Topic12\", \"Topic12\", \"Topic12\", \"Topic12\", \"Topic12\", \"Topic12\", \"Topic12\", \"Topic12\", \"Topic12\", \"Topic12\", \"Topic12\", \"Topic12\", \"Topic12\", \"Topic12\", \"Topic12\", \"Topic12\", \"Topic12\", \"Topic12\", \"Topic12\", \"Topic12\", \"Topic12\", \"Topic12\", \"Topic12\", \"Topic12\", \"Topic12\", \"Topic12\", \"Topic12\", \"Topic12\", \"Topic12\", \"Topic12\", \"Topic13\", \"Topic13\", \"Topic13\", \"Topic13\", \"Topic13\", \"Topic13\", \"Topic13\", \"Topic13\", \"Topic13\", \"Topic13\", \"Topic13\", \"Topic13\", \"Topic13\", \"Topic13\", \"Topic13\", \"Topic13\", \"Topic13\", \"Topic13\", \"Topic13\", \"Topic13\", \"Topic13\", \"Topic13\", \"Topic13\", \"Topic13\", \"Topic13\", \"Topic13\", \"Topic13\", \"Topic13\", \"Topic13\", \"Topic13\", \"Topic13\", \"Topic13\", \"Topic13\", \"Topic13\", \"Topic13\", \"Topic13\", \"Topic13\", \"Topic13\", \"Topic13\", \"Topic13\", \"Topic13\", \"Topic13\", \"Topic13\", \"Topic13\", \"Topic13\", \"Topic13\", \"Topic13\", \"Topic13\", \"Topic13\", \"Topic13\", \"Topic13\", \"Topic13\", \"Topic13\", \"Topic13\", \"Topic13\", \"Topic13\", \"Topic13\", \"Topic13\", \"Topic13\", \"Topic13\", \"Topic13\", \"Topic13\", \"Topic13\", \"Topic13\", \"Topic13\", \"Topic13\", \"Topic13\", \"Topic13\", \"Topic13\", \"Topic13\", \"Topic13\", \"Topic13\", \"Topic13\"], \"Freq\": [626.0, 306.0, 153.0, 147.0, 142.0, 145.0, 118.0, 117.0, 115.0, 116.0, 113.0, 123.0, 110.0, 96.0, 88.0, 84.0, 84.0, 78.0, 76.0, 89.0, 74.0, 71.0, 106.0, 70.0, 68.0, 67.0, 83.0, 67.0, 66.0, 66.0, 3.3390499230690516, 25.599382743529397, 12.24318305125319, 3.3390499230690516, 3.3390499230690516, 6.678099846138103, 6.678099846138103, 7.79111648716112, 3.3390499230690516, 7.79111648716112, 6.678099846138103, 3.3390499230690516, 3.3390499230690516, 10.017149769207155, 21.147316179437325, 3.3390499230690516, 13.356199692276206, 3.3390499230690516, 3.3390499230690516, 3.3390499230690516, 11.13016641023017, 10.017149769207155, 3.3390499230690516, 14.469216333299222, 3.3390499230690516, 3.3390499230690516, 3.3390499230690516, 10.017149769207155, 3.3390499230690516, 7.79111648716112, 57.87686533319689, 55.65083205115086, 51.19876548705879, 43.40764899989767, 41.181615717851635, 38.9555824358056, 35.616532512736555, 34.50351587171354, 33.39049923069052, 22.26033282046034, 83.47624807672629, 16.69524961534526, 13.356199692276206, 13.356199692276206, 12.24318305125319, 11.13016641023017, 11.13016641023017, 11.13016641023017, 11.13016641023017, 10.017149769207155, 10.017149769207155, 10.017149769207155, 70.12004838445009, 18.921282897391293, 16.69524961534526, 13.356199692276206, 22.26033282046034, 27.82541602557543, 12.24318305125319, 13.356199692276206, 13.356199692276206, 1.128687511726021, 1.128687511726021, 1.128687511726021, 1.128687511726021, 1.128687511726021, 3.3860625351780635, 1.128687511726021, 3.3860625351780635, 1.128687511726021, 5.643437558630106, 2.257375023452042, 1.128687511726021, 3.3860625351780635, 2.257375023452042, 1.128687511726021, 5.643437558630106, 1.128687511726021, 1.128687511726021, 5.643437558630106, 1.128687511726021, 1.128687511726021, 1.128687511726021, 1.128687511726021, 1.128687511726021, 1.128687511726021, 1.128687511726021, 1.128687511726021, 1.128687511726021, 5.643437558630106, 3.3860625351780635, 626.4215690079417, 27.08850028142451, 27.08850028142451, 24.831125257972467, 23.702437746246446, 23.702437746246446, 21.445062722794404, 16.930312675890317, 15.801625164164298, 12.415562628986233, 12.415562628986233, 12.415562628986233, 12.415562628986233, 11.286875117260212, 11.286875117260212, 10.158187605534192, 10.158187605534192, 9.029500093808169, 9.029500093808169, 9.029500093808169, 7.900812582082149, 7.900812582082149, 57.56306309802708, 6.772125070356127, 6.772125070356127, 5.643437558630106, 5.643437558630106, 5.643437558630106, 5.643437558630106, 42.89012544558881, 21.445062722794404, 5.643437558630106, 19.18768769934236, 16.930312675890317, 10.158187605534192, 15.801625164164298, 7.900812582082149, 12.415562628986233, 9.029500093808169, 7.900812582082149, 1.135384581495274, 9.083076651962193, 1.135384581495274, 1.135384581495274, 1.135384581495274, 1.135384581495274, 1.135384581495274, 1.135384581495274, 5.67692290747637, 1.135384581495274, 1.135384581495274, 2.270769162990548, 1.135384581495274, 11.35384581495274, 2.270769162990548, 11.35384581495274, 1.135384581495274, 1.135384581495274, 3.406153744485822, 10.218461233457466, 1.135384581495274, 6.812307488971644, 1.135384581495274, 2.270769162990548, 1.135384581495274, 1.135384581495274, 1.135384581495274, 1.135384581495274, 1.135384581495274, 1.135384581495274, 88.55999735663138, 68.12307488971645, 40.873844933829865, 31.79076828186767, 30.655383700372397, 20.436922466914933, 19.30153788541966, 19.30153788541966, 19.30153788541966, 17.030768722429112, 17.030768722429112, 15.895384140933835, 14.759999559438564, 13.624614977943288, 13.624614977943288, 12.489230396448015, 12.489230396448015, 12.489230396448015, 11.35384581495274, 10.218461233457466, 9.083076651962193, 9.083076651962193, 9.083076651962193, 7.947692070466918, 7.947692070466918, 7.947692070466918, 7.947692070466918, 32.926152863362944, 57.904613656258974, 26.113845374391303, 21.572307048410206, 28.38461453738185, 19.30153788541966, 22.70769162990548, 35.1969220263535, 31.79076828186767, 15.895384140933835, 14.759999559438564, 12.489230396448015, 12.489230396448015, 1.1368045577318, 1.1368045577318, 1.1368045577318, 1.1368045577318, 21.5992865969042, 7.957631904122601, 3.4104136731954005, 1.1368045577318, 1.1368045577318, 1.1368045577318, 1.1368045577318, 1.1368045577318, 1.1368045577318, 1.1368045577318, 7.957631904122601, 1.1368045577318, 1.1368045577318, 1.1368045577318, 1.1368045577318, 1.1368045577318, 1.1368045577318, 1.1368045577318, 1.1368045577318, 1.1368045577318, 1.1368045577318, 1.1368045577318, 1.1368045577318, 1.1368045577318, 3.4104136731954005, 1.1368045577318, 110.27004209998461, 78.43951448349421, 71.61868713710341, 45.47218230927201, 42.06176863607661, 34.10413673195401, 29.556918501026804, 21.5992865969042, 18.1888729237088, 18.1888729237088, 15.915263808245202, 15.915263808245202, 15.915263808245202, 14.778459250513402, 14.778459250513402, 14.778459250513402, 13.641654692781602, 13.641654692781602, 12.504850135049802, 11.368045577318002, 11.368045577318002, 11.368045577318002, 10.231241019586202, 9.0944364618544, 9.0944364618544, 7.957631904122601, 7.957631904122601, 7.957631904122601, 115.9540648886436, 28.420113943295004, 42.06176863607661, 17.052068365977004, 21.5992865969042, 13.641654692781602, 50.01940054019921, 29.556918501026804, 17.052068365977004, 12.504850135049802, 13.641654692781602, 12.504850135049802, 1.1496905805238269, 1.1496905805238269, 1.1496905805238269, 1.1496905805238269, 1.1496905805238269, 1.1496905805238269, 1.1496905805238269, 1.1496905805238269, 1.1496905805238269, 2.2993811610476538, 1.1496905805238269, 2.2993811610476538, 1.1496905805238269, 1.1496905805238269, 1.1496905805238269, 1.1496905805238269, 2.2993811610476538, 2.2993811610476538, 1.1496905805238269, 3.4490717415714807, 2.2993811610476538, 4.5987623220953076, 2.2993811610476538, 1.1496905805238269, 1.1496905805238269, 1.1496905805238269, 1.1496905805238269, 1.1496905805238269, 2.2993811610476538, 3.4490717415714807, 113.81936747185887, 45.987623220953076, 42.538551479381596, 40.23917031833394, 35.64040799623863, 26.44288335204802, 21.844121029952714, 21.844121029952714, 19.544739868905058, 18.39504928838123, 17.245358707857406, 17.245358707857406, 17.245358707857406, 14.945977546809749, 14.945977546809749, 14.945977546809749, 13.796286966285923, 12.646596385762095, 11.496905805238269, 11.496905805238269, 11.496905805238269, 11.496905805238269, 10.347215224714441, 10.347215224714441, 10.347215224714441, 10.347215224714441, 10.347215224714441, 10.347215224714441, 10.347215224714441, 10.347215224714441, 10.347215224714441, 10.347215224714441, 40.23917031833394, 44.837932640429244, 31.04164567414333, 68.98143483142962, 17.245358707857406, 27.592573932571845, 28.742264513095673, 12.646596385762095, 17.245358707857406, 19.544739868905058, 13.796286966285923, 14.945977546809749, 8.067579693364348, 10.372602462897019, 10.372602462897019, 24.202739080093043, 8.067579693364348, 20.745204925794038, 8.067579693364348, 16.135159386728695, 8.067579693364348, 33.42283015822373, 4.610045539065342, 9.220091078130684, 1.1525113847663355, 1.1525113847663355, 1.1525113847663355, 1.1525113847663355, 1.1525113847663355, 1.1525113847663355, 1.1525113847663355, 1.1525113847663355, 44.94794400588708, 1.1525113847663355, 1.1525113847663355, 5.762556923831678, 1.1525113847663355, 2.305022769532671, 1.1525113847663355, 1.1525113847663355, 1.1525113847663355, 1.1525113847663355, 47.25296677541976, 29.965296003924724, 140.60638894149292, 26.507761849625716, 26.507761849625716, 21.897716310560376, 18.44018215626137, 18.44018215626137, 18.44018215626137, 17.287670771495034, 13.830136617196025, 12.67762523242969, 12.67762523242969, 11.525113847663356, 11.525113847663356, 11.525113847663356, 11.525113847663356, 9.220091078130684, 35.7278529277564, 260.4675729571918, 19.592693541027703, 17.287670771495034, 12.67762523242969, 14.982648001962362, 14.982648001962362, 16.135159386728695, 19.592693541027703, 13.830136617196025, 11.525113847663356, 1.1258536529801368, 6.755121917880822, 1.1258536529801368, 1.1258536529801368, 1.1258536529801368, 1.1258536529801368, 2.2517073059602737, 3.377560958940411, 1.1258536529801368, 1.1258536529801368, 1.1258536529801368, 1.1258536529801368, 6.755121917880822, 1.1258536529801368, 5.629268264900685, 1.1258536529801368, 1.1258536529801368, 1.1258536529801368, 1.1258536529801368, 1.1258536529801368, 2.2517073059602737, 1.1258536529801368, 4.503414611920547, 1.1258536529801368, 6.755121917880822, 1.1258536529801368, 1.1258536529801368, 1.1258536529801368, 6.755121917880822, 1.1258536529801368, 115.9629262569541, 66.42536552582807, 40.530731507284926, 38.27902420132466, 33.775609589404105, 31.523902283443835, 28.146341324503425, 28.146341324503425, 22.51707305960274, 21.391219406622604, 20.265365753642463, 20.265365753642463, 20.265365753642463, 18.01365844768219, 18.01365844768219, 16.887804794702053, 15.761951141721918, 14.636097488741779, 13.510243835761644, 12.384390182781507, 11.25853652980137, 11.25853652980137, 11.25853652980137, 11.25853652980137, 10.132682876821232, 10.132682876821232, 9.006829223841095, 9.006829223841095, 9.006829223841095, 9.006829223841095, 9.006829223841095, 76.55804840264932, 67.55121917880821, 23.642926712582874, 16.887804794702053, 15.761951141721918, 18.01365844768219, 16.887804794702053, 25.894634018543147, 15.761951141721918, 19.13951210066233, 3.395505422965898, 13.582021691863591, 3.395505422965898, 6.791010845931796, 3.395505422965898, 6.791010845931796, 3.395505422965898, 3.395505422965898, 6.791010845931796, 6.791010845931796, 3.395505422965898, 3.395505422965898, 3.395505422965898, 13.582021691863591, 3.395505422965898, 3.395505422965898, 19.241197396806754, 6.791010845931796, 3.395505422965898, 6.791010845931796, 6.791010845931796, 13.582021691863591, 12.45018655087496, 3.395505422965898, 3.395505422965898, 6.791010845931796, 76.96478958722702, 3.395505422965898, 3.395505422965898, 6.791010845931796, 70.17377874129524, 56.591757049431635, 115.44718438084053, 37.35055965262488, 21.50486767878402, 16.977527114829492, 15.845691973840857, 73.56928416426113, 14.713856832852224, 11.318351409886327, 11.318351409886327, 10.186516268897694, 10.186516268897694, 9.054681127909062, 9.054681127909062, 9.054681127909062, 9.054681127909062, 9.054681127909062, 9.054681127909062, 9.054681127909062, 142.61122776456773, 21.50486767878402, 26.032208242738555, 12.45018655087496, 26.032208242738555, 19.241197396806754, 20.37303253779539, 20.37303253779539, 10.186516268897694, 13.582021691863591, 12.45018655087496, 14.713856832852224, 12.45018655087496, 10.186516268897694, 1.1270269146416179, 1.1270269146416179, 1.1270269146416179, 1.1270269146416179, 1.1270269146416179, 1.1270269146416179, 1.1270269146416179, 1.1270269146416179, 1.1270269146416179, 1.1270269146416179, 1.1270269146416179, 1.1270269146416179, 1.1270269146416179, 1.1270269146416179, 1.1270269146416179, 2.2540538292832357, 50.7162111588728, 1.1270269146416179, 1.1270269146416179, 1.1270269146416179, 2.2540538292832357, 5.635134573208089, 11.270269146416178, 23.667565207473974, 2.2540538292832357, 18.032430634265886, 10.14324223177456, 1.1270269146416179, 1.1270269146416179, 14.65134989034103, 67.62161487849707, 59.73242647600574, 46.20810350030633, 37.19188818317339, 33.810807439248535, 30.42972669532368, 28.175672866040447, 28.175672866040447, 28.175672866040447, 23.667565207473974, 22.540538292832355, 19.159457548907504, 19.159457548907504, 18.032430634265886, 18.032430634265886, 16.905403719624267, 15.77837680498265, 14.65134989034103, 13.524322975699414, 13.524322975699414, 12.397296061057796, 12.397296061057796, 11.270269146416178, 11.270269146416178, 10.14324223177456, 10.14324223177456, 22.540538292832355, 59.73242647600574, 15.77837680498265, 18.032430634265886, 23.667565207473974, 51.84323807351442, 15.77837680498265, 1.1747335948120563, 1.1747335948120563, 1.1747335948120563, 8.223135163684395, 1.1747335948120563, 1.1747335948120563, 1.1747335948120563, 4.698934379248225, 1.1747335948120563, 5.8736679740602815, 9.39786875849645, 1.1747335948120563, 1.1747335948120563, 11.747335948120563, 1.1747335948120563, 1.1747335948120563, 1.1747335948120563, 3.524200784436169, 1.1747335948120563, 2.3494671896241126, 1.1747335948120563, 1.1747335948120563, 1.1747335948120563, 1.1747335948120563, 1.1747335948120563, 1.1747335948120563, 1.1747335948120563, 1.1747335948120563, 21.145204706617015, 1.1747335948120563, 153.89010092037938, 118.64809307601769, 96.32815477458863, 49.33881098210636, 36.41674143917374, 22.31993830142907, 21.145204706617015, 21.145204706617015, 21.145204706617015, 17.621003922180844, 11.747335948120563, 11.747335948120563, 10.572602353308508, 9.39786875849645, 9.39786875849645, 9.39786875849645, 8.223135163684395, 8.223135163684395, 8.223135163684395, 8.223135163684395, 7.048401568872338, 7.048401568872338, 7.048401568872338, 5.8736679740602815, 5.8736679740602815, 32.89254065473758, 5.8736679740602815, 28.19360627548935, 5.8736679740602815, 31.71780705992552, 25.84413908586524, 43.465143008046084, 27.018872680677294, 32.89254065473758, 15.271536732556731, 28.19360627548935, 11.747335948120563, 29.368339870301405, 19.970471111804954, 11.747335948120563, 9.39786875849645, 1.1533485615392878, 1.1533485615392878, 2.3066971230785756, 1.1533485615392878, 2.3066971230785756, 1.1533485615392878, 2.3066971230785756, 9.226788492314302, 1.1533485615392878, 2.3066971230785756, 10.380137053853588, 1.1533485615392878, 1.1533485615392878, 1.1533485615392878, 1.1533485615392878, 1.1533485615392878, 1.1533485615392878, 1.1533485615392878, 20.760274107707176, 4.613394246157151, 1.1533485615392878, 2.3066971230785756, 1.1533485615392878, 9.226788492314302, 5.766742807696438, 1.1533485615392878, 1.1533485615392878, 1.1533485615392878, 1.1533485615392878, 3.460045684617863, 66.89421656927868, 64.5875194462001, 63.43417088466082, 58.820776638503666, 34.60045684617863, 27.680365476942903, 24.22031979232504, 23.066971230785754, 23.066971230785754, 20.760274107707176, 19.60692554616789, 19.60692554616789, 19.60692554616789, 19.60692554616789, 17.300228423089315, 16.146879861550026, 16.146879861550026, 13.840182738471452, 13.840182738471452, 13.840182738471452, 12.686834176932164, 12.686834176932164, 11.533485615392877, 10.380137053853588, 9.226788492314302, 9.226788492314302, 9.226788492314302, 9.226788492314302, 48.44063958465008, 9.226788492314302, 9.226788492314302, 9.226788492314302, 27.680365476942903, 43.82724533849293, 11.533485615392877, 38.0605025307965, 23.066971230785754, 46.13394246157151, 1.1969264848880727, 1.1969264848880727, 2.3938529697761455, 3.5907794546642187, 1.1969264848880727, 1.1969264848880727, 1.1969264848880727, 1.1969264848880727, 4.787705939552291, 3.5907794546642187, 1.1969264848880727, 1.1969264848880727, 1.1969264848880727, 1.1969264848880727, 1.1969264848880727, 1.1969264848880727, 2.3938529697761455, 1.1969264848880727, 1.1969264848880727, 4.787705939552291, 1.1969264848880727, 1.1969264848880727, 1.1969264848880727, 1.1969264848880727, 1.1969264848880727, 1.1969264848880727, 1.1969264848880727, 1.1969264848880727, 1.1969264848880727, 4.787705939552291, 117.29879551903113, 64.63403018395594, 43.08935345597062, 39.4985740013064, 34.71086806175411, 27.529309152425675, 27.529309152425675, 25.13545618264953, 23.938529697761453, 83.7848539421651, 19.150823758209164, 17.953897273321093, 16.75697078843302, 15.560044303544947, 14.363117818656875, 13.1661913337688, 11.969264848880727, 11.969264848880727, 11.969264848880727, 11.969264848880727, 11.969264848880727, 10.772338363992654, 10.772338363992654, 10.772338363992654, 9.575411879104582, 9.575411879104582, 9.575411879104582, 8.37848539421651, 8.37848539421651, 8.37848539421651, 136.44961927724032, 19.150823758209164, 23.938529697761453, 13.1661913337688, 22.741603212873382, 20.347750243097238, 17.953897273321093, 11.969264848880727, 14.363117818656875, 20.347750243097238, 17.953897273321093, 13.1661913337688, 2.358474127509659, 1.1792370637548295, 1.1792370637548295, 1.1792370637548295, 1.1792370637548295, 1.1792370637548295, 1.1792370637548295, 1.1792370637548295, 1.1792370637548295, 1.1792370637548295, 1.1792370637548295, 1.1792370637548295, 1.1792370637548295, 1.1792370637548295, 1.1792370637548295, 18.867793020077272, 1.1792370637548295, 5.8961853187741475, 1.1792370637548295, 1.1792370637548295, 4.716948255019318, 4.716948255019318, 2.358474127509659, 1.1792370637548295, 1.1792370637548295, 1.1792370637548295, 1.1792370637548295, 1.1792370637548295, 1.1792370637548295, 1.1792370637548295, 67.21651263402529, 63.6788014427608, 57.78261612398665, 41.273297231419036, 31.8394007213804, 28.30168953011591, 27.122452466361082, 25.943215402606253, 23.58474127509659, 22.405504211341764, 21.226267147586935, 20.047030083832105, 20.047030083832105, 15.330081828812787, 14.150844765057956, 14.150844765057956, 12.971607701303126, 12.971607701303126, 12.971607701303126, 12.971607701303126, 11.792370637548295, 10.613133573793467, 10.613133573793467, 9.433896510038636, 8.254659446283807, 8.254659446283807, 7.075422382528978, 7.075422382528978, 7.075422382528978, 47.16948255019318, 7.075422382528978, 34.19787484889006, 28.30168953011591, 28.30168953011591, 17.688555956322443, 15.330081828812787, 20.047030083832105, 14.150844765057956, 23.58474127509659, 25.943215402606253, 35.377111912644885, 17.688555956322443, 14.150844765057956], \"Term\": [\"woman\", \"victim\", \"child\", \"men\", \"police\", \"support\", \"abuse\", \"service\", \"#auspol\", \"stop\", \"call\", \"issue\", \"law\", \"#qanda\", \"murder\", \"community\", \"speak\", \"order\", \"au\", \"#domesticviolence\", \"change\", \"great\", \"report\", \"stand\", \"kill\", \"royal_commission\", \"people\", \"nfl\", \"song\", \"campaign\", \"#png\", \"team\", \"conference\", \"strange\", \"fiona\", \"gather\", \"#melbournecup\", \"solution\", \"#sunshine\", \"murdersuicide\", \"liberal\", \"stun\", \"york\", \"reason\", \"wrong\", \"weak\", \"#aca9\", \"elder\", \"cody\", \"poll\", \"point\", \"draft\", \"#asktony\", \"local\", \"engineer\", \"simone\", \"baby\", \"worry\", \"newman\", \"tony\", \"leave\", \"week\", \"die\", \"partner\", \"nsw\", \"incident\", \"christmas\", \"love\", \"group\", \"young\", \"speak\", \"special\", \"club\", \"ceo\", \"conversation\", \"taylor\", \"handle\", \"appal\", \"effect\", \"excellent\", \"russell_wilson\", \"sexual\", \"people\", \"spike\", \"write\", \"follow\", \"kid\", \"report\", \"ppl\", \"perpetrator\", \"#domesticviolence\", \"desperately\", \"#winnews\", \"stem\", \"pd\", \"bcos\", \"alive\", \"whoza\", \"#badenclay\", \"ash\", \"lgbt\", \"spur\", \"courtsboth\", \"cald\", \"#protectwomen\", \"underfunded\", \"shut\", \"yikes\", \"suarez\", \"prof\", \"concord\", \"promotion\", \"neighbourhood\", \"talkfestah\", \"pivot\", \"fence\", \"ethnicity\", \"socioeconomic\", \"map\", \"disgrace\", \"govts\", \"woman\", \"senator\", \"shelter\", \"hit\", \"cory_bernardi\", \"escape\", \"minister\", \"le\", \"aboriginal\", \"street\", \"tell_inquiry\", \"education\", \"bernardi\", \"girl\", \"project\", \"pet\", \"age\", \"vote\", \"name_shame\", \"safety\", \"grant\", \"headlock\", \"justify\", \"mate\", \"#alcohol\", \"appeal\", \"delilah\", \"hurdle\", \"anger\", \"headlock_sometimes\", \"voice\", \"glad\", \"brave\", \"fuck\", \"charandevsingh\", \"indigenous\", \"flee\", \"ignore\", \"miss\", \"human_right\", \"original\", \"door\", \"signature\", \"forage\", \"#prideofaustralia\", \"reunite\", \"braidex\", \"neon\", \"loss\", \"#masterchefau\", \"#office365\", \"shoebridge\", \"shoeys\", \"#vcoss2014\", \"clearinghouse\", \"past\", \"measuresitd\", \"recall\", \"advisory\", \"oz\", \"guidance\", \"date\", \"childcare\", \"peter\", \"korean\", \"#eastenders\", \"#adelaide's\", \"location\", \"#geelong\", \"spiro\", \"murder\", \"kill\", \"man\", \"hear\", \"every_week\", \"matter\", \"fact\", \"term\", \"public\", \"sydney\", \"take_seriously\", \"deserve\", \"#noexcuse4dfv\", \"interest\", \"jail\", \"#familyviolence\", \"brisbane\", \"book\", \"physical\", \"fiona_mccormack\", \"unite\", \"history\", \"senate_inquiry\", \"unit\", \"rip\", \"husband\", \"daily\", \"home\", \"death\", \"break\", \"learn\", \"shock\", \"advocate\", \"hand\", \"year\", \"#whiteribbonday\", \"charge\", \"happen\", \"terror\", \"people\", \"resolution\", \"violenceoutrage\", \"convey\", \"europe\", \"response\", \"introduce\", \"horror\", \"storyit\", \"jack\", \"provisional\", \"#hannibal\", \"flat\", \"readiness\", \"cheese\", \"battle\", \"property\", \"emma\", \"#thankyou\", \"#hedland.\", \"#brazil2014\", \"darlinghurst\", \"shaw\", \"caj\", \"voteworthy\", \"#eurovisiontve\", \"rotation\", \"postcode\", \"victcandidates\", \"#saynomore\", \"battery\", \"law\", \"order\", \"great\", \"court\", \"state\", \"program\", \"discuss\", \"ken_lay\", \"front\", \"long\", \"biggest\", \"intervention\", \"challenge\", \"melbourne_cup\", \"curb\", \"yr\", \"discussion\", \"cycle\", \"sexual_assault\", \"china\", \"#shinealight\", \"breach\", \"latest\", \"listen\", \"ban\", \"legislation\", \"rally\", \"bully\", \"issue\", \"attack\", \"news\", \"head\", \"open\", \"abc\", \"work\", \"tackle\", \"affect\", \"war\", \"push\", \"hand\", \"orange\", \"resident\", \"#horrific\", \"reactive\", \"#lol\", \"marxdeane\", \"#chaplain\", \"edition\", \"journal\", \"literally\", \"founder\", \"cdv\", \"societyguardian\", \"shltrs\", \"#criminology\", \"handy\", \"#acf\", \"nightcliff\", \"hassle\", \"agency\", \"#sayno2familyviolence\", \"treatment\", \"consultative\", \"psychology\", \"#domesticviolence?\", \"belong\", \"doin\", \"#hotshoes\", \"upcoming\", \"#brisbane\", \"call\", \"#dv\", \"join\", \"mother\", \"#today9\", \"queensland\", \"sa\", \"highlight\", \"sentence\", \"message\", \"bring\", \"luke\", \"amaze\", \"honour\", \"mp\", \"tv\", \"expert\", \"word\", \"tragedy\", \"green\", \"feed_square\", \"nov\", \"#9newscomau\", \"ad\", \"melb\", \"trial\", \"small\", \"host\", \"attacker\", \"yesterday\", \"grow\", \"attitude\", \"action\", \"pm\", \"medium\", \"report\", \"comment\", \"vic\", \"#whiteribbonday\", \"toy\", \"charge\", \"lead\", \"melbourne\", \"live\", \"strike\", \"season\", \"prison\", \"justice\", \"league\", \"fear\", \"stephen_smith\", \"reduce\", \"demand\", \"world_cup\", \"ab\", \"coroner\", \"stevens\", \"sapol\", \"preventionamp\", \"exceed\", \"revive\", \"knitcrochet\", \"ruchita\", \"wisadelaide\", \"increase\", \"lorna\", \"#supergoose\", \"fox\", \"simpson\", \"ballot\", \"typology\", \"hayley\", \"broader\", \"unfair\", \"rise\", \"england\", \"police\", \"govt\", \"lose\", \"pledge\", \"game\", \"royal\", \"culture\", \"guy\", \"mt\", \"warn\", \"uk\", \"#abcnews\", \"mention\", \"knock\", \"establish\", \"provide\", \"labor\", \"victim\", \"raise_awareness\", \"social\", \"chief\", \"#sun7\", \"meet\", \"win\", \"work\", \"victoria\", \"reveal\", \"sleeper\", \"pls\", \"#goss\", \"shirley\", \"hastings\", \"reaffirm\", \"status\", \"recommendation\", \"#pornisfake\", \"mei\", \"info\", \"annie\", \"#auslaw\", \"jetts\", \"west\", \"empathy\", \"pedophilia\", \"kickoff\", \"#blue\", \"exwife\", \"keen\", \"#charterstowers\", \"decrease\", \"#cdaa14\", \"#bendigo\", \"immediately\", \"clcnsw\", \"aggrevated\", \"nba\", \"trialled\", \"#auspol\", \"campaign\", \"address\", \"terrorism\", \"launch\", \"refuge\", \"male\", \"#whiteribbon\", \"gender\", \"suffer\", \"world\", \"powerful\", \"research\", \"#nomorefvdeaths\", \"money\", \"view\", \"concern\", \"shame\", \"reality\", \"current\", \"choice\", \"behaviour\", \"deny\", \"school\", \"witness\", \"major\", \"equality\", \"coverage\", \"friend\", \"create\", \"auvaa\", \"#domesticviolence\", \"#vaw\", \"policy\", \"nrl\", \"sad\", \"crisis\", \"high\", \"lead\", \"stats\", \"#whiteribbonday\", \"basis\", \"hundred\", \"intervene\", \"highprofile\", \"require\", \"retweet\", \"condemn\", \"immigration\", \"worth\", \"university\", \"accident\", \"torture\", \"vc\", \"vigil\", \"fairfield\", \"advice\", \"punch\", \"reflect\", \"connect\", \"equally\", \"rachelle_yeos\", \"charlie_pickering\", \"ive\", \"author\", \"mayang\", \"coalition\", \"au\", \"struggle\", \"extra\", \"dan\", \"stand\", \"national\", \"stop\", \"article\", \"fail\", \"south\", \"light\", \"change\", \"proud\", \"responsibility\", \"recognise\", \"#theprojecttv\", \"weve\", \"disaster\", \"indigenous_health\", \"may_fold\", \"business\", \"agency_fear\", \"follow_budget\", \"hop\", \"men\", \"urge\", \"read\", \"abbott\", \"fight\", \"statistic\", \"sign\", \"live\", \"cost\", \"priority\", \"remember\", \"kid\", \"#9news\", \"father\", \"emphasis\", \"creativity\", \"#familviolence\", \"average\", \"#clfboys\", \"yall\", \"hay\", \"lawyering\", \"#myvalentine\", \"#jh\", \"torrenting\", \"#stateoforigin\", \"bonethere\", \"notion\", \"pregnant\", \"wale\", \"rosie_batty\", \"psa\", \"ongoing\", \"socially\", \"curse\", \"sector\", \"andrew\", \"election\", \"victorianlabor\", \"promise\", \"inquiry\", \"bos\", \"oy\", \"mum\", \"royal_commission\", \"government\", \"#springst\", \"victorian\", \"announce\", \"plan\", \"premier\", \"scandal\", \"survivor\", \"national_emergency\", \"question\", \"force\", \"campaigner\", \"resource\", \"#9newsat6\", \"columbus_short\", \"daniel_andrew\", \"star\", \"antidomestic\", \"gps\", \"son\", \"abuser\", \"napthine\", \"outrage\", \"role\", \"summit\", \"detail\", \"#9news\", \"key\", \"candidate\", \"offender\", \"year\", \"million\", \"dramatica\", \"brick\", \"#nptech\", \"town\", \"motif\", \"employercharliepick\", \"cowocowo\", \"recent\", \"angelhands\", \"lift\", \"combat\", \"brilliant\", \"koori\", \"prove\", \"bug\", \"dc\", \"showcase\", \"comm\", \"maximise\", \"restore\", \"owner\", \"kyle\", \"periwinkle\", \"madigan\", \"timely\", \"comic\", \"mood\", \"julia\", \"bryce\", \"vivid\", \"child\", \"abuse\", \"#qanda\", \"problem\", \"video\", \"taskforce\", \"dame_quentin\", \"joke\", \"quentin_bryce\", \"play\", \"chair\", \"result\", \"card\", \"dead\", \"cultural\", \"difference\", \"acceptable\", \"tmz\", \"gg\", \"minute\", \"homeless\", \"regard\", \"allegation\", \"realise\", \"poverty\", \"assault\", \"injury\", \"silence\", \"assist\", \"protect\", \"excuse\", \"watch\", \"seek\", \"qld\", \"#qldpol\", \"start\", \"wow\", \"forum\", \"life\", \"rat\", \"perpetrator\", \"sincerely\", \"cloud\", \"gold\", \"stalker\", \"modern\", \"vega\", \"pop\", \"survive\", \"det\", \"#awkward\", \"migrant\", \"preventionsupport\", \"#gadens.\", \"reduction\", \"colonel\", \"district\", \"#celeb\", \"viclabor\", \"safe\", \"promote\", \"footage\", \"#aca\", \"#australianmagazine\", \"catchy\", \"upbeat\", \"itll\", \"semifinal\", \"src\", \"#uncoversecrets\", \"critical\", \"song\", \"good\", \"story\", \"#sbseurovision\", \"important\", \"share\", \"relationship\", \"hungary\", \"violent\", \"homelessness\", \"dance\", \"feel\", \"country\", \"stay\", \"initiative\", \"run\", \"#hungary\", \"interview\", \"nfls\", \"rape\", \"topic\", \"heart\", \"horrific\", \"debate\", \"hospital\", \"union\", \"ambassador\", \"abcnews\", \"tonight\", \"#eurovision\", \"wait\", \"#domestic_#violence\", \"prevent\", \"walk\", \"offer\", \"end\", \"life\", \"victim\", \"dameyon\", \"ineffectivewhat\", \"burswood\", \"#ausunions\", \"haunt\", \"meme\", \"#1u\", \"#misshumanityaustralia\", \"moment\", \"north\", \"#violenceisviolence\", \"highland\", \"#vicpol\\u201d\", \"arsonist\", \"vcoss\", \"#induced\", \"rotary\", \"analogy\", \"const\", \"darwin\", \"#stella\", \"#reflectionsection\", \"#vicpol\\u201d...about\", \"hint\", \"buster\", \"combo\", \"astoundingly\", \"resilience\", \"psychic\", \"rubbish\", \"service\", \"fund\", \"cut\", \"legal\", \"prevention\", \"house\", \"raise\", \"face\", \"place\", \"community\", \"xmas\", \"awareness\", \"donate\", \"adelaide\", \"party\", \"#violence\", \"survey\", \"explain\", \"dr\", \"cover\", \"confront\", \"nowhere_hide\", \"worker\", \"tomorrow\", \"online\", \"thousand\", \"eastern\", \"sack\", \"budget\", \"personal\", \"support\", \"sex\", \"centre\", \"post\", \"system\", \"night\", \"society\", \"#women\", \"aust\", \"vic\", \"tackle\", \"morning\", \"legacy\", \"thatd\", \"#hakuba\", \"explore\", \"violencejoin\", \"knimble\", \"syndrome\", \"presser\", \"tn\", \"lestes\", \"charm\", \"sexuality\", \"#qanda\\u201d\", \"offense\", \"#yellowday\", \"yahoo_sport\", \"notquiteapology\", \"black\", \"hinchey\", \"serial\", \"heartbreaking\", \"jump\", \"dream\", \"alburys\", \"contd\", \"summer\", \"um\", \"quantum\", \"wilson\", \"tchs\", \"nfl\", \"case\", \"experience\", \"crime\", \"alcohol\", \"protection\", \"commit\", \"claim\", \"impact\", \"silent\", \"offence\", \"drug\", \"review\", \"boy\", \"hotline\", \"homicide\", \"st\", \"brutal_murder\", \"accept\", \"mcdonald\", \"ray\", \"couple\", \"commissioner\", \"rate\", \"johnson\", \"porn\", \"praise\", \"jessica\", \"spur_sa\", \"act\", \"politics\", \"white_ribbon\", \"player\", \"march\", \"cop\", \"suspend\", \"ray_rice\", \"wife\", \"epidemic\", \"victoria\", \"end\", \"hope\", \"piece\"], \"Total\": [626.0, 306.0, 153.0, 147.0, 142.0, 145.0, 118.0, 117.0, 115.0, 116.0, 113.0, 123.0, 110.0, 96.0, 88.0, 84.0, 84.0, 78.0, 76.0, 89.0, 74.0, 71.0, 106.0, 70.0, 68.0, 67.0, 83.0, 67.0, 66.0, 66.0, 3.3390499230690516, 25.599382743529397, 12.24318305125319, 3.3390499230690516, 3.3390499230690516, 6.678099846138103, 6.678099846138103, 7.79111648716112, 3.3390499230690516, 7.79111648716112, 6.678099846138103, 3.3390499230690516, 3.3390499230690516, 10.017149769207155, 21.147316179437325, 3.3390499230690516, 13.356199692276206, 3.3390499230690516, 3.3390499230690516, 3.3390499230690516, 11.13016641023017, 10.017149769207155, 3.3390499230690516, 14.469216333299222, 3.3390499230690516, 3.3390499230690516, 3.3390499230690516, 10.017149769207155, 3.3390499230690516, 7.79111648716112, 57.87686533319689, 55.65083205115086, 51.19876548705879, 43.40764899989767, 41.181615717851635, 38.9555824358056, 35.616532512736555, 34.50351587171354, 33.39049923069052, 22.26033282046034, 84.60808321771492, 16.69524961534526, 13.356199692276206, 13.356199692276206, 12.24318305125319, 11.13016641023017, 11.13016641023017, 11.13016641023017, 11.13016641023017, 10.017149769207155, 10.017149769207155, 10.017149769207155, 83.74608333862992, 20.118209382279368, 17.8211032683254, 15.662896815354781, 40.38176337403491, 106.2407473670437, 14.506853333230456, 22.754068450772657, 89.91424809492553, 1.128687511726021, 1.128687511726021, 1.128687511726021, 1.128687511726021, 1.128687511726021, 3.3860625351780635, 1.128687511726021, 3.3860625351780635, 1.128687511726021, 5.643437558630106, 2.257375023452042, 1.128687511726021, 3.3860625351780635, 2.257375023452042, 1.128687511726021, 5.643437558630106, 1.128687511726021, 1.128687511726021, 5.643437558630106, 1.128687511726021, 1.128687511726021, 1.128687511726021, 1.128687511726021, 1.128687511726021, 1.128687511726021, 1.128687511726021, 1.128687511726021, 1.128687511726021, 5.643437558630106, 3.3860625351780635, 626.4215690079417, 27.08850028142451, 27.08850028142451, 24.831125257972467, 23.702437746246446, 23.702437746246446, 21.445062722794404, 16.930312675890317, 15.801625164164298, 12.415562628986233, 12.415562628986233, 12.415562628986233, 12.415562628986233, 11.286875117260212, 11.286875117260212, 10.158187605534192, 10.158187605534192, 9.029500093808169, 9.029500093808169, 9.029500093808169, 7.900812582082149, 7.900812582082149, 58.73779669283913, 6.772125070356127, 6.772125070356127, 5.643437558630106, 5.643437558630106, 5.643437558630106, 5.643437558630106, 44.069362509343634, 22.59475330331823, 5.643437558630106, 20.337378279866186, 18.062147816878948, 11.30787818605802, 20.253691728256367, 9.075546176894205, 25.109394919112574, 18.427368852304618, 10.294665551858294, 1.135384581495274, 9.083076651962193, 1.135384581495274, 1.135384581495274, 1.135384581495274, 1.135384581495274, 1.135384581495274, 1.135384581495274, 5.67692290747637, 1.135384581495274, 1.135384581495274, 2.270769162990548, 1.135384581495274, 11.35384581495274, 2.270769162990548, 11.35384581495274, 1.135384581495274, 1.135384581495274, 3.406153744485822, 10.218461233457466, 1.135384581495274, 6.812307488971644, 1.135384581495274, 2.270769162990548, 1.135384581495274, 1.135384581495274, 1.135384581495274, 1.135384581495274, 1.135384581495274, 1.135384581495274, 88.55999735663138, 68.12307488971645, 40.873844933829865, 31.79076828186767, 30.655383700372397, 20.436922466914933, 19.30153788541966, 19.30153788541966, 19.30153788541966, 17.030768722429112, 17.030768722429112, 15.895384140933835, 14.759999559438564, 13.624614977943288, 13.624614977943288, 12.489230396448015, 12.489230396448015, 12.489230396448015, 11.35384581495274, 10.218461233457466, 9.083076651962193, 9.083076651962193, 9.083076651962193, 7.947692070466918, 7.947692070466918, 7.947692070466918, 7.947692070466918, 34.052006516343084, 61.41643634530792, 27.23969902737144, 22.700994560136227, 31.79005879383408, 26.216606194017672, 35.21254176495528, 89.34518286940059, 80.86947138051374, 33.14074284879124, 27.016019622648873, 19.409321765683742, 83.74608333862992, 1.1368045577318, 1.1368045577318, 1.1368045577318, 1.1368045577318, 21.5992865969042, 7.957631904122601, 3.4104136731954005, 1.1368045577318, 1.1368045577318, 1.1368045577318, 1.1368045577318, 1.1368045577318, 1.1368045577318, 1.1368045577318, 7.957631904122601, 1.1368045577318, 1.1368045577318, 1.1368045577318, 1.1368045577318, 1.1368045577318, 1.1368045577318, 1.1368045577318, 1.1368045577318, 1.1368045577318, 1.1368045577318, 1.1368045577318, 1.1368045577318, 1.1368045577318, 3.4104136731954005, 1.1368045577318, 110.27004209998461, 78.43951448349421, 71.61868713710341, 45.47218230927201, 42.06176863607661, 34.10413673195401, 29.556918501026804, 21.5992865969042, 18.1888729237088, 18.1888729237088, 15.915263808245202, 15.915263808245202, 15.915263808245202, 14.778459250513402, 14.778459250513402, 14.778459250513402, 13.641654692781602, 13.641654692781602, 12.504850135049802, 11.368045577318002, 11.368045577318002, 11.368045577318002, 10.231241019586202, 9.0944364618544, 9.0944364618544, 7.957631904122601, 7.957631904122601, 7.957631904122601, 123.00246645751594, 29.555498524790277, 48.87407612504825, 18.22680196078906, 23.95776072441386, 14.820891756536431, 79.75533631300148, 49.81583854388057, 22.81462528980868, 13.657361519816137, 20.437603636178043, 35.21254176495528, 1.1496905805238269, 1.1496905805238269, 1.1496905805238269, 1.1496905805238269, 1.1496905805238269, 1.1496905805238269, 1.1496905805238269, 1.1496905805238269, 1.1496905805238269, 2.2993811610476538, 1.1496905805238269, 2.2993811610476538, 1.1496905805238269, 1.1496905805238269, 1.1496905805238269, 1.1496905805238269, 2.2993811610476538, 2.2993811610476538, 1.1496905805238269, 3.4490717415714807, 2.2993811610476538, 4.5987623220953076, 2.2993811610476538, 1.1496905805238269, 1.1496905805238269, 1.1496905805238269, 1.1496905805238269, 1.1496905805238269, 2.2993811610476538, 3.4490717415714807, 113.81936747185887, 45.987623220953076, 42.538551479381596, 40.23917031833394, 35.64040799623863, 26.44288335204802, 21.844121029952714, 21.844121029952714, 19.544739868905058, 18.39504928838123, 17.245358707857406, 17.245358707857406, 17.245358707857406, 14.945977546809749, 14.945977546809749, 14.945977546809749, 13.796286966285923, 12.646596385762095, 11.496905805238269, 11.496905805238269, 11.496905805238269, 11.496905805238269, 10.347215224714441, 10.347215224714441, 10.347215224714441, 10.347215224714441, 10.347215224714441, 10.347215224714441, 10.347215224714441, 10.347215224714441, 10.347215224714441, 10.347215224714441, 41.436096803222014, 48.2190133843541, 35.740580053391554, 106.2407473670437, 20.778566430179122, 47.94032417566908, 80.86947138051374, 16.237375840426314, 33.14074284879124, 45.439373887448205, 24.926453376516093, 35.31901008460514, 8.067579693364348, 10.372602462897019, 10.372602462897019, 24.202739080093043, 8.067579693364348, 20.745204925794038, 8.067579693364348, 16.135159386728695, 8.067579693364348, 33.42283015822373, 4.610045539065342, 9.220091078130684, 1.1525113847663355, 1.1525113847663355, 1.1525113847663355, 1.1525113847663355, 1.1525113847663355, 1.1525113847663355, 1.1525113847663355, 1.1525113847663355, 44.94794400588708, 1.1525113847663355, 1.1525113847663355, 5.762556923831678, 1.1525113847663355, 2.305022769532671, 1.1525113847663355, 1.1525113847663355, 1.1525113847663355, 1.1525113847663355, 47.25296677541976, 29.965296003924724, 142.87999805695654, 26.507761849625716, 26.507761849625716, 21.897716310560376, 18.44018215626137, 18.44018215626137, 18.44018215626137, 17.287670771495034, 13.830136617196025, 12.67762523242969, 12.67762523242969, 11.525113847663356, 11.525113847663356, 11.525113847663356, 11.525113847663356, 9.220091078130684, 36.84086956877942, 306.6015154187633, 20.71854719400784, 18.41352442447517, 13.852358827241748, 18.388801746448184, 23.36113339617887, 27.595391252466154, 79.75533631300148, 39.773352019802275, 13.9189668174395, 1.1258536529801368, 6.755121917880822, 1.1258536529801368, 1.1258536529801368, 1.1258536529801368, 1.1258536529801368, 2.2517073059602737, 3.377560958940411, 1.1258536529801368, 1.1258536529801368, 1.1258536529801368, 1.1258536529801368, 6.755121917880822, 1.1258536529801368, 5.629268264900685, 1.1258536529801368, 1.1258536529801368, 1.1258536529801368, 1.1258536529801368, 1.1258536529801368, 2.2517073059602737, 1.1258536529801368, 4.503414611920547, 1.1258536529801368, 6.755121917880822, 1.1258536529801368, 1.1258536529801368, 1.1258536529801368, 6.755121917880822, 1.1258536529801368, 115.9629262569541, 66.42536552582807, 40.530731507284926, 38.27902420132466, 33.775609589404105, 31.523902283443835, 28.146341324503425, 28.146341324503425, 22.51707305960274, 21.391219406622604, 20.265365753642463, 20.265365753642463, 20.265365753642463, 18.01365844768219, 18.01365844768219, 16.887804794702053, 15.761951141721918, 14.636097488741779, 13.510243835761644, 12.384390182781507, 11.25853652980137, 11.25853652980137, 11.25853652980137, 11.25853652980137, 10.132682876821232, 10.132682876821232, 9.006829223841095, 9.006829223841095, 9.006829223841095, 9.006829223841095, 9.006829223841095, 89.91424809492553, 79.34358981635651, 25.90659699456014, 18.023189376197326, 16.897335723217193, 21.42407212087759, 21.444560979201746, 45.439373887448205, 28.10320610830531, 80.86947138051374, 3.395505422965898, 13.582021691863591, 3.395505422965898, 6.791010845931796, 3.395505422965898, 6.791010845931796, 3.395505422965898, 3.395505422965898, 6.791010845931796, 6.791010845931796, 3.395505422965898, 3.395505422965898, 3.395505422965898, 13.582021691863591, 3.395505422965898, 3.395505422965898, 19.241197396806754, 6.791010845931796, 3.395505422965898, 6.791010845931796, 6.791010845931796, 13.582021691863591, 12.45018655087496, 3.395505422965898, 3.395505422965898, 6.791010845931796, 76.96478958722702, 3.395505422965898, 3.395505422965898, 6.791010845931796, 70.17377874129524, 56.591757049431635, 116.57303803382067, 37.35055965262488, 21.50486767878402, 16.977527114829492, 15.845691973840857, 74.7662106491492, 14.713856832852224, 11.318351409886327, 11.318351409886327, 10.186516268897694, 10.186516268897694, 9.054681127909062, 9.054681127909062, 9.054681127909062, 9.054681127909062, 9.054681127909062, 9.054681127909062, 9.054681127909062, 147.32817601958703, 22.65821624032331, 30.579426473665755, 13.577213465516579, 31.928393561512703, 23.693263960898825, 25.938115742910476, 35.31901008460514, 11.365753332652524, 22.588850915704686, 21.647711195065575, 40.38176337403491, 72.1826130268807, 12.464881306644166, 1.1270269146416179, 1.1270269146416179, 1.1270269146416179, 1.1270269146416179, 1.1270269146416179, 1.1270269146416179, 1.1270269146416179, 1.1270269146416179, 1.1270269146416179, 1.1270269146416179, 1.1270269146416179, 1.1270269146416179, 1.1270269146416179, 1.1270269146416179, 1.1270269146416179, 2.2540538292832357, 50.7162111588728, 1.1270269146416179, 1.1270269146416179, 1.1270269146416179, 2.2540538292832357, 5.635134573208089, 11.270269146416178, 23.667565207473974, 2.2540538292832357, 18.032430634265886, 10.14324223177456, 1.1270269146416179, 1.1270269146416179, 14.65134989034103, 67.62161487849707, 59.73242647600574, 46.20810350030633, 37.19188818317339, 33.810807439248535, 30.42972669532368, 28.175672866040447, 28.175672866040447, 28.175672866040447, 23.667565207473974, 22.540538292832355, 19.159457548907504, 19.159457548907504, 18.032430634265886, 18.032430634265886, 16.905403719624267, 15.77837680498265, 14.65134989034103, 13.524322975699414, 13.524322975699414, 12.397296061057796, 12.397296061057796, 11.270269146416178, 11.270269146416178, 10.14324223177456, 10.14324223177456, 23.666391945812492, 72.1826130268807, 16.930888189748984, 20.42628360404203, 29.56375052624812, 89.34518286940059, 18.030084110942923, 1.1747335948120563, 1.1747335948120563, 1.1747335948120563, 8.223135163684395, 1.1747335948120563, 1.1747335948120563, 1.1747335948120563, 4.698934379248225, 1.1747335948120563, 5.8736679740602815, 9.39786875849645, 1.1747335948120563, 1.1747335948120563, 11.747335948120563, 1.1747335948120563, 1.1747335948120563, 1.1747335948120563, 3.524200784436169, 1.1747335948120563, 2.3494671896241126, 1.1747335948120563, 1.1747335948120563, 1.1747335948120563, 1.1747335948120563, 1.1747335948120563, 1.1747335948120563, 1.1747335948120563, 1.1747335948120563, 21.145204706617015, 1.1747335948120563, 153.89010092037938, 118.64809307601769, 96.32815477458863, 49.33881098210636, 36.41674143917374, 22.31993830142907, 21.145204706617015, 21.145204706617015, 21.145204706617015, 17.621003922180844, 11.747335948120563, 11.747335948120563, 10.572602353308508, 9.39786875849645, 9.39786875849645, 9.39786875849645, 8.223135163684395, 8.223135163684395, 8.223135163684395, 8.223135163684395, 7.048401568872338, 7.048401568872338, 7.048401568872338, 5.8736679740602815, 5.8736679740602815, 34.005557295760596, 5.8736679740602815, 29.325441416477982, 5.8736679740602815, 33.94384034197155, 28.107809367842506, 50.220264925926905, 30.404935215855357, 38.87717307917794, 16.424048117323068, 34.96573134584548, 12.879171089109196, 42.90102051285447, 45.31415983775615, 18.519528294086744, 22.754068450772657, 1.1533485615392878, 1.1533485615392878, 2.3066971230785756, 1.1533485615392878, 2.3066971230785756, 1.1533485615392878, 2.3066971230785756, 9.226788492314302, 1.1533485615392878, 2.3066971230785756, 10.380137053853588, 1.1533485615392878, 1.1533485615392878, 1.1533485615392878, 1.1533485615392878, 1.1533485615392878, 1.1533485615392878, 1.1533485615392878, 20.760274107707176, 4.613394246157151, 1.1533485615392878, 2.3066971230785756, 1.1533485615392878, 9.226788492314302, 5.766742807696438, 1.1533485615392878, 1.1533485615392878, 1.1533485615392878, 1.1533485615392878, 3.460045684617863, 66.89421656927868, 64.5875194462001, 63.43417088466082, 58.820776638503666, 34.60045684617863, 27.680365476942903, 24.22031979232504, 23.066971230785754, 23.066971230785754, 20.760274107707176, 19.60692554616789, 19.60692554616789, 19.60692554616789, 19.60692554616789, 17.300228423089315, 16.146879861550026, 16.146879861550026, 13.840182738471452, 13.840182738471452, 13.840182738471452, 12.686834176932164, 12.686834176932164, 11.533485615392877, 10.380137053853588, 9.226788492314302, 9.226788492314302, 9.226788492314302, 9.226788492314302, 49.57744414238188, 9.226788492314302, 9.226788492314302, 9.226788492314302, 29.93441930622614, 54.0457065719504, 12.659339268373014, 74.56346809642153, 45.31415983775615, 306.6015154187633, 1.1969264848880727, 1.1969264848880727, 2.3938529697761455, 3.5907794546642187, 1.1969264848880727, 1.1969264848880727, 1.1969264848880727, 1.1969264848880727, 4.787705939552291, 3.5907794546642187, 1.1969264848880727, 1.1969264848880727, 1.1969264848880727, 1.1969264848880727, 1.1969264848880727, 1.1969264848880727, 2.3938529697761455, 1.1969264848880727, 1.1969264848880727, 4.787705939552291, 1.1969264848880727, 1.1969264848880727, 1.1969264848880727, 1.1969264848880727, 1.1969264848880727, 1.1969264848880727, 1.1969264848880727, 1.1969264848880727, 1.1969264848880727, 4.787705939552291, 117.29879551903113, 64.63403018395594, 43.08935345597062, 39.4985740013064, 34.71086806175411, 27.529309152425675, 27.529309152425675, 25.13545618264953, 23.938529697761453, 84.91354145389113, 19.150823758209164, 17.953897273321093, 16.75697078843302, 15.560044303544947, 14.363117818656875, 13.1661913337688, 11.969264848880727, 11.969264848880727, 11.969264848880727, 11.969264848880727, 11.969264848880727, 10.772338363992654, 10.772338363992654, 10.772338363992654, 9.575411879104582, 9.575411879104582, 9.575411879104582, 8.37848539421651, 8.37848539421651, 8.37848539421651, 145.64714392143094, 20.279511269935185, 28.47248755528834, 14.294878845494821, 29.50376470072309, 27.267841612332965, 28.172358506778558, 13.121776233647061, 18.88100312031353, 47.94032417566908, 49.81583854388057, 22.392979826083103, 2.358474127509659, 1.1792370637548295, 1.1792370637548295, 1.1792370637548295, 1.1792370637548295, 1.1792370637548295, 1.1792370637548295, 1.1792370637548295, 1.1792370637548295, 1.1792370637548295, 1.1792370637548295, 1.1792370637548295, 1.1792370637548295, 1.1792370637548295, 1.1792370637548295, 18.867793020077272, 1.1792370637548295, 5.8961853187741475, 1.1792370637548295, 1.1792370637548295, 4.716948255019318, 4.716948255019318, 2.358474127509659, 1.1792370637548295, 1.1792370637548295, 1.1792370637548295, 1.1792370637548295, 1.1792370637548295, 1.1792370637548295, 1.1792370637548295, 67.21651263402529, 63.6788014427608, 57.78261612398665, 41.273297231419036, 31.8394007213804, 28.30168953011591, 27.122452466361082, 25.943215402606253, 23.58474127509659, 22.405504211341764, 21.226267147586935, 20.047030083832105, 20.047030083832105, 15.330081828812787, 14.150844765057956, 14.150844765057956, 12.971607701303126, 12.971607701303126, 12.971607701303126, 12.971607701303126, 11.792370637548295, 10.613133573793467, 10.613133573793467, 9.433896510038636, 8.254659446283807, 8.254659446283807, 7.075422382528978, 7.075422382528978, 7.075422382528978, 48.301317691181815, 7.075422382528978, 35.35122341042935, 29.430377041841933, 29.4550380916552, 18.81558287096406, 16.479772409336615, 23.42811082775696, 15.347771249946028, 30.33986319297741, 39.773352019802275, 74.56346809642153, 28.4608943203151, 17.635696536177342], \"loglift\": [30.0, 29.0, 28.0, 27.0, 26.0, 25.0, 24.0, 23.0, 22.0, 21.0, 20.0, 19.0, 18.0, 17.0, 16.0, 15.0, 14.0, 13.0, 12.0, 11.0, 10.0, 9.0, 8.0, 7.0, 6.0, 5.0, 4.0, 3.0, 2.0, 1.0, 2.5604, 2.5604, 2.5604, 2.5604, 2.5604, 2.5604, 2.5604, 2.5604, 2.5604, 2.5604, 2.5604, 2.5604, 2.5604, 2.5604, 2.5604, 2.5604, 2.5604, 2.5604, 2.5604, 2.5604, 2.5604, 2.5604, 2.5604, 2.5604, 2.5604, 2.5604, 2.5604, 2.5604, 2.5604, 2.5604, 2.5604, 2.5604, 2.5604, 2.5604, 2.5604, 2.5604, 2.5604, 2.5604, 2.5604, 2.5604, 2.5469, 2.5604, 2.5604, 2.5604, 2.5604, 2.5604, 2.5604, 2.5604, 2.5604, 2.5604, 2.5604, 2.5604, 2.3828, 2.4991, 2.4951, 2.4011, 1.9648, 1.2206, 2.3907, 2.0276, 0.6535, 2.5615, 2.5615, 2.5615, 2.5615, 2.5615, 2.5615, 2.5615, 2.5615, 2.5615, 2.5615, 2.5615, 2.5615, 2.5615, 2.5615, 2.5615, 2.5615, 2.5615, 2.5615, 2.5615, 2.5615, 2.5615, 2.5615, 2.5615, 2.5615, 2.5615, 2.5615, 2.5615, 2.5615, 2.5615, 2.5615, 2.5615, 2.5615, 2.5615, 2.5615, 2.5615, 2.5615, 2.5615, 2.5615, 2.5615, 2.5615, 2.5615, 2.5615, 2.5615, 2.5615, 2.5615, 2.5615, 2.5615, 2.5615, 2.5615, 2.5615, 2.5615, 2.5615, 2.5413, 2.5615, 2.5615, 2.5615, 2.5615, 2.5615, 2.5615, 2.5344, 2.5093, 2.5615, 2.5033, 2.4968, 2.4543, 2.3133, 2.4229, 1.8572, 1.8482, 2.2969, 2.5626, 2.5626, 2.5626, 2.5626, 2.5626, 2.5626, 2.5626, 2.5626, 2.5626, 2.5626, 2.5626, 2.5626, 2.5626, 2.5626, 2.5626, 2.5626, 2.5626, 2.5626, 2.5626, 2.5626, 2.5626, 2.5626, 2.5626, 2.5626, 2.5626, 2.5626, 2.5626, 2.5626, 2.5626, 2.5626, 2.5626, 2.5626, 2.5626, 2.5626, 2.5626, 2.5626, 2.5626, 2.5626, 2.5626, 2.5626, 2.5626, 2.5626, 2.5626, 2.5626, 2.5626, 2.5626, 2.5626, 2.5626, 2.5626, 2.5626, 2.5626, 2.5626, 2.5626, 2.5626, 2.5626, 2.5626, 2.5626, 2.529, 2.5038, 2.5204, 2.5116, 2.4493, 2.2564, 2.1239, 1.6311, 1.629, 1.8279, 1.9581, 2.1218, 0.6597, 2.5632, 2.5632, 2.5632, 2.5632, 2.5632, 2.5632, 2.5632, 2.5632, 2.5632, 2.5632, 2.5632, 2.5632, 2.5632, 2.5632, 2.5632, 2.5632, 2.5632, 2.5632, 2.5632, 2.5632, 2.5632, 2.5632, 2.5632, 2.5632, 2.5632, 2.5632, 2.5632, 2.5632, 2.5632, 2.5632, 2.5632, 2.5632, 2.5632, 2.5632, 2.5632, 2.5632, 2.5632, 2.5632, 2.5632, 2.5632, 2.5632, 2.5632, 2.5632, 2.5632, 2.5632, 2.5632, 2.5632, 2.5632, 2.5632, 2.5632, 2.5632, 2.5632, 2.5632, 2.5632, 2.5632, 2.5632, 2.5632, 2.5632, 2.5042, 2.524, 2.4131, 2.4965, 2.4595, 2.4803, 2.0966, 2.0411, 2.272, 2.475, 2.1589, 1.5279, 2.5632, 2.5632, 2.5632, 2.5632, 2.5632, 2.5632, 2.5632, 2.5632, 2.5632, 2.5632, 2.5632, 2.5632, 2.5632, 2.5632, 2.5632, 2.5632, 2.5632, 2.5632, 2.5632, 2.5632, 2.5632, 2.5632, 2.5632, 2.5632, 2.5632, 2.5632, 2.5632, 2.5632, 2.5632, 2.5632, 2.5632, 2.5632, 2.5632, 2.5632, 2.5632, 2.5632, 2.5632, 2.5632, 2.5632, 2.5632, 2.5632, 2.5632, 2.5632, 2.5632, 2.5632, 2.5632, 2.5632, 2.5632, 2.5632, 2.5632, 2.5632, 2.5632, 2.5632, 2.5632, 2.5632, 2.5632, 2.5632, 2.5632, 2.5632, 2.5632, 2.5632, 2.5632, 2.5339, 2.4905, 2.4222, 2.1313, 2.3768, 2.0108, 1.5287, 2.3132, 1.9099, 1.7195, 1.9716, 1.7032, 2.5637, 2.5637, 2.5637, 2.5637, 2.5637, 2.5637, 2.5637, 2.5637, 2.5637, 2.5637, 2.5637, 2.5637, 2.5637, 2.5637, 2.5637, 2.5637, 2.5637, 2.5637, 2.5637, 2.5637, 2.5637, 2.5637, 2.5637, 2.5637, 2.5637, 2.5637, 2.5637, 2.5637, 2.5637, 2.5637, 2.5637, 2.5637, 2.5477, 2.5637, 2.5637, 2.5637, 2.5637, 2.5637, 2.5637, 2.5637, 2.5637, 2.5637, 2.5637, 2.5637, 2.5637, 2.5637, 2.5637, 2.5637, 2.533, 2.4006, 2.5078, 2.5006, 2.4751, 2.3589, 2.1195, 2.0271, 1.1599, 1.5074, 2.375, 2.5646, 2.5646, 2.5646, 2.5646, 2.5646, 2.5646, 2.5646, 2.5646, 2.5646, 2.5646, 2.5646, 2.5646, 2.5646, 2.5646, 2.5646, 2.5646, 2.5646, 2.5646, 2.5646, 2.5646, 2.5646, 2.5646, 2.5646, 2.5646, 2.5646, 2.5646, 2.5646, 2.5646, 2.5646, 2.5646, 2.5646, 2.5646, 2.5646, 2.5646, 2.5646, 2.5646, 2.5646, 2.5646, 2.5646, 2.5646, 2.5646, 2.5646, 2.5646, 2.5646, 2.5646, 2.5646, 2.5646, 2.5646, 2.5646, 2.5646, 2.5646, 2.5646, 2.5646, 2.5646, 2.5646, 2.5646, 2.5646, 2.5646, 2.5646, 2.5646, 2.5646, 2.4038, 2.4037, 2.4732, 2.4995, 2.4951, 2.3912, 2.3257, 2.0023, 1.9863, 1.1235, 2.5652, 2.5652, 2.5652, 2.5652, 2.5652, 2.5652, 2.5652, 2.5652, 2.5652, 2.5652, 2.5652, 2.5652, 2.5652, 2.5652, 2.5652, 2.5652, 2.5652, 2.5652, 2.5652, 2.5652, 2.5652, 2.5652, 2.5652, 2.5652, 2.5652, 2.5652, 2.5652, 2.5652, 2.5652, 2.5652, 2.5652, 2.5652, 2.5555, 2.5652, 2.5652, 2.5652, 2.5652, 2.549, 2.5652, 2.5652, 2.5652, 2.5652, 2.5652, 2.5652, 2.5652, 2.5652, 2.5652, 2.5652, 2.5652, 2.5652, 2.5326, 2.5129, 2.4042, 2.4785, 2.361, 2.357, 2.3237, 2.015, 2.4556, 2.0565, 2.012, 1.5556, 0.8077, 2.3633, 2.5653, 2.5653, 2.5653, 2.5653, 2.5653, 2.5653, 2.5653, 2.5653, 2.5653, 2.5653, 2.5653, 2.5653, 2.5653, 2.5653, 2.5653, 2.5653, 2.5653, 2.5653, 2.5653, 2.5653, 2.5653, 2.5653, 2.5653, 2.5653, 2.5653, 2.5653, 2.5653, 2.5653, 2.5653, 2.5653, 2.5653, 2.5653, 2.5653, 2.5653, 2.5653, 2.5653, 2.5653, 2.5653, 2.5653, 2.5653, 2.5653, 2.5653, 2.5653, 2.5653, 2.5653, 2.5653, 2.5653, 2.5653, 2.5653, 2.5653, 2.5653, 2.5653, 2.5653, 2.5653, 2.5653, 2.5653, 2.5166, 2.376, 2.4948, 2.4407, 2.3429, 2.021, 2.4319, 2.5676, 2.5676, 2.5676, 2.5676, 2.5676, 2.5676, 2.5676, 2.5676, 2.5676, 2.5676, 2.5676, 2.5676, 2.5676, 2.5676, 2.5676, 2.5676, 2.5676, 2.5676, 2.5676, 2.5676, 2.5676, 2.5676, 2.5676, 2.5676, 2.5676, 2.5676, 2.5676, 2.5676, 2.5676, 2.5676, 2.5676, 2.5676, 2.5676, 2.5676, 2.5676, 2.5676, 2.5676, 2.5676, 2.5676, 2.5676, 2.5676, 2.5676, 2.5676, 2.5676, 2.5676, 2.5676, 2.5676, 2.5676, 2.5676, 2.5676, 2.5676, 2.5676, 2.5676, 2.5676, 2.5676, 2.5344, 2.5676, 2.5283, 2.5676, 2.4998, 2.4837, 2.4232, 2.4496, 2.4005, 2.4949, 2.3524, 2.4756, 2.1886, 1.7483, 2.1124, 1.6834, 2.5678, 2.5678, 2.5678, 2.5678, 2.5678, 2.5678, 2.5678, 2.5678, 2.5678, 2.5678, 2.5678, 2.5678, 2.5678, 2.5678, 2.5678, 2.5678, 2.5678, 2.5678, 2.5678, 2.5678, 2.5678, 2.5678, 2.5678, 2.5678, 2.5678, 2.5678, 2.5678, 2.5678, 2.5678, 2.5678, 2.5678, 2.5678, 2.5678, 2.5678, 2.5678, 2.5678, 2.5678, 2.5678, 2.5678, 2.5678, 2.5678, 2.5678, 2.5678, 2.5678, 2.5678, 2.5678, 2.5678, 2.5678, 2.5678, 2.5678, 2.5678, 2.5678, 2.5678, 2.5678, 2.5678, 2.5678, 2.5678, 2.5678, 2.5446, 2.5678, 2.5678, 2.5678, 2.4895, 2.3582, 2.4746, 1.8953, 1.8926, 0.6738, 2.5681, 2.5681, 2.5681, 2.5681, 2.5681, 2.5681, 2.5681, 2.5681, 2.5681, 2.5681, 2.5681, 2.5681, 2.5681, 2.5681, 2.5681, 2.5681, 2.5681, 2.5681, 2.5681, 2.5681, 2.5681, 2.5681, 2.5681, 2.5681, 2.5681, 2.5681, 2.5681, 2.5681, 2.5681, 2.5681, 2.5681, 2.5681, 2.5681, 2.5681, 2.5681, 2.5681, 2.5681, 2.5681, 2.5681, 2.5547, 2.5681, 2.5681, 2.5681, 2.5681, 2.5681, 2.5681, 2.5681, 2.5681, 2.5681, 2.5681, 2.5681, 2.5681, 2.5681, 2.5681, 2.5681, 2.5681, 2.5681, 2.5681, 2.5681, 2.5681, 2.5029, 2.5108, 2.3946, 2.4858, 2.3078, 2.2754, 2.1176, 2.4762, 2.2946, 1.7111, 1.5476, 2.037, 2.5712, 2.5712, 2.5712, 2.5712, 2.5712, 2.5712, 2.5712, 2.5712, 2.5712, 2.5712, 2.5712, 2.5712, 2.5712, 2.5712, 2.5712, 2.5712, 2.5712, 2.5712, 2.5712, 2.5712, 2.5712, 2.5712, 2.5712, 2.5712, 2.5712, 2.5712, 2.5712, 2.5712, 2.5712, 2.5712, 2.5712, 2.5712, 2.5712, 2.5712, 2.5712, 2.5712, 2.5712, 2.5712, 2.5712, 2.5712, 2.5712, 2.5712, 2.5712, 2.5712, 2.5712, 2.5712, 2.5712, 2.5712, 2.5712, 2.5712, 2.5712, 2.5712, 2.5712, 2.5712, 2.5712, 2.5712, 2.5712, 2.5712, 2.5712, 2.5475, 2.5712, 2.538, 2.5321, 2.5312, 2.5094, 2.4989, 2.4153, 2.49, 2.3193, 2.1439, 1.8256, 2.0956, 2.351], \"logprob\": [30.0, 29.0, 28.0, 27.0, 26.0, 25.0, 24.0, 23.0, 22.0, 21.0, 20.0, 19.0, 18.0, 17.0, 16.0, 15.0, 14.0, 13.0, 12.0, 11.0, 10.0, 9.0, 8.0, 7.0, 6.0, 5.0, 4.0, 3.0, 2.0, 1.0, -6.3602, -4.3233, -5.0609, -6.3602, -6.3602, -5.667, -5.667, -5.5129, -6.3602, -5.5129, -5.667, -6.3602, -6.3602, -5.2615, -4.5143, -6.3602, -4.9739, -6.3602, -6.3602, -6.3602, -5.1562, -5.2615, -6.3602, -4.8938, -6.3602, -6.3602, -6.3602, -5.2615, -6.3602, -5.5129, -3.5075, -3.5467, -3.6301, -3.7952, -3.8478, -3.9034, -3.993, -4.0248, -4.0576, -4.463, -3.1413, -4.7507, -4.9739, -4.9739, -5.0609, -5.1562, -5.1562, -5.1562, -5.1562, -5.2615, -5.2615, -5.2615, -3.3156, -4.6255, -4.7507, -4.9739, -4.463, -4.2399, -5.0609, -4.9739, -4.9739, -7.4437, -7.4437, -7.4437, -7.4437, -7.4437, -6.3451, -7.4437, -6.3451, -7.4437, -5.8342, -6.7505, -7.4437, -6.3451, -6.7505, -7.4437, -5.8342, -7.4437, -7.4437, -5.8342, -7.4437, -7.4437, -7.4437, -7.4437, -7.4437, -7.4437, -7.4437, -7.4437, -7.4437, -5.8342, -6.3451, -1.1247, -4.2656, -4.2656, -4.3526, -4.3991, -4.3991, -4.4992, -4.7356, -4.8046, -5.0458, -5.0458, -5.0458, -5.0458, -5.1411, -5.1411, -5.2464, -5.2464, -5.3642, -5.3642, -5.3642, -5.4978, -5.4978, -3.5118, -5.6519, -5.6519, -5.8342, -5.8342, -5.8342, -5.8342, -3.8061, -4.4992, -5.8342, -4.6105, -4.7356, -5.2464, -4.8046, -5.4978, -5.0458, -5.3642, -5.4978, -7.4366, -5.3572, -7.4366, -7.4366, -7.4366, -7.4366, -7.4366, -7.4366, -5.8272, -7.4366, -7.4366, -6.7435, -7.4366, -5.134, -6.7435, -5.134, -7.4366, -7.4366, -6.338, -5.2394, -7.4366, -5.6449, -7.4366, -6.7435, -7.4366, -7.4366, -7.4366, -7.4366, -7.4366, -7.4366, -3.0799, -3.3423, -3.8531, -4.1044, -4.1408, -4.5462, -4.6034, -4.6034, -4.6034, -4.7286, -4.7286, -4.7976, -4.8717, -4.9517, -4.9517, -5.0387, -5.0387, -5.0387, -5.134, -5.2394, -5.3572, -5.3572, -5.3572, -5.4907, -5.4907, -5.4907, -5.4907, -4.0693, -3.5048, -4.3011, -4.4922, -4.2177, -4.6034, -4.4409, -4.0026, -4.1044, -4.7976, -4.8717, -5.0387, -5.0387, -7.4348, -7.4348, -7.4348, -7.4348, -4.4904, -5.4889, -6.3362, -7.4348, -7.4348, -7.4348, -7.4348, -7.4348, -7.4348, -7.4348, -5.4889, -7.4348, -7.4348, -7.4348, -7.4348, -7.4348, -7.4348, -7.4348, -7.4348, -7.4348, -7.4348, -7.4348, -7.4348, -7.4348, -6.3362, -7.4348, -2.8601, -3.2007, -3.2917, -3.746, -3.8239, -4.0337, -4.1768, -4.4904, -4.6623, -4.6623, -4.7958, -4.7958, -4.7958, -4.8699, -4.8699, -4.8699, -4.9499, -4.9499, -5.037, -5.1323, -5.1323, -5.1323, -5.2376, -5.3554, -5.3554, -5.4889, -5.4889, -5.4889, -2.8099, -4.216, -3.8239, -4.7268, -4.4904, -4.9499, -3.6507, -4.1768, -4.7268, -5.037, -4.9499, -5.037, -7.4236, -7.4236, -7.4236, -7.4236, -7.4236, -7.4236, -7.4236, -7.4236, -7.4236, -6.7304, -7.4236, -6.7304, -7.4236, -7.4236, -7.4236, -7.4236, -6.7304, -6.7304, -7.4236, -6.325, -6.7304, -6.0373, -6.7304, -7.4236, -7.4236, -7.4236, -7.4236, -7.4236, -6.7304, -6.325, -2.8284, -3.7347, -3.8127, -3.8682, -3.9896, -4.2881, -4.4791, -4.4791, -4.5904, -4.651, -4.7155, -4.7155, -4.7155, -4.8586, -4.8586, -4.8586, -4.9387, -5.0257, -5.121, -5.121, -5.121, -5.121, -5.2263, -5.2263, -5.2263, -5.2263, -5.2263, -5.2263, -5.2263, -5.2263, -5.2263, -5.2263, -3.8682, -3.76, -4.1277, -3.3292, -4.7155, -4.2455, -4.2047, -5.0257, -4.7155, -4.5904, -4.9387, -4.8586, -5.4747, -5.2234, -5.2234, -4.3761, -5.4747, -4.5302, -5.4747, -4.7815, -5.4747, -4.0533, -6.0343, -5.3411, -7.4206, -7.4206, -7.4206, -7.4206, -7.4206, -7.4206, -7.4206, -7.4206, -3.757, -7.4206, -7.4206, -5.8111, -7.4206, -6.7274, -7.4206, -7.4206, -7.4206, -7.4206, -3.707, -4.1625, -2.6166, -4.2851, -4.2851, -4.4761, -4.648, -4.648, -4.648, -4.7125, -4.9357, -5.0227, -5.0227, -5.118, -5.118, -5.118, -5.118, -5.3411, -3.9866, -2.0, -4.5874, -4.7125, -5.0227, -4.8556, -4.8556, -4.7815, -4.5874, -4.9357, -5.118, -7.4431, -5.6513, -7.4431, -7.4431, -7.4431, -7.4431, -6.7499, -6.3445, -7.4431, -7.4431, -7.4431, -7.4431, -5.6513, -7.4431, -5.8336, -7.4431, -7.4431, -7.4431, -7.4431, -7.4431, -6.7499, -7.4431, -6.0568, -7.4431, -5.6513, -7.4431, -7.4431, -7.4431, -5.6513, -7.4431, -2.8083, -3.3655, -3.8596, -3.9167, -4.0419, -4.1109, -4.2242, -4.2242, -4.4473, -4.4986, -4.5527, -4.5527, -4.5527, -4.6705, -4.6705, -4.735, -4.804, -4.8781, -4.9582, -5.0452, -5.1405, -5.1405, -5.1405, -5.1405, -5.2459, -5.2459, -5.3636, -5.3636, -5.3636, -5.3636, -5.3636, -3.2236, -3.3487, -4.3986, -4.735, -4.804, -4.6705, -4.735, -4.3076, -4.804, -4.6099, -6.3386, -4.9523, -6.3386, -5.6454, -6.3386, -5.6454, -6.3386, -6.3386, -5.6454, -5.6454, -6.3386, -6.3386, -6.3386, -4.9523, -6.3386, -6.3386, -4.604, -5.6454, -6.3386, -5.6454, -5.6454, -4.9523, -5.0393, -6.3386, -6.3386, -5.6454, -3.2177, -6.3386, -6.3386, -5.6454, -3.3101, -3.5252, -2.8122, -3.9407, -4.4928, -4.7292, -4.7981, -3.2628, -4.8723, -5.1346, -5.1346, -5.24, -5.24, -5.3578, -5.3578, -5.3578, -5.3578, -5.3578, -5.3578, -5.3578, -2.6009, -4.4928, -4.3017, -5.0393, -4.3017, -4.604, -4.5468, -4.5468, -5.24, -4.9523, -5.0393, -4.8723, -5.0393, -5.24, -7.4413, -7.4413, -7.4413, -7.4413, -7.4413, -7.4413, -7.4413, -7.4413, -7.4413, -7.4413, -7.4413, -7.4413, -7.4413, -7.4413, -7.4413, -6.7482, -3.6347, -7.4413, -7.4413, -7.4413, -6.7482, -5.8319, -5.1387, -4.3968, -6.7482, -4.6687, -5.2441, -7.4413, -7.4413, -4.8764, -3.347, -3.471, -3.7277, -3.9448, -4.0401, -4.1455, -4.2224, -4.2224, -4.2224, -4.3968, -4.4456, -4.6081, -4.6081, -4.6687, -4.6687, -4.7333, -4.8023, -4.8764, -4.9564, -4.9564, -5.0434, -5.0434, -5.1387, -5.1387, -5.2441, -5.2441, -4.4456, -3.471, -4.8023, -4.6687, -4.3968, -3.6127, -4.8023, -7.3976, -7.3976, -7.3976, -5.4517, -7.3976, -7.3976, -7.3976, -6.0113, -7.3976, -5.7881, -5.3181, -7.3976, -7.3976, -5.095, -7.3976, -7.3976, -7.3976, -6.2989, -7.3976, -6.7044, -7.3976, -7.3976, -7.3976, -7.3976, -7.3976, -7.3976, -7.3976, -7.3976, -4.5072, -7.3976, -2.5224, -2.7824, -2.9908, -3.6599, -3.9636, -4.4531, -4.5072, -4.5072, -4.5072, -4.6895, -5.095, -5.095, -5.2003, -5.3181, -5.3181, -5.3181, -5.4517, -5.4517, -5.4517, -5.4517, -5.6058, -5.6058, -5.6058, -5.7881, -5.7881, -4.0654, -5.7881, -4.2195, -5.7881, -4.1017, -4.3065, -3.7866, -4.2621, -4.0654, -4.8326, -4.2195, -5.095, -4.1787, -4.5643, -5.095, -5.3181, -7.4158, -7.4158, -6.7226, -7.4158, -6.7226, -7.4158, -6.7226, -5.3363, -7.4158, -6.7226, -5.2186, -7.4158, -7.4158, -7.4158, -7.4158, -7.4158, -7.4158, -7.4158, -4.5254, -6.0295, -7.4158, -6.7226, -7.4158, -5.3363, -5.8063, -7.4158, -7.4158, -7.4158, -7.4158, -6.3172, -3.3553, -3.3904, -3.4084, -3.484, -4.0146, -4.2377, -4.3713, -4.42, -4.42, -4.5254, -4.5826, -4.5826, -4.5826, -4.5826, -4.7077, -4.7767, -4.7767, -4.9309, -4.9309, -4.9309, -5.0179, -5.0179, -5.1132, -5.2186, -5.3363, -5.3363, -5.3363, -5.3363, -3.6781, -5.3363, -5.3363, -5.3363, -4.2377, -3.7782, -5.1132, -3.9193, -4.42, -3.7269, -7.3784, -7.3784, -6.6852, -6.2798, -7.3784, -7.3784, -7.3784, -7.3784, -5.9921, -6.2798, -7.3784, -7.3784, -7.3784, -7.3784, -7.3784, -7.3784, -6.6852, -7.3784, -7.3784, -5.9921, -7.3784, -7.3784, -7.3784, -7.3784, -7.3784, -7.3784, -7.3784, -7.3784, -7.3784, -5.9921, -2.7934, -3.3894, -3.7949, -3.8819, -4.0111, -4.2429, -4.2429, -4.3339, -4.3827, -3.1299, -4.6058, -4.6703, -4.7393, -4.8134, -4.8935, -4.9805, -5.0758, -5.0758, -5.0758, -5.0758, -5.0758, -5.1812, -5.1812, -5.1812, -5.2989, -5.2989, -5.2989, -5.4325, -5.4325, -5.4325, -2.6422, -4.6058, -4.3827, -4.9805, -4.4339, -4.5452, -4.6703, -5.0758, -4.8935, -4.5452, -4.6703, -4.9805, -6.697, -7.3902, -7.3902, -7.3902, -7.3902, -7.3902, -7.3902, -7.3902, -7.3902, -7.3902, -7.3902, -7.3902, -7.3902, -7.3902, -7.3902, -4.6176, -7.3902, -5.7807, -7.3902, -7.3902, -6.0039, -6.0039, -6.697, -7.3902, -7.3902, -7.3902, -7.3902, -7.3902, -7.3902, -7.3902, -3.3471, -3.4012, -3.4984, -3.8348, -4.0943, -4.2121, -4.2547, -4.2991, -4.3944, -4.4457, -4.4998, -4.557, -4.557, -4.8252, -4.9053, -4.9053, -4.9923, -4.9923, -4.9923, -4.9923, -5.0876, -5.193, -5.193, -5.3107, -5.4443, -5.4443, -5.5984, -5.5984, -5.5984, -3.7013, -5.5984, -4.0229, -4.2121, -4.2121, -4.6821, -4.8252, -4.557, -4.9053, -4.3944, -4.2991, -3.989, -4.6821, -4.9053]}, \"token.table\": {\"Topic\": [12, 8, 9, 9, 5, 6, 11, 1, 5, 3, 2, 1, 7, 7, 11, 12, 11, 2, 7, 7, 4, 5, 7, 11, 5, 7, 9, 5, 11, 1, 7, 5, 5, 3, 11, 4, 9, 3, 11, 3, 7, 13, 4, 4, 5, 5, 11, 12, 9, 5, 3, 1, 12, 9, 3, 7, 10, 3, 1, 7, 3, 2, 10, 13, 6, 10, 12, 5, 4, 11, 4, 9, 9, 12, 3, 6, 1, 6, 4, 8, 5, 11, 7, 13, 3, 12, 12, 12, 12, 7, 3, 5, 7, 12, 2, 6, 12, 13, 6, 8, 9, 4, 13, 11, 2, 10, 9, 13, 10, 8, 8, 13, 5, 12, 5, 7, 12, 8, 3, 3, 6, 4, 6, 2, 5, 8, 7, 13, 13, 2, 10, 5, 11, 12, 9, 10, 2, 7, 9, 9, 1, 2, 12, 8, 2, 1, 10, 10, 12, 3, 4, 5, 5, 8, 4, 9, 12, 8, 7, 9, 12, 1, 6, 4, 8, 4, 4, 2, 7, 5, 2, 4, 13, 9, 3, 9, 13, 3, 2, 5, 4, 3, 7, 10, 10, 5, 3, 6, 13, 10, 12, 10, 4, 12, 8, 12, 4, 2, 5, 7, 9, 9, 12, 10, 13, 11, 5, 1, 2, 12, 13, 1, 10, 4, 8, 12, 2, 5, 3, 5, 8, 13, 4, 6, 10, 10, 3, 4, 7, 1, 13, 7, 3, 11, 1, 8, 1, 11, 9, 10, 12, 10, 10, 5, 10, 13, 13, 13, 2, 12, 7, 2, 8, 1, 12, 8, 12, 5, 13, 1, 4, 9, 13, 6, 2, 8, 13, 11, 13, 4, 2, 12, 7, 10, 7, 9, 13, 4, 7, 11, 10, 6, 4, 7, 9, 12, 4, 3, 10, 12, 8, 11, 9, 4, 12, 3, 10, 10, 3, 11, 13, 11, 7, 2, 6, 7, 3, 2, 11, 7, 9, 1, 10, 8, 4, 4, 2, 11, 5, 12, 3, 12, 1, 10, 13, 13, 12, 5, 2, 1, 1, 9, 4, 7, 9, 10, 7, 11, 13, 1, 6, 7, 13, 7, 8, 2, 6, 2, 4, 3, 6, 1, 8, 10, 13, 5, 12, 13, 8, 7, 12, 3, 8, 8, 6, 7, 8, 6, 5, 11, 2, 8, 13, 1, 3, 4, 2, 10, 1, 11, 8, 11, 3, 9, 3, 9, 10, 5, 6, 7, 4, 2, 8, 12, 6, 1, 7, 10, 2, 2, 11, 11, 9, 6, 2, 9, 2, 4, 5, 1, 5, 3, 6, 3, 4, 1, 5, 1, 3, 7, 5, 7, 12, 9, 6, 4, 10, 2, 2, 13, 3, 11, 13, 2, 5, 7, 12, 5, 8, 13, 12, 3, 2, 3, 7, 10, 11, 13, 5, 8, 12, 13, 11, 4, 11, 5, 13, 12, 2, 12, 8, 11, 2, 3, 2, 5, 12, 7, 8, 13, 11, 1, 6, 1, 2, 8, 12, 7, 11, 10, 9, 3, 8, 4, 11, 4, 4, 10, 11, 8, 4, 3, 13, 7, 13, 5, 10, 5, 10, 13, 6, 2, 10, 7, 4, 6, 9, 7, 1, 3, 4, 8, 3, 13, 6, 6, 10, 3, 10, 1, 6, 4, 7, 4, 9, 2, 5, 7, 6, 2, 3, 1, 13, 12, 4, 13, 2, 1, 5, 9, 10, 11, 10, 8, 4, 5, 5, 8, 1, 3, 4, 6, 6, 3, 1, 5, 10, 7, 7, 3, 2, 11, 13, 5, 2, 3, 10, 8, 8, 13, 3, 5, 10, 6, 12, 7, 5, 1, 5, 4, 12, 8, 13, 6, 5, 11, 7, 9, 2, 10, 2, 10, 11, 12, 7, 10, 11, 12, 5, 10, 5, 6, 9, 3, 1, 2, 9, 8, 9, 7, 2, 3, 1, 3, 4, 13, 11, 11, 12, 5, 12, 9, 13, 5, 12, 3, 7, 1, 13, 9, 13, 13, 7, 11, 9, 12, 4, 13, 5, 4, 3, 9, 10, 9, 3, 1, 12, 3, 2, 7, 1, 3, 4, 10, 1, 10, 12, 2, 3, 3, 3, 10, 13, 2, 12, 9, 10, 2, 13, 6, 7, 5, 9, 1, 4, 6, 7, 8, 13, 1, 11, 13, 2, 12, 4, 10, 7, 1, 8, 13, 9, 9, 13, 9, 11, 12, 6, 11, 7, 8, 6, 10, 2, 4, 2, 9, 11, 2, 4, 1, 10, 13, 8, 10, 6, 4, 9, 12, 5, 3, 8, 2, 4, 6, 10, 12, 13, 5, 10, 9, 8, 12, 6, 7, 4, 11, 1, 8, 10, 13, 13, 9, 13, 5, 4, 8, 4, 7, 10, 7, 1, 3, 10, 8, 7, 6, 11, 8, 7, 10, 11, 5, 8, 1, 5, 13, 8, 7, 5, 12, 4, 9, 4, 8, 10, 10, 8, 3, 6, 12, 13, 6, 3, 6, 9, 9, 12, 4, 6, 9, 12, 6, 11, 1, 5, 12, 3, 7, 11, 2, 6, 9, 7, 6, 9, 2, 10, 11, 3, 2, 5, 13, 12, 2, 12, 1, 4, 13, 7, 11, 4, 2, 7, 5, 3, 4, 8, 3, 3, 10, 2, 1, 8, 3, 8, 10, 13, 1, 6, 11, 7, 5, 6, 7, 9, 3, 12, 5, 2, 1, 9, 11, 8, 1, 8, 1, 1, 12, 3, 2, 13, 11, 13, 11, 8, 9, 2, 10, 4, 1, 8, 1, 7, 9, 7, 11, 2, 6, 6, 7, 8, 11, 4, 1, 2, 6, 8, 1, 2, 7, 13, 9, 5, 12, 12, 11, 9, 5, 13, 3, 13, 9, 12, 4, 6, 12, 3, 2, 10, 1, 13, 1, 2, 3, 3, 11, 7, 13, 12, 10, 10, 13, 12, 4, 11, 1, 11, 9, 8, 10, 5, 12, 5, 5, 5, 7, 5, 6, 6, 13, 2, 6, 11, 3, 3, 8, 11, 5, 8, 11, 8, 12, 11, 5, 12, 11, 4, 6, 11, 6, 13, 9, 9, 10, 7, 8, 13, 4, 11, 10, 2, 5, 2, 4, 11, 9, 3, 11, 4, 6, 6, 7, 10, 1, 1, 7, 8, 11, 13, 2, 12, 13, 13, 1, 5, 6, 6, 7, 2, 5, 4, 6, 9, 12, 7, 6, 1, 8, 8, 10, 1, 7, 1, 12, 13, 9, 3, 6, 9, 5, 2, 1, 1, 4], \"Freq\": [0.8354731995871177, 0.16624502074386274, 0.8312251037193138, 0.9982015383880496, 0.966443606596187, 1.0412044651891161, 0.8670405750238896, 0.9733307602100174, 0.8697992459365682, 0.8807588338772613, 1.0336489546894754, 0.8984591632707852, 1.036250727240168, 1.0003197034107585, 0.8670405750238896, 1.1139642661161568, 0.8670405750238896, 0.8859848183052645, 1.036250727240168, 0.8882149090630013, 0.879658682927206, 0.8697992459365682, 0.8882149090630013, 0.8670405750238896, 0.8697992459365682, 0.8882149090630013, 0.887290256344933, 0.8697992459365682, 0.9754206469018758, 0.14458220221421925, 0.8563715054226833, 0.8697992459365682, 1.0002691328270534, 0.8807588338772613, 0.9754206469018758, 0.879658682927206, 0.887290256344933, 0.9608278187751942, 0.8670405750238896, 0.8807588338772613, 0.8882149090630013, 0.8480059105468433, 0.879658682927206, 0.879658682927206, 0.8697992459365682, 0.8697992459365682, 0.9909035143130168, 0.8354731995871177, 0.887290256344933, 0.8697992459365682, 0.8807588338772613, 1.0482023571492496, 0.8354731995871177, 0.887290256344933, 1.0162601929353015, 0.9992417726958764, 0.8512568333929263, 0.8807588338772613, 0.8984591632707852, 0.8882149090630013, 0.8807588338772613, 0.8859848183052645, 0.9965933659234258, 0.8480059105468433, 0.060886329171506874, 0.913294937572603, 0.8354731995871177, 0.8697992459365682, 0.8796586829272058, 1.0030469397335195, 0.9676245512199263, 0.9954963851674858, 0.887290256344933, 0.8354731995871177, 0.16314276706906436, 0.8157138353453218, 0.8984591632707852, 0.8676703876575967, 0.879658682927206, 0.9816898865152573, 1.0100894468940793, 0.8670405750238896, 0.8570320571250728, 0.15124095125736578, 0.9688347172649876, 0.8354731995871177, 0.8354731995871177, 0.9873774176938663, 0.8354731995871177, 0.9948006981505613, 0.3956993838803638, 0.3586025666415797, 0.234946509178966, 0.012365605746261369, 0.8859848183052645, 0.0762091947152539, 0.9145103365830469, 0.8480059105468433, 1.084587984571996, 0.8838337874319803, 0.0736528156193317, 0.9446125260192664, 0.06747232328709045, 0.9754206469018758, 1.0125540780631594, 1.0029659720174082, 0.9679530069217451, 1.0021888033735418, 0.9728649524490586, 0.8835208978637317, 0.020703368930710685, 0.9730583397434023, 0.965341889945813, 0.024133547248645325, 0.966443606596187, 1.0115780908773069, 1.0282747071841447, 0.8835208978637317, 0.8807588338772614, 0.724731487340096, 0.267006337441088, 0.7451360600515284, 0.2629891976652453, 0.9844275758947383, 0.8697992459365682, 0.993961010096698, 0.8882149090630013, 0.8480059105468433, 1.0050440421295919, 0.8859848183052645, 0.9931329722917474, 0.9857724787281105, 0.9754206469018758, 0.8354731995871177, 0.9760192819794263, 0.8512568333929263, 1.0631817819663174, 0.8882149090630013, 1.0055956238575907, 1.0351719657357552, 0.988305079597864, 1.0631817819663174, 0.8354731995871177, 0.9906143400290324, 0.8859848183052645, 0.02940695814224071, 0.9704296186939434, 1.0215082000715117, 0.8354731995871177, 0.0338346517539276, 0.9473702491099728, 0.966443606596187, 0.966443606596187, 1.0004574872868726, 0.05296328768274651, 0.15888986304823954, 0.7414860275584512, 0.8835208978637317, 0.9992417726958764, 0.887290256344933, 1.0025678395045412, 0.8984591632707852, 0.8676703876575967, 0.9896160182931066, 0.8835208978637317, 0.879658682927206, 1.0053242090596637, 0.8859848183052645, 0.9770363999693013, 0.8697992459365682, 0.9665288926966522, 1.0053242090596637, 1.017607092656212, 0.887290256344933, 0.9608278187751942, 0.887290256344933, 0.9784683583232804, 0.8807588338772613, 0.9342403793909769, 0.04917054628373563, 0.9676245512199263, 0.9544892538597528, 0.03671112514845203, 0.8512568333929263, 0.8512568333929263, 0.9857724787281105, 0.9608278187751942, 0.8676703876575967, 1.0021888033735418, 0.9931329722917472, 0.9548265138138488, 0.8512568333929263, 1.0053242090596637, 0.8354731995871177, 0.993961010096698, 0.8354731995871177, 0.879658682927206, 0.8859848183052645, 1.0015870104724118, 0.993596338951832, 0.9916773453266897, 0.88121756991752, 0.09791306332416888, 1.0404250185913542, 1.0050440421295919, 0.9754206469018758, 0.8697992459365682, 0.07024324784114375, 0.03512162392057187, 0.8429189740937251, 0.03512162392057187, 0.9733307602100174, 1.0215082000715117, 1.0053242090596637, 0.9897519127625077, 0.013375025848141996, 0.8843392045317078, 0.08843392045317078, 0.482789419446691, 0.5129637581621092, 1.0307743808410204, 0.8480059105468433, 0.879658682927206, 0.9384683260178391, 0.07218987123214148, 1.0007141400191653, 0.8807588338772613, 0.9676245512199263, 0.9770363999693013, 1.0107665586796333, 1.0021888033735418, 0.8882149090630013, 0.8807588338772613, 0.8670405750238896, 0.9733307602100174, 1.0307743808410204, 0.8984591632707852, 0.8670405750238896, 1.0055956238575907, 0.957663937567042, 0.8354731995871177, 0.8512568333929263, 1.1350091111905685, 0.8181507640156025, 0.04812651553032956, 0.09625303106065912, 1.0364516684461416, 0.9954851993375984, 0.01177668464744236, 0.9892415103851582, 1.0151027532148584, 0.8859848183052645, 0.8835208978637317, 0.9801372690226747, 1.0025678395045412, 0.8835208978637317, 0.8354731995871177, 0.8697992459365682, 0.8480059105468433, 0.9801372690226747, 0.879658682927206, 0.053147436720824934, 0.9566538609748488, 0.9761291861147964, 1.0125540780631594, 0.8798360924542618, 0.08798360924542618, 1.0200477353222233, 1.0364516684461416, 0.9896160182931065, 0.8859848183052645, 1.0025678395045412, 0.9992417726958764, 0.8512568333929263, 0.9992417726958764, 0.887290256344933, 0.9933783523548734, 0.14002940165032976, 0.8401764099019785, 0.8670405750238898, 0.957663937567042, 0.9761291861147964, 1.0149907879929299, 0.9689617189778194, 0.887290256344933, 0.9979263217290573, 1.0262684634150734, 1.006581524431156, 0.9931329722917472, 0.8354731995871177, 1.0307743808410204, 1.0200477353222233, 1.014046007251352, 0.879658682927206, 1.044341499483897, 1.027551972856805, 0.8512568333929263, 0.957663937567042, 0.9443726053055351, 0.016282286298371296, 0.03256457259674259, 0.9633784166932109, 1.1102686363287515, 1.0631817819663174, 0.9916233001801107, 0.9770363999693013, 1.006581524431156, 0.8859848183052645, 0.8670405750238896, 0.04225401160809132, 0.9718422669861004, 0.9961177679741314, 0.957663937567042, 0.993961010096698, 1.0149907879929299, 1.0262684634150734, 1.0631817819663174, 0.8670405750238896, 0.8697992459365682, 1.0145031709272143, 0.990853688111919, 1.0025678395045412, 0.9982879591897614, 0.8512568333929263, 0.8480059105468433, 0.9976540124080506, 1.044341499483897, 0.8697992459365682, 0.9665288926966522, 0.988305079597864, 0.8984591632707852, 1.014046007251352, 0.879658682927206, 0.8882149090630013, 0.887290256344933, 0.8512568333929263, 0.013411393347568717, 0.5096329472076112, 0.4693987671649051, 0.8984591632707852, 1.0011581396049194, 0.23071956374609653, 0.791038504272331, 0.9992417726958764, 1.0307743808410204, 1.0125540780631594, 1.0412044651891161, 0.8859848183052645, 0.879658682927206, 1.0112416240813002, 0.8676703876575967, 0.9982879591897614, 0.07115460240342152, 0.9250098312444797, 1.0037620981983042, 1.0147657869259963, 1.0025678395045412, 0.8480059105468433, 0.8835208978637317, 0.8882149090630013, 0.9946109518894257, 0.9843775202157627, 1.023024197526426, 0.8835208978637317, 0.080225392877746, 0.080225392877746, 0.8022539287774599, 1.0122821189338629, 0.9567791705302251, 1.0200477353222233, 0.8859848183052645, 0.8143222097882513, 0.18792050995113493, 0.8984591632707852, 0.9786209265302904, 0.879658682927206, 0.8814896474624876, 0.11018620593281095, 0.8299869528129517, 0.1276903004327618, 0.993961010096698, 0.8670405750238896, 0.8807588338772613, 0.9916773453266897, 0.02330946882022, 0.27971362584264003, 0.67597459578638, 0.8697992459365682, 1.0412044651891161, 0.9992417726958764, 0.9896160182931066, 0.9411948220307234, 0.0553644012959249, 1.005662184688197, 0.9761291861147964, 1.0482023571492496, 1.0214471454224512, 0.9728649524490586, 0.974583300135791, 1.0631817819663174, 0.8670405750238896, 1.0063863817241578, 1.00447953548483, 1.018569585511092, 0.8859848183052645, 1.0351719657357552, 1.0125540780631594, 1.0053242090596637, 0.9567791705302251, 0.9883050795978636, 0.966443606596187, 0.8807588338772613, 0.9833597726786096, 0.6531763640786188, 0.3691866405661758, 0.988305079597864, 0.8697992459365682, 0.4071658280399735, 0.5552261291454184, 0.03701507527636123, 0.8697992459365682, 0.8882149090630013, 0.8354731995871177, 0.887290256344933, 0.8676703876575967, 0.932692418372227, 0.054864259904248654, 1.0125540780631594, 0.9757345591482767, 0.022691501375541316, 1.006581524431156, 1.0246843159373242, 1.0600073881835541, 0.09326374188493404, 0.09326374188493404, 0.7927418060219393, 0.8354731995871177, 1.0071359689791841, 1.0307743808410204, 0.8480059105468433, 0.8354731995871177, 0.990853688111919, 1.006800929892346, 0.9691058876122857, 0.02936684507916017, 0.9931329722917474, 1.0115473375278714, 0.989340228971317, 1.0036145145421942, 0.993961010096698, 0.3864952336423354, 0.6324467459601851, 1.0404486900286676, 0.8796586829272058, 0.9754206469018758, 0.966443606596187, 0.989340228971317, 1.0170978081930127, 0.7771014958864707, 0.19427537397161768, 1.0307743808410204, 0.9970966612774731, 1.0631817819663174, 1.006581524431156, 0.4779087683576928, 0.4380830376612184, 0.0398257306964744, 0.8882149090630013, 0.8835208978637317, 1.017607092656212, 1.0115473375278712, 1.0011402105017322, 1.0011581396049194, 0.19749485938998038, 0.7899794375599215, 0.993961010096698, 0.8354731995871177, 0.8882149090630013, 0.982645985027075, 1.0215082000715117, 0.9858780626054812, 1.027551972856805, 0.8835208978637317, 1.0053242090596637, 1.0115473375278714, 1.0053242090596637, 0.943070519972585, 0.05690942792938013, 0.8670405750238896, 0.9638409794877072, 0.879658682927206, 1.027551972856805, 0.989340228971317, 0.8882149090630013, 0.9691496120535351, 1.0108477723046603, 0.9931329722917472, 0.8697992459365682, 0.8512568333929263, 1.0600073881835541, 0.9916233001801107, 0.987439149331778, 0.017024812919513414, 0.8882149090630013, 1.01855215917887, 0.05906364679706894, 0.9450183487531031, 0.8882149090630013, 0.5448003792262769, 0.049527307202388814, 0.024763653601194407, 0.3714548040179161, 0.9981933450608962, 0.8480059105468433, 0.8676703876575967, 1.0412044651891161, 0.8512568333929263, 0.8807588338772613, 0.8512568333929263, 0.02714376755231218, 0.9771756318832385, 0.9773985365857841, 1.0066435636047348, 0.997551083731883, 0.887290256344933, 1.0041161274126331, 0.4401469098042443, 0.5721909827455176, 0.9916233001801107, 0.044050933422804146, 0.9691205353016912, 1.0021275282635682, 0.8480059105468433, 0.9873774176938663, 1.0053242090596637, 0.8480059105468433, 1.0631817819663174, 1.0482023571492496, 0.02206815714073532, 0.02206815714073532, 0.4413631428147064, 0.5075676142369123, 1.0215082000715117, 1.0097381689871219, 0.9896160182931066, 0.8697992459365682, 0.42470046482243295, 0.5662672864299106, 0.9675714065993073, 0.8807588338772613, 0.9896160182931066, 0.8676703876575967, 1.018569585511092, 1.0569106006527138, 1.0143893778863702, 0.9857724787281105, 0.8512568333929263, 0.9869054545144458, 0.9948006981505613, 1.0030864496935477, 0.8859848183052645, 0.033950049458035036, 0.950601384824981, 0.8697992459365682, 1.0336489546894754, 0.9786209265302904, 0.8512568333929263, 0.993961010096698, 0.8835208978637317, 1.0021888033735418, 0.8807588338772613, 0.8673614125369601, 0.13989700202209035, 0.642092134213553, 0.3424491382472283, 0.8882149090630013, 0.966443606596187, 0.4412982398195247, 0.5616523052248497, 1.0149907879929299, 0.8354731995871177, 0.9706222113344319, 0.03393783955714797, 1.0412044651891161, 0.9785241516786393, 0.9633784166932109, 0.11092571657977726, 0.8874057326382181, 0.9792463781268712, 0.9728649524490586, 0.4884039643497132, 0.4884039643497132, 0.8670405750238896, 1.044341499483897, 0.9992417726958764, 0.8512568333929263, 0.40191167365394115, 0.5805390841668039, 0.9940562810703637, 0.8512568333929263, 1.0036145145421942, 1.0122821189338629, 1.0237964496287688, 1.0049684130137981, 1.0268104723094689, 0.9967329205934227, 0.9760192819794263, 1.007213823564654, 1.014046007251352, 1.036250727240168, 0.8859848183052645, 0.8807588338772613, 0.8984591632707852, 0.14322521375319583, 0.8593512825191749, 0.9967788773094471, 1.0115473375278714, 0.2567126543977713, 0.7334647268507752, 0.8697992459365682, 1.1139642661161568, 0.887290256344933, 0.8480059105468433, 0.9567791705302251, 1.0211339106064772, 0.05548407549446655, 0.9432292834059314, 0.9955898836243837, 0.9893402289713169, 0.8118049832240211, 0.20295124580600526, 0.8480059105468433, 0.07899306423505945, 0.9479167708207135, 0.887290256344933, 1.044341499483897, 0.9182828167067039, 0.0834802560642458, 0.8697992459365682, 0.9943967720046675, 0.8807588338772613, 0.9760192819794263, 0.8512568333929263, 0.887290256344933, 0.9786209265302904, 0.990608821042148, 0.9747187328516372, 0.9688347172649876, 0.8859848183052645, 0.8882149090630013, 0.8358599854389942, 0.1432902832181133, 0.011940856934842776, 0.8512568333929263, 0.5713263994140161, 0.3955336611327803, 0.9548265138138488, 0.9844275758947383, 0.8807588338772613, 0.9688347172649876, 0.056703175740670624, 0.11340635148134125, 0.7938444603693887, 0.8859848183052645, 1.0025678395045412, 0.9858780626054812, 1.0215082000715117, 0.03397849774667426, 0.9513979369068793, 1.0046709751824805, 1.036250727240168, 0.933241823952404, 0.062216121596826934, 0.988305079597864, 0.013997760548700007, 0.9868421186833506, 0.9264049618342198, 0.07720041348618499, 0.989340228971317, 0.8984591632707852, 0.8670405750238896, 0.9691496120535351, 0.06995512244688666, 0.9094165918095265, 0.879658682927206, 1.0215082000715117, 0.9869054545144458, 0.8271952383024322, 0.13786587305040537, 0.989340228971317, 0.887290256344933, 0.9937650871063249, 0.8480059105468433, 0.06681272081947535, 0.9353780914726548, 1.0083297236396247, 0.8676703876575967, 0.8670405750238896, 0.3984266412481759, 0.6197747752749403, 0.964078208508441, 0.9931329722917475, 1.0631817819663174, 0.9969465073174998, 0.974583300135791, 0.9982015383880496, 1.083800718779862, 0.8859848183052645, 0.879658682927206, 0.05892085220324939, 0.9427336352519903, 0.989340228971317, 1.0194471898427673, 1.0215082000715117, 0.9761291861147964, 0.879658682927206, 0.887290256344933, 0.8354731995871177, 0.8697992459365682, 0.9843775202157627, 0.9874645329065236, 0.2935764929592321, 0.685011816904875, 0.048929415493205355, 0.8488271493606702, 0.1543322089746673, 0.8480059105468433, 0.9832513214935118, 0.9931329722917472, 1.020383794796673, 1.0307743808410204, 1.0170978081930127, 0.9653186496485788, 0.04826593248242894, 1.0053242090596637, 1.0115473375278714, 0.05399705565499195, 0.3239823339299517, 0.6479646678599034, 0.9540066493651986, 1.017607092656212, 0.1280512979495421, 0.853675319663614, 0.8697992459365682, 0.16350862578491707, 0.8502448540815687, 0.879658682927206, 0.8882149090630013, 1.0215082000715117, 1.036250727240168, 0.9982879591897614, 0.8807588338772613, 1.0640710417411579, 0.9718729876501048, 0.8882149090630012, 0.9916233001801107, 0.8670405750238896, 1.0307743808410204, 1.0151027532148584, 0.9931329722917474, 0.9909035143130168, 0.4157483402703321, 0.5543311203604427, 0.2635523628543836, 0.6494683227483025, 0.08471325948890902, 0.8835208978637317, 0.9869054545144458, 0.8697992459365682, 0.8354731995871177, 0.879658682927206, 0.9982015383880496, 1.01855215917887, 0.9718729876501048, 0.8512568333929263, 1.0215082000715117, 1.0307743808410204, 0.8807588338772613, 0.8621329555125335, 0.1436888259187556, 0.9976540124080506, 0.8676703876575967, 1.006581524431156, 0.9946465419489524, 0.9858780626054812, 1.0055956238575907, 0.8354731995871177, 0.879658682927206, 0.9761291861147964, 1.0055956238575907, 1.044341499483897, 0.8676703876575967, 0.9909035143130168, 0.9982879591897614, 1.0071359689791841, 0.9548265138138488, 0.05918092747757772, 0.9468948396412435, 1.0115473375278714, 0.9967329205934227, 0.8676703876575967, 0.9937650871063249, 0.9770363999693013, 0.964078208508441, 1.0647483076139197, 0.09866819247276609, 0.8880137322548948, 0.8670405750238896, 0.990853688111919, 0.9967329205934226, 1.0232932305136095, 0.8480059105468433, 0.9974526974662528, 0.049310853042228965, 0.9369062078023503, 0.9982879591897614, 1.0395966252776068, 0.8480059105468433, 1.0248633566111554, 1.0115473375278714, 0.879658682927206, 0.9967329205934226, 0.8882149090630013, 0.8697992459365682, 0.8807784905836918, 0.06291274932740655, 0.031456374663703275, 0.8807588338772613, 0.8807588338772613, 0.8512568333929263, 1.0631817819663174, 0.23131980979150144, 0.7710660326383381, 0.8807588338772613, 0.034100083466709535, 0.9548023370678671, 0.9819015806331868, 0.8984591632707852, 0.8676703876575967, 0.8670405750238896, 0.8882149090630013, 0.966443606596187, 0.9232344448629117, 0.05430790852134775, 0.887290256344933, 0.35495785692184406, 0.6389241424593193, 0.8697992459365682, 0.8859848183052645, 1.0268104723094689, 0.9679530069217451, 1.0015813539069072, 1.0013236842455624, 0.9809937401184592, 0.011819201688174207, 1.0182537183735565, 0.9444180463066303, 0.04970621296350686, 0.8807588338772613, 0.8859848183052645, 0.989340228971317, 0.8670405750238896, 1.0021888033735418, 0.8670405750238896, 0.9975235943622774, 1.0237964496287688, 0.20019601279787672, 0.8007840511915069, 0.9985314779173687, 0.16882435474492796, 0.8019156850384077, 0.14233251482356257, 0.5693300592942503, 0.28466502964712515, 0.8882149090630013, 1.0200477353222233, 0.8859848183052645, 0.9916233001801107, 0.8676703876575967, 0.00857831293467599, 0.9865059874877389, 0.9931555677546373, 0.879658682927206, 0.8984591632707852, 0.9665288926966522, 0.9916233001801107, 0.8835208978637317, 0.8984591632707852, 0.8859848183052645, 0.9817112152801591, 0.8480059105468433, 0.9858780626054812, 0.06179317875848655, 0.9337635901282413, 1.0025678395045412, 0.9754206469018758, 0.9937650871063249, 0.06068044965435627, 0.910206744815344, 0.9981933450608962, 0.8480059105468433, 0.23725785746347283, 0.7795615316656965, 0.6022181072707293, 0.04014787381804862, 0.3613308643624376, 0.9981933450608962, 0.8859848183052645, 0.9856658070865463, 0.988305079597864, 0.8480059105468433, 1.0156494889148007, 0.9665288926966522, 0.9843775202157627, 0.6182596251877465, 0.36065144802618543, 0.9927107807174718, 0.8480059105468433, 1.044341499483897, 0.8512568333929263, 0.9728649524490586, 0.8480059105468433, 1.0211339106064772, 0.020170462945368697, 0.9681822213776974, 1.0268104723094689, 1.0246843159373242, 0.887290256344933, 0.8835208978637317, 0.9728649524490586, 0.8006219802853738, 0.24634522470319192, 0.9567791705302251, 1.0872490574207103, 0.966443606596187, 0.8882149090630013, 1.0036145145421942, 0.8676703876575967, 1.025428639958978, 0.8480059105468433, 0.8859848183052645, 0.8676703876575967, 0.9754206469018758, 1.006581524431156, 0.990853688111919, 1.0307743808410204, 1.0404486900286676, 0.8697992459365682, 0.9709502180868093, 0.044134100822127695, 0.8835208978637317, 0.8354731995871177, 0.8670405750238896, 0.5840594631233367, 0.4171853308023833, 0.8670405750238896, 0.879658682927206, 0.8480062456471753, 0.15003187422988484, 0.3519944708967378, 0.653704017379656, 0.9948405904473491, 0.887290256344933, 0.98855632264985, 1.0066435636047348, 1.0307743808410204, 0.8480059105468433, 0.879658682927206, 0.9970966612774731, 0.8512568333929263, 0.9294193089028315, 0.044258062328706264, 0.9967329205934227, 0.879658682927206, 0.9754206469018758, 0.887290256344933, 0.18502857367008646, 0.8141257241483805, 0.9518676049643748, 0.0732205849972596, 1.025428639958978, 0.13938596322271, 0.8562280597966471, 0.8984591632707852, 1.0062742628632795, 1.0658578908756013, 0.9816898865152573, 0.028287564149900937, 0.9617771810966319, 0.8859848183052645, 0.06515604016469274, 0.9121845623056984, 0.8480059105468433, 0.03623793519907538, 0.3623793519907538, 0.5798069631852061, 0.8676703876575967, 0.9869054545144458, 0.9993270202866589, 1.0279445633795807, 0.6269172987218555, 0.2507669194887422, 0.1253834597443711, 1.0211339106064772, 0.9869054545144458, 0.9873490618172652, 0.9982879591897614, 1.0307743808410204, 0.0776447484920527, 0.9317369819046324, 0.9539252280870401, 0.05611324871100235, 0.9930338120361312, 0.9921244245097023, 1.0070070187743763, 0.887290256344933, 0.3917390829135231, 0.022385090452201318, 0.5820123517572343, 0.966443606596187, 0.8859848183052645, 0.8984591632707852, 0.988305079597864, 1.0149907879929299], \"Term\": [\"#1u\", \"#9news\", \"#9news\", \"#9newsat6\", \"#9newscomau\", \"#abcnews\", \"#aca\", \"#aca9\", \"#acf\", \"#adelaide's\", \"#alcohol\", \"#asktony\", \"#auslaw\", \"#auspol\", \"#australianmagazine\", \"#ausunions\", \"#awkward\", \"#badenclay\", \"#bendigo\", \"#blue\", \"#brazil2014\", \"#brisbane\", \"#cdaa14\", \"#celeb\", \"#chaplain\", \"#charterstowers\", \"#clfboys\", \"#criminology\", \"#domestic_#violence\", \"#domesticviolence\", \"#domesticviolence\", \"#domesticviolence?\", \"#dv\", \"#eastenders\", \"#eurovision\", \"#eurovisiontve\", \"#familviolence\", \"#familyviolence\", \"#gadens.\", \"#geelong\", \"#goss\", \"#hakuba\", \"#hannibal\", \"#hedland.\", \"#horrific\", \"#hotshoes\", \"#hungary\", \"#induced\", \"#jh\", \"#lol\", \"#masterchefau\", \"#melbournecup\", \"#misshumanityaustralia\", \"#myvalentine\", \"#noexcuse4dfv\", \"#nomorefvdeaths\", \"#nptech\", \"#office365\", \"#png\", \"#pornisfake\", \"#prideofaustralia\", \"#protectwomen\", \"#qanda\", \"#qanda\\u201d\", \"#qldpol\", \"#qldpol\", \"#reflectionsection\", \"#sayno2familyviolence\", \"#saynomore\", \"#sbseurovision\", \"#shinealight\", \"#springst\", \"#stateoforigin\", \"#stella\", \"#sun7\", \"#sun7\", \"#sunshine\", \"#supergoose\", \"#thankyou\", \"#theprojecttv\", \"#today9\", \"#uncoversecrets\", \"#vaw\", \"#vaw\", \"#vcoss2014\", \"#vicpol\\u201d\", \"#vicpol\\u201d...about\", \"#violence\", \"#violenceisviolence\", \"#whiteribbon\", \"#whiteribbonday\", \"#whiteribbonday\", \"#whiteribbonday\", \"#whiteribbonday\", \"#winnews\", \"#women\", \"#women\", \"#yellowday\", \"ab\", \"abbott\", \"abbott\", \"abc\", \"abc\", \"abcnews\", \"aboriginal\", \"abuse\", \"abuser\", \"accept\", \"acceptable\", \"accident\", \"act\", \"act\", \"action\", \"action\", \"ad\", \"address\", \"adelaide\", \"advice\", \"advisory\", \"advocate\", \"advocate\", \"affect\", \"affect\", \"age\", \"agency\", \"agency_fear\", \"aggrevated\", \"alburys\", \"alcohol\", \"alive\", \"allegation\", \"amaze\", \"ambassador\", \"analogy\", \"andrew\", \"angelhands\", \"anger\", \"annie\", \"announce\", \"antidomestic\", \"appal\", \"appeal\", \"arsonist\", \"article\", \"ash\", \"assault\", \"assault\", \"assist\", \"astoundingly\", \"attack\", \"attack\", \"attacker\", \"attitude\", \"au\", \"aust\", \"aust\", \"aust\", \"author\", \"auvaa\", \"average\", \"awareness\", \"baby\", \"ballot\", \"ban\", \"basis\", \"battery\", \"battle\", \"bcos\", \"behaviour\", \"belong\", \"bernardi\", \"biggest\", \"black\", \"bonethere\", \"book\", \"bos\", \"boy\", \"braidex\", \"brave\", \"brave\", \"breach\", \"break\", \"break\", \"brick\", \"brilliant\", \"bring\", \"brisbane\", \"broader\", \"brutal_murder\", \"bryce\", \"budget\", \"bug\", \"bully\", \"burswood\", \"business\", \"buster\", \"caj\", \"cald\", \"call\", \"campaign\", \"campaigner\", \"candidate\", \"candidate\", \"card\", \"case\", \"catchy\", \"cdv\", \"centre\", \"centre\", \"centre\", \"centre\", \"ceo\", \"chair\", \"challenge\", \"change\", \"change\", \"charandevsingh\", \"charandevsingh\", \"charge\", \"charge\", \"charlie_pickering\", \"charm\", \"cheese\", \"chief\", \"chief\", \"child\", \"childcare\", \"china\", \"choice\", \"christmas\", \"claim\", \"clcnsw\", \"clearinghouse\", \"cloud\", \"club\", \"coalition\", \"cody\", \"colonel\", \"columbus_short\", \"combat\", \"combo\", \"comic\", \"comm\", \"comment\", \"comment\", \"comment\", \"commissioner\", \"commit\", \"community\", \"community\", \"concern\", \"concord\", \"condemn\", \"conference\", \"confront\", \"connect\", \"const\", \"consultative\", \"contd\", \"conversation\", \"convey\", \"cop\", \"cop\", \"coroner\", \"cory_bernardi\", \"cost\", \"cost\", \"country\", \"couple\", \"court\", \"courtsboth\", \"cover\", \"coverage\", \"cowocowo\", \"create\", \"creativity\", \"crime\", \"crisis\", \"crisis\", \"critical\", \"cultural\", \"culture\", \"curb\", \"current\", \"curse\", \"cut\", \"cycle\", \"daily\", \"dame_quentin\", \"dameyon\", \"dan\", \"dance\", \"daniel_andrew\", \"darlinghurst\", \"darwin\", \"date\", \"dc\", \"dead\", \"death\", \"death\", \"death\", \"debate\", \"decrease\", \"delilah\", \"demand\", \"deny\", \"deserve\", \"desperately\", \"det\", \"detail\", \"detail\", \"die\", \"difference\", \"disaster\", \"discuss\", \"discussion\", \"disgrace\", \"district\", \"doin\", \"donate\", \"door\", \"dr\", \"draft\", \"dramatica\", \"dream\", \"drug\", \"eastern\", \"edition\", \"education\", \"effect\", \"elder\", \"election\", \"emma\", \"empathy\", \"emphasis\", \"employercharliepick\", \"end\", \"end\", \"end\", \"engineer\", \"england\", \"epidemic\", \"epidemic\", \"equality\", \"equally\", \"escape\", \"establish\", \"ethnicity\", \"europe\", \"every_week\", \"exceed\", \"excellent\", \"excuse\", \"excuse\", \"experience\", \"expert\", \"explain\", \"explore\", \"extra\", \"exwife\", \"face\", \"fact\", \"fail\", \"fairfield\", \"father\", \"father\", \"father\", \"fear\", \"feed_square\", \"feel\", \"fence\", \"fight\", \"fight\", \"fiona\", \"fiona_mccormack\", \"flat\", \"flee\", \"flee\", \"follow\", \"follow\", \"follow_budget\", \"footage\", \"forage\", \"force\", \"forum\", \"forum\", \"forum\", \"founder\", \"fox\", \"friend\", \"front\", \"fuck\", \"fuck\", \"fund\", \"game\", \"gather\", \"gender\", \"gg\", \"girl\", \"glad\", \"gold\", \"good\", \"government\", \"govt\", \"govts\", \"gps\", \"grant\", \"great\", \"green\", \"group\", \"grow\", \"guidance\", \"guy\", \"hand\", \"hand\", \"handle\", \"handy\", \"happen\", \"happen\", \"happen\", \"hassle\", \"hastings\", \"haunt\", \"hay\", \"hayley\", \"head\", \"head\", \"headlock\", \"headlock_sometimes\", \"headlock_sometimes\", \"hear\", \"heart\", \"heartbreaking\", \"high\", \"high\", \"high\", \"highland\", \"highlight\", \"highprofile\", \"hinchey\", \"hint\", \"history\", \"hit\", \"home\", \"home\", \"homeless\", \"homelessness\", \"homicide\", \"honour\", \"hop\", \"hope\", \"hope\", \"horrific\", \"horror\", \"hospital\", \"host\", \"hotline\", \"house\", \"human_right\", \"human_right\", \"hundred\", \"hungary\", \"hurdle\", \"husband\", \"ignore\", \"ignore\", \"ignore\", \"immediately\", \"immigration\", \"impact\", \"important\", \"incident\", \"increase\", \"indigenous\", \"indigenous\", \"indigenous_health\", \"ineffectivewhat\", \"info\", \"initiative\", \"injury\", \"inquiry\", \"interest\", \"intervene\", \"intervention\", \"interview\", \"introduce\", \"issue\", \"issue\", \"itll\", \"ive\", \"jack\", \"jail\", \"jessica\", \"jetts\", \"johnson\", \"join\", \"joke\", \"journal\", \"julia\", \"jump\", \"justice\", \"justify\", \"justify\", \"keen\", \"ken_lay\", \"key\", \"key\", \"kickoff\", \"kid\", \"kid\", \"kid\", \"kid\", \"kill\", \"knimble\", \"knitcrochet\", \"knock\", \"koori\", \"korean\", \"kyle\", \"labor\", \"labor\", \"latest\", \"launch\", \"law\", \"lawyering\", \"le\", \"lead\", \"lead\", \"league\", \"learn\", \"learn\", \"leave\", \"legacy\", \"legal\", \"legislation\", \"lestes\", \"lgbt\", \"liberal\", \"life\", \"life\", \"life\", \"life\", \"lift\", \"light\", \"listen\", \"literally\", \"live\", \"live\", \"local\", \"location\", \"long\", \"lorna\", \"lose\", \"loss\", \"love\", \"luke\", \"madigan\", \"major\", \"male\", \"man\", \"map\", \"march\", \"march\", \"marxdeane\", \"mate\", \"matter\", \"maximise\", \"may_fold\", \"mayang\", \"mcdonald\", \"measuresitd\", \"medium\", \"medium\", \"meet\", \"meet\", \"mei\", \"melb\", \"melbourne\", \"melbourne\", \"melbourne_cup\", \"meme\", \"men\", \"men\", \"mention\", \"message\", \"migrant\", \"million\", \"million\", \"minister\", \"minute\", \"miss\", \"miss\", \"modern\", \"moment\", \"money\", \"mood\", \"morning\", \"morning\", \"mother\", \"motif\", \"mp\", \"mt\", \"mum\", \"murder\", \"murdersuicide\", \"name_shame\", \"napthine\", \"national\", \"national_emergency\", \"nba\", \"neighbourhood\", \"neon\", \"newman\", \"news\", \"news\", \"nfl\", \"nfls\", \"night\", \"night\", \"nightcliff\", \"north\", \"notion\", \"notquiteapology\", \"nov\", \"nowhere_hide\", \"nrl\", \"nrl\", \"nsw\", \"offence\", \"offender\", \"offender\", \"offense\", \"offer\", \"offer\", \"ongoing\", \"online\", \"open\", \"open\", \"orange\", \"order\", \"original\", \"outrage\", \"owner\", \"oy\", \"oz\", \"partner\", \"party\", \"past\", \"pd\", \"pedophilia\", \"people\", \"people\", \"people\", \"periwinkle\", \"perpetrator\", \"perpetrator\", \"personal\", \"pet\", \"peter\", \"physical\", \"piece\", \"piece\", \"piece\", \"pivot\", \"place\", \"plan\", \"play\", \"player\", \"player\", \"pledge\", \"pls\", \"pm\", \"pm\", \"point\", \"police\", \"police\", \"policy\", \"policy\", \"politics\", \"poll\", \"pop\", \"porn\", \"post\", \"post\", \"postcode\", \"poverty\", \"powerful\", \"ppl\", \"ppl\", \"praise\", \"pregnant\", \"premier\", \"presser\", \"prevent\", \"prevent\", \"prevention\", \"preventionamp\", \"preventionsupport\", \"priority\", \"priority\", \"prison\", \"problem\", \"prof\", \"program\", \"project\", \"promise\", \"promote\", \"promotion\", \"property\", \"protect\", \"protect\", \"protection\", \"proud\", \"prove\", \"provide\", \"provisional\", \"psa\", \"psychic\", \"psychology\", \"public\", \"punch\", \"push\", \"push\", \"push\", \"qld\", \"qld\", \"quantum\", \"queensland\", \"quentin_bryce\", \"question\", \"rachelle_yeos\", \"raise\", \"raise_awareness\", \"raise_awareness\", \"rally\", \"rape\", \"rat\", \"rat\", \"rat\", \"rate\", \"ray\", \"ray_rice\", \"ray_rice\", \"reactive\", \"read\", \"read\", \"readiness\", \"reaffirm\", \"realise\", \"reality\", \"reason\", \"recall\", \"recent\", \"recognise\", \"recommendation\", \"reduce\", \"reduction\", \"reflect\", \"refuge\", \"regard\", \"relationship\", \"remember\", \"remember\", \"report\", \"report\", \"report\", \"require\", \"research\", \"resident\", \"resilience\", \"resolution\", \"resource\", \"response\", \"responsibility\", \"restore\", \"result\", \"retweet\", \"reunite\", \"reveal\", \"reveal\", \"review\", \"revive\", \"rip\", \"rise\", \"role\", \"rosie_batty\", \"rotary\", \"rotation\", \"royal\", \"royal_commission\", \"rubbish\", \"ruchita\", \"run\", \"russell_wilson\", \"sa\", \"sack\", \"sad\", \"sad\", \"safe\", \"safety\", \"sapol\", \"scandal\", \"school\", \"season\", \"sector\", \"seek\", \"seek\", \"semifinal\", \"senate_inquiry\", \"senator\", \"sentence\", \"serial\", \"service\", \"sex\", \"sex\", \"sexual\", \"sexual_assault\", \"sexuality\", \"shame\", \"share\", \"shaw\", \"shelter\", \"shirley\", \"shltrs\", \"shock\", \"shock\", \"shock\", \"shoebridge\", \"shoeys\", \"showcase\", \"shut\", \"sign\", \"sign\", \"signature\", \"silence\", \"silence\", \"silent\", \"simone\", \"simpson\", \"sincerely\", \"sleeper\", \"small\", \"social\", \"social\", \"socially\", \"society\", \"society\", \"societyguardian\", \"socioeconomic\", \"solution\", \"son\", \"song\", \"south\", \"speak\", \"speak\", \"special\", \"spike\", \"spike\", \"spiro\", \"spur\", \"spur_sa\", \"src\", \"st\", \"stalker\", \"stand\", \"star\", \"start\", \"start\", \"state\", \"statistic\", \"statistic\", \"stats\", \"stats\", \"stats\", \"status\", \"stay\", \"stem\", \"stephen_smith\", \"stevens\", \"stop\", \"stop\", \"story\", \"storyit\", \"strange\", \"street\", \"strike\", \"struggle\", \"stun\", \"suarez\", \"suffer\", \"summer\", \"summit\", \"support\", \"support\", \"survey\", \"survive\", \"survivor\", \"suspend\", \"suspend\", \"sydney\", \"syndrome\", \"system\", \"system\", \"tackle\", \"tackle\", \"tackle\", \"take_seriously\", \"talkfestah\", \"taskforce\", \"taylor\", \"tchs\", \"team\", \"tell_inquiry\", \"term\", \"terror\", \"terror\", \"terrorism\", \"thatd\", \"thousand\", \"timely\", \"tmz\", \"tn\", \"tomorrow\", \"tonight\", \"tonight\", \"tony\", \"topic\", \"torrenting\", \"torture\", \"town\", \"toy\", \"toy\", \"tragedy\", \"treatment\", \"trial\", \"trialled\", \"tv\", \"typology\", \"uk\", \"um\", \"underfunded\", \"unfair\", \"union\", \"unit\", \"unite\", \"university\", \"upbeat\", \"upcoming\", \"urge\", \"urge\", \"vc\", \"vcoss\", \"vega\", \"vic\", \"vic\", \"viclabor\", \"victcandidates\", \"victim\", \"victim\", \"victoria\", \"victoria\", \"victorian\", \"victorianlabor\", \"video\", \"view\", \"vigil\", \"violencejoin\", \"violenceoutrage\", \"violent\", \"vivid\", \"voice\", \"voice\", \"vote\", \"voteworthy\", \"wait\", \"wale\", \"walk\", \"walk\", \"war\", \"war\", \"warn\", \"watch\", \"watch\", \"weak\", \"week\", \"west\", \"weve\", \"white_ribbon\", \"white_ribbon\", \"whoza\", \"wife\", \"wife\", \"wilson\", \"win\", \"win\", \"win\", \"wisadelaide\", \"witness\", \"woman\", \"word\", \"work\", \"work\", \"work\", \"worker\", \"world\", \"world_cup\", \"worry\", \"worth\", \"wow\", \"wow\", \"write\", \"write\", \"wrong\", \"xmas\", \"yahoo_sport\", \"yall\", \"year\", \"year\", \"year\", \"yesterday\", \"yikes\", \"york\", \"young\", \"yr\"]}, \"R\": 30, \"lambda.step\": 0.01, \"plot.opts\": {\"xlab\": \"PC1\", \"ylab\": \"PC2\"}, \"topic.order\": [12, 3, 9, 1, 2, 11, 4, 6, 7, 5, 8, 13, 10]};\n",
       "\n",
       "function LDAvis_load_lib(url, callback){\n",
       "  var s = document.createElement('script');\n",
       "  s.src = url;\n",
       "  s.async = true;\n",
       "  s.onreadystatechange = s.onload = callback;\n",
       "  s.onerror = function(){console.warn(\"failed to load library \" + url);};\n",
       "  document.getElementsByTagName(\"head\")[0].appendChild(s);\n",
       "}\n",
       "\n",
       "if(typeof(LDAvis) !== \"undefined\"){\n",
       "   // already loaded: just create the visualization\n",
       "   !function(LDAvis){\n",
       "       new LDAvis(\"#\" + \"ldavis_el145421123245328882434317722\", ldavis_el145421123245328882434317722_data);\n",
       "   }(LDAvis);\n",
       "}else if(typeof define === \"function\" && define.amd){\n",
       "   // require.js is available: use it to load d3/LDAvis\n",
       "   require.config({paths: {d3: \"https://cdnjs.cloudflare.com/ajax/libs/d3/3.5.5/d3.min\"}});\n",
       "   require([\"d3\"], function(d3){\n",
       "      window.d3 = d3;\n",
       "      LDAvis_load_lib(\"https://cdn.rawgit.com/bmabey/pyLDAvis/files/ldavis.v1.0.0.js\", function(){\n",
       "        new LDAvis(\"#\" + \"ldavis_el145421123245328882434317722\", ldavis_el145421123245328882434317722_data);\n",
       "      });\n",
       "    });\n",
       "}else{\n",
       "    // require.js not available: dynamically load d3 & LDAvis\n",
       "    LDAvis_load_lib(\"https://cdnjs.cloudflare.com/ajax/libs/d3/3.5.5/d3.min.js\", function(){\n",
       "         LDAvis_load_lib(\"https://cdn.rawgit.com/bmabey/pyLDAvis/files/ldavis.v1.0.0.js\", function(){\n",
       "                 new LDAvis(\"#\" + \"ldavis_el145421123245328882434317722\", ldavis_el145421123245328882434317722_data);\n",
       "            })\n",
       "         });\n",
       "}\n",
       "</script>"
      ],
      "text/plain": [
       "PreparedData(topic_coordinates=              x         y  topics  cluster      Freq\n",
       "topic                                               \n",
       "11     0.188529  0.101546       1        1  7.727426\n",
       "2      0.002516 -0.280438       2        1  7.718795\n",
       "8      0.011761 -0.039265       3        1  7.710075\n",
       "0     -0.178876 -0.018448       4        1  7.706070\n",
       "1      0.180048 -0.116903       5        1  7.706009\n",
       "10    -0.277351  0.078769       6        1  7.701857\n",
       "3      0.142703 -0.008825       7        1  7.694910\n",
       "5      0.119295  0.196471       8        1  7.690500\n",
       "6     -0.031044  0.119844       9        1  7.689399\n",
       "4     -0.003347 -0.028705      10        1  7.671730\n",
       "7     -0.189611  0.106754      11        1  7.670529\n",
       "12    -0.052443 -0.235528      12        1  7.668184\n",
       "9      0.087821  0.124728      13        1  7.644514, topic_info=     Category        Freq               Term       Total  loglift  logprob\n",
       "term                                                                      \n",
       "9     Default  626.000000              woman  626.000000  30.0000  30.0000\n",
       "7     Default  306.000000             victim  306.000000  29.0000  29.0000\n",
       "487   Default  153.000000              child  153.000000  28.0000  28.0000\n",
       "29    Default  147.000000                men  147.000000  27.0000  27.0000\n",
       "294   Default  142.000000             police  142.000000  26.0000  26.0000\n",
       "205   Default  145.000000            support  145.000000  25.0000  25.0000\n",
       "236   Default  118.000000              abuse  118.000000  24.0000  24.0000\n",
       "111   Default  117.000000            service  117.000000  23.0000  23.0000\n",
       "119   Default  115.000000            #auspol  115.000000  22.0000  22.0000\n",
       "43    Default  116.000000               stop  116.000000  21.0000  21.0000\n",
       "260   Default  113.000000               call  113.000000  20.0000  20.0000\n",
       "39    Default  123.000000              issue  123.000000  19.0000  19.0000\n",
       "172   Default  110.000000                law  110.000000  18.0000  18.0000\n",
       "1143  Default   96.000000             #qanda   96.000000  17.0000  17.0000\n",
       "441   Default   88.000000             murder   88.000000  16.0000  16.0000\n",
       "512   Default   84.000000          community   84.000000  15.0000  15.0000\n",
       "53    Default   84.000000              speak   84.000000  14.0000  14.0000\n",
       "707   Default   78.000000              order   78.000000  13.0000  13.0000\n",
       "245   Default   76.000000                 au   76.000000  12.0000  12.0000\n",
       "210   Default   89.000000  #domesticviolence   89.000000  11.0000  11.0000\n",
       "662   Default   74.000000             change   74.000000  10.0000  10.0000\n",
       "134   Default   71.000000              great   71.000000   9.0000   9.0000\n",
       "159   Default  106.000000             report  106.000000   8.0000   8.0000\n",
       "622   Default   70.000000              stand   70.000000   7.0000   7.0000\n",
       "3     Default   68.000000               kill   68.000000   6.0000   6.0000\n",
       "601   Default   67.000000   royal_commission   67.000000   5.0000   5.0000\n",
       "62    Default   83.000000             people   83.000000   4.0000   4.0000\n",
       "3345  Default   67.000000                nfl   67.000000   3.0000   3.0000\n",
       "353   Default   66.000000               song   66.000000   2.0000   2.0000\n",
       "284   Default   66.000000           campaign   66.000000   1.0000   1.0000\n",
       "...       ...         ...                ...         ...      ...      ...\n",
       "1413  Topic13   15.330082                boy   15.330082   2.5712  -4.8252\n",
       "218   Topic13   14.150845            hotline   14.150845   2.5712  -4.9053\n",
       "492   Topic13   14.150845           homicide   14.150845   2.5712  -4.9053\n",
       "676   Topic13   12.971608                 st   12.971608   2.5712  -4.9923\n",
       "2716  Topic13   12.971608      brutal_murder   12.971608   2.5712  -4.9923\n",
       "76    Topic13   12.971608             accept   12.971608   2.5712  -4.9923\n",
       "2286  Topic13   12.971608           mcdonald   12.971608   2.5712  -4.9923\n",
       "765   Topic13   11.792371                ray   11.792371   2.5712  -5.0876\n",
       "2248  Topic13   10.613134             couple   10.613134   2.5712  -5.1930\n",
       "3247  Topic13   10.613134       commissioner   10.613134   2.5712  -5.1930\n",
       "348   Topic13    9.433897               rate    9.433897   2.5712  -5.3107\n",
       "1639  Topic13    8.254659            johnson    8.254659   2.5712  -5.4443\n",
       "2339  Topic13    8.254659               porn    8.254659   2.5712  -5.4443\n",
       "3384  Topic13    7.075422             praise    7.075422   2.5712  -5.5984\n",
       "3394  Topic13    7.075422            jessica    7.075422   2.5712  -5.5984\n",
       "2719  Topic13    7.075422            spur_sa    7.075422   2.5712  -5.5984\n",
       "965   Topic13   47.169483                act   48.301318   2.5475  -3.7013\n",
       "1196  Topic13    7.075422           politics    7.075422   2.5712  -5.5984\n",
       "401   Topic13   34.197875       white_ribbon   35.351223   2.5380  -4.0229\n",
       "1899  Topic13   28.301690             player   29.430377   2.5321  -4.2121\n",
       "832   Topic13   28.301690              march   29.455038   2.5312  -4.2121\n",
       "1231  Topic13   17.688556                cop   18.815583   2.5094  -4.6821\n",
       "2689  Topic13   15.330082            suspend   16.479772   2.4989  -4.8252\n",
       "3323  Topic13   20.047030           ray_rice   23.428111   2.4153  -4.5570\n",
       "768   Topic13   14.150845               wife   15.347771   2.4900  -4.9053\n",
       "439   Topic13   23.584741           epidemic   30.339863   2.3193  -4.3944\n",
       "903   Topic13   25.943215           victoria   39.773352   2.1439  -4.2991\n",
       "287   Topic13   35.377112                end   74.563468   1.8256  -3.9890\n",
       "99    Topic13   17.688556               hope   28.460894   2.0956  -4.6821\n",
       "103   Topic13   14.150845              piece   17.635697   2.3510  -4.9053\n",
       "\n",
       "[916 rows x 6 columns], token_table=      Topic      Freq                 Term\n",
       "term                                      \n",
       "2365     12  0.835473                  #1u\n",
       "743       8  0.166245               #9news\n",
       "743       9  0.831225               #9news\n",
       "1027      9  0.998202            #9newsat6\n",
       "3523      5  0.966444          #9newscomau\n",
       "584       6  1.041204             #abcnews\n",
       "2354     11  0.867041                 #aca\n",
       "1223      1  0.973331                #aca9\n",
       "2657      5  0.869799                 #acf\n",
       "2321      3  0.880759          #adelaide's\n",
       "2552      2  1.033649             #alcohol\n",
       "5278      1  0.898459             #asktony\n",
       "2539      7  1.036251              #auslaw\n",
       "119       7  1.000320              #auspol\n",
       "2406     11  0.867041  #australianmagazine\n",
       "2327     12  1.113964           #ausunions\n",
       "2196     11  0.867041             #awkward\n",
       "2682      2  0.885985           #badenclay\n",
       "2206      7  1.036251             #bendigo\n",
       "2455      7  0.888215                #blue\n",
       "2617      4  0.879659          #brazil2014\n",
       "1998      5  0.869799            #brisbane\n",
       "2231      7  0.888215              #cdaa14\n",
       "2240     11  0.867041               #celeb\n",
       "2523      5  0.869799            #chaplain\n",
       "2499      7  0.888215      #charterstowers\n",
       "2536      9  0.887290             #clfboys\n",
       "2607      5  0.869799         #criminology\n",
       "1316     11  0.975421  #domestic_#violence\n",
       "210       1  0.144582    #domesticviolence\n",
       "...     ...       ...                  ...\n",
       "1379      5  0.362379                  win\n",
       "1379      6  0.579807                  win\n",
       "2982      6  0.867670          wisadelaide\n",
       "1309      7  0.986905              witness\n",
       "9         2  0.999327                woman\n",
       "501       5  1.027945                 word\n",
       "44        4  0.626917                 work\n",
       "44        6  0.250767                 work\n",
       "44        9  0.125383                 work\n",
       "824      12  1.021134               worker\n",
       "162       7  0.986905                world\n",
       "2602      6  0.987349            world_cup\n",
       "3189      1  0.998288                worry\n",
       "1830      8  1.030774                worth\n",
       "1375      8  0.077645                  wow\n",
       "1375     10  0.931737                  wow\n",
       "156       1  0.953925                write\n",
       "156       7  0.056113                write\n",
       "1248      1  0.993034                wrong\n",
       "4576     12  0.992124                 xmas\n",
       "3163     13  1.007007          yahoo_sport\n",
       "638       9  0.887290                 yall\n",
       "133       3  0.391739                 year\n",
       "133       6  0.022385                 year\n",
       "133       9  0.582012                 year\n",
       "616       5  0.966444            yesterday\n",
       "2781      2  0.885985                yikes\n",
       "4915      1  0.898459                 york\n",
       "617       1  0.988305                young\n",
       "1527      4  1.014991                   yr\n",
       "\n",
       "[1024 rows x 3 columns], R=30, lambda_step=0.01, plot_opts={'xlab': 'PC1', 'ylab': 'PC2'}, topic_order=[12, 3, 9, 1, 2, 11, 4, 6, 7, 5, 8, 13, 10])"
      ]
     },
     "execution_count": 357,
     "metadata": {},
     "output_type": "execute_result"
    }
   ],
   "source": [
    "pyLDAvis.enable_notebook()\n",
    "model = gensim.models.wrappers.ldamallet.malletmodel2ldamodel(model_list[9])\n",
    "vis = pyLDAvis.gensim.prepare(model, corpus, id2word)\n",
    "vis"
   ]
  },
  {
   "cell_type": "code",
   "execution_count": 358,
   "metadata": {},
   "outputs": [],
   "source": [
    "pyLDAvis.save_html(vis, 'output/2014/visually_aided_clusters/2014_13_clusters.html')"
   ]
  },
  {
   "cell_type": "code",
   "execution_count": null,
   "metadata": {},
   "outputs": [],
   "source": []
  },
  {
   "cell_type": "code",
   "execution_count": 113,
   "metadata": {},
   "outputs": [],
   "source": [
    "import tweepy\n",
    "\n",
    "consumer_key = 'bhnwy7L8zKWwZGsljOeJDSnPf'\n",
    "consumer_secret = 'nPyTwiGZxdgMs3SUjEcfY72u7j9BsB8c9JjGgl2yZTAsHYBDiL'\n",
    "access_token = '835404171335479296-bftKo65lqhjA2UwIV9jRCZGxkwOMy6a'\n",
    "access_token_secret = 'wbXNX0N3O0SyFqx4MvJFHiYbunfUcV6ZamqN8jFcr6XAy'\n",
    "\n",
    "auth = tweepy.OAuthHandler(consumer_key, consumer_secret)\n",
    "auth.set_access_token(access_token, access_token_secret)\n",
    "\n",
    "api = tweepy.API(auth)"
   ]
  }
 ],
 "metadata": {
  "kernelspec": {
   "display_name": "Python 3",
   "language": "python",
   "name": "python3"
  },
  "language_info": {
   "codemirror_mode": {
    "name": "ipython",
    "version": 3
   },
   "file_extension": ".py",
   "mimetype": "text/x-python",
   "name": "python",
   "nbconvert_exporter": "python",
   "pygments_lexer": "ipython3",
   "version": "3.7.1"
  }
 },
 "nbformat": 4,
 "nbformat_minor": 2
}
