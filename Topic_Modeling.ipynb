{
 "cells": [
  {
   "cell_type": "code",
   "execution_count": 1,
   "metadata": {},
   "outputs": [],
   "source": [
    "import re\n",
    "import numpy as np\n",
    "import pandas as pd\n",
    "from pprint import pprint\n",
    "import sqlite3\n",
    "\n",
    "# Gensim\n",
    "import gensim\n",
    "import gensim.corpora as corpora\n",
    "from gensim.utils import simple_preprocess\n",
    "from gensim.models import CoherenceModel\n",
    "\n",
    "# NLTK\n",
    "from nltk.corpus import stopwords\n",
    "from nltk import word_tokenize\n",
    "from nltk.stem.wordnet import WordNetLemmatizer\n",
    "\n",
    "# Plotting tools\n",
    "import pyLDAvis\n",
    "import pyLDAvis.gensim  # don't skip this\n",
    "import matplotlib.pyplot as plt\n",
    "%matplotlib inline\n",
    "\n",
    "# Enable logging for gensim - optional\n",
    "import logging\n",
    "logging.basicConfig(format='%(asctime)s : %(levelname)s : %(message)s', level=logging.ERROR)\n",
    "\n",
    "import warnings\n",
    "warnings.filterwarnings(\"ignore\",category=DeprecationWarning)"
   ]
  },
  {
   "cell_type": "code",
   "execution_count": 24,
   "metadata": {},
   "outputs": [],
   "source": [
    "lmtz = WordNetLemmatizer()\n",
    "\n",
    "\n",
    "def lemmatize(word):\n",
    "    if word.startswith('#'):\n",
    "        return word\n",
    "    \n",
    "    lemma = lmtz.lemmatize(word, 'v')\n",
    "    if lemma == word:\n",
    "        lemma = lmtz.lemmatize(word, 'n')\n",
    "    return lemma\n",
    "\n",
    "\n",
    "def strip_punc(s):\n",
    "    if s[0] == '#':\n",
    "        return s\n",
    "    return ''.join([c for c in s if c.isalpha()])"
   ]
  },
  {
   "cell_type": "markdown",
   "metadata": {},
   "source": [
    "### Stop words"
   ]
  },
  {
   "cell_type": "code",
   "execution_count": 15,
   "metadata": {},
   "outputs": [],
   "source": [
    "stop_words = [strip_punc(w) for w in stopwords.words('english')]\n",
    "stop_words.extend([\n",
    "    'i',\n",
    "    'u',\n",
    "    'r',\n",
    "    'im',\n",
    "    'cant',\n",
    "    'would',\n",
    "    'family',\n",
    "    'domestic',\n",
    "    'violence',\n",
    "    'australia',\n",
    "    'australian',\n",
    "    '#dv',\n",
    "    '#fv',\n",
    "    'dv',\n",
    "    'fv'\n",
    "    '#domesticviolence',\n",
    "    '#familyviolence',\n",
    "    'wa',\n",
    "    'via',\n",
    "    'today',\n",
    "    'thing'\n",
    "])"
   ]
  },
  {
   "cell_type": "markdown",
   "metadata": {},
   "source": [
    "### Data from SQLite"
   ]
  },
  {
   "cell_type": "code",
   "execution_count": 4,
   "metadata": {},
   "outputs": [],
   "source": [
    "import tweepy\n",
    "\n",
    "consumer_key = 'bhnwy7L8zKWwZGsljOeJDSnPf'\n",
    "consumer_secret = 'nPyTwiGZxdgMs3SUjEcfY72u7j9BsB8c9JjGgl2yZTAsHYBDiL'\n",
    "access_token = '835404171335479296-bftKo65lqhjA2UwIV9jRCZGxkwOMy6a'\n",
    "access_token_secret = 'wbXNX0N3O0SyFqx4MvJFHiYbunfUcV6ZamqN8jFcr6XAy'\n",
    "\n",
    "auth = tweepy.OAuthHandler(consumer_key, consumer_secret)\n",
    "auth.set_access_token(access_token, access_token_secret)\n",
    "\n",
    "api = tweepy.API(auth)"
   ]
  },
  {
   "cell_type": "code",
   "execution_count": 6,
   "metadata": {},
   "outputs": [
    {
     "name": "stdout",
     "output_type": "stream",
     "text": [
      "25456\n"
     ]
    },
    {
     "data": {
      "text/plain": [
       "25456"
      ]
     },
     "execution_count": 6,
     "metadata": {},
     "output_type": "execute_result"
    }
   ],
   "source": [
    "conn = sqlite3.connect('dpc.db')\n",
    "c = conn.cursor()\n",
    "\n",
    "data = []\n",
    "replied_ids = []\n",
    "for (date, text, ftext, replied_id) in c.execute('SELECT created_at, text, [extended_tweet.full_text], in_reply_to_status_id FROM tweets'):\n",
    "    if date.split(' ')[-1] == '2018':\n",
    "        if ftext:\n",
    "            data.append(ftext)\n",
    "        else:\n",
    "            data.append(text)\n",
    "        \n",
    "        if replied_id:\n",
    "            replied_ids.append(replied_id)\n",
    "        else:\n",
    "            replied_ids.append(None)\n",
    "        \n",
    "conn.close()\n",
    "print(len(data))\n",
    "len(replied_ids)"
   ]
  },
  {
   "cell_type": "markdown",
   "metadata": {},
   "source": [
    "### Preprocessing"
   ]
  },
  {
   "cell_type": "code",
   "execution_count": 25,
   "metadata": {},
   "outputs": [
    {
     "name": "stdout",
     "output_type": "stream",
     "text": [
      "0 100 200 300 400 500 600 700 800 900 1000 1100 1200 1300 1400 1500 1600 1700 1800 1900 2000 2100 2200 2300 2400 2500 2600 2700 2800 2900 3000 3100 3200 3300 3400 3500 3600 3700 3800 3900 4000 4100 4200 4300 4400 4500 4600 4700 4800 4900 5000 5100 5200 5300 5400 5500 5600 5700 5800 5900 6000 6100 6200 6300 6400 6500 6600 6700 6800 6900 7000 7100 7200 7300 7400 7500 7600 7700 7800 7900 8000 8100 8200 8300 8400 8500 8600 8700 8800 8900 9000 9100 9200 9300 9400 9500 9600 9700 9800 9900 10000 10100 10200 10300 10400 10500 10600 10700 10800 10900 11000 11100 11200 11300 11400 11500 11600 11700 11800 11900 12000 12100 12200 12300 12400 12500 12600 12700 12800 12900 13000 13100 13200 13300 13400 13500 13600 13700 13800 13900 14000 14100 14200 14300 14400 14500 14600 14700 14800 14900 15000 15100 15200 15300 15400 15500 15600 15700 15800 15900 16000 16100 16200 16300 16400 16500 16600 16700 16800 16900 17000 17100 17200 17300 17400 17500 17600 17700 17800 17900 18000 18100 18200 18300 18400 18500 18600 18700 18800 18900 19000 19100 19200 19300 19400 19500 19600 19700 19800 19900 20000 20100 20200 20300 20400 20500 20600 20700 20800 20900 21000 21100 21200 21300 21400 21500 21600 21700 21800 21900 22000 22100 22200 22300 22400 22500 22600 22700 22800 22900 23000 23100 23200 23300 23400 23500 23600 23700 23800 23900 24000 24100 24200 24300 24400 24500 24600 24700 24800 24900 25000 25100 25200 25300 25400 "
     ]
    }
   ],
   "source": [
    "set_cleaned_sent = set()\n",
    "data_lemmatized = []\n",
    "indices = [] # points back to index in original data\n",
    "\n",
    "for i, sent in enumerate(data):\n",
    "    \n",
    "    cleaned_sent = ''\n",
    "    for token in sent.split():\n",
    "        \n",
    "        # Cleaning\n",
    "        if token[0] in ['@','$','%','^','&','*'] or token.startswith('http'):\n",
    "            continue\n",
    "\n",
    "        # Remove puctuations, lower case\n",
    "        token = strip_punc(token.lower())\n",
    "        \n",
    "        # Lemmatize\n",
    "        lemma = lemmatize(token)\n",
    "\n",
    "        if lemma and lemma not in stop_words:\n",
    "            cleaned_sent += lemma + ' '\n",
    "    \n",
    "    cleaned_sent = cleaned_sent.strip()\n",
    "    \n",
    "    # Check for duplicates\n",
    "    if cleaned_sent and cleaned_sent not in set_cleaned_sent:\n",
    "        set_cleaned_sent.add(cleaned_sent)\n",
    "        data_lemmatized.append(cleaned_sent.split())\n",
    "        indices.append(i)\n",
    "        \n",
    "    if i % 100 == 0:\n",
    "        print(i, end=' ')"
   ]
  },
  {
   "cell_type": "code",
   "execution_count": 26,
   "metadata": {},
   "outputs": [
    {
     "name": "stdout",
     "output_type": "stream",
     "text": [
      "0 ['wait', 'also', 'offer', 'totally', 'unionise', 'workforce', 'productive', 'safely', 'ph', 'day', 'sick', 'leave', 'day', 'day', 'day', 'compassionate', 'leave', 'rdo', 'every', 'fortnight', 'person', 'work', 'day', 'year']\n",
      "1 ['survey', 'wide', '#dvagainstmen', 'poll', 'prove', 'skew', 'bias']\n",
      "2 ['year', 'end', 'cycle', 'society', 'provide', 'service', 'support', 'victim', 'regardless', 'age', 'gender', 'sexuality', 'together', '#endalldv', '#happynewyear', 'team', 'endalldv']\n",
      "3 ['sex', 'robot', 'future', 'get', 'headache', 'ability', 'use', 'hotlines', 'sergi', 'santos']\n",
      "4 ['month', 'pay', 'leave', 'per', 'year', 'fuck', 'raut', 'learn', 'lesson', 'first', 'time', 'others', 'pay']\n",
      "5 ['government', 'address', 'underlie', 'cause', 'crime', 'rate', 'homelessness', 'mental', 'health', 'issue']\n",
      "6 ['victoria', 'experience', 'biggest', 'drop', 'overall', 'crime', 'rate', 'year', 'sexual', 'assault', 'remain', 'biggest', 'problem', 'area', 'latest', 'figure', 'crime', 'statistic', 'agency', 'csa', 'reveal', 'turnbull', 'lie', '#auspol', '#lnpfraud']\n",
      "7 ['turnbull', 'lie', 'abc', 'report', 'victoria', 'experience', 'biggest', 'drop', 'overall', 'crime', 'rate', 'year', 'sexual', 'assault', 'remain', 'biggest', 'problem', 'area', 'latest', 'figure', 'crime', 'statistic', 'agency', 'csa', 'reveal', '#auspol', '#vicpol']\n",
      "8 ['blame', 'victorian', 'state', 'govt', 'fail', 'solve', 'fake', 'crime', 'wave', 'ignore', 'veteran', 'suicide', 'distress', 'war', 'terror', 'sham', 'stop', 'ignore', 'murder', 'veteran', 'suicide', 'indigenous', 'poverty']\n",
      "9 ['year', 'end', 'cycle', 'let', 'unite', 'provide', 'service', 'support', '#domesticviolence', 'victim', 'regardless', 'gender', 'age', 'sexuality', 'let', 'one', 'make', 'happen', '#happynewyear2018', 'team', '#dvfree']\n",
      "10 ['foreign', 'invasion', 'relevant', 'state', 'request', 'jeff', 'right']\n",
      "11 ['spike', 'summer', 'authority', 'warn', 'alcohol', 'festive', 'stress', 'blame', '#adelaide']\n",
      "12 ['vote', 'yes', '#ssm', 'plebiscite', 'think', 'hold', 'prefer', 'govt', 'spend', 'equivalent', 'improve', 'early', 'literacy', 'reduce', 'create', 'world', 'class', 'youth', 'justice', 'system', 'republic', 'burn', 'issue']\n",
      "13 ['hear', 'speak', 'victim', 'share', 'story']\n",
      "14 ['try', 'bump', 'poll', 'gang', 'woman', 'week', 'kill', '#lnp', 'cut', 'fund', 'woman', 'shelter', 'force', 'single', 'mother', 'onto', 'new', 'start', '#nbnmalfunctions', 'statement', 'publicity', 'stunt', 'state', 'issue']\n",
      "15 ['govt', 'fund', 'biggest', 'ever', 'expansion', 'child', 'protection', 'workforce', 'extra', 'staff', 'budget', 'alone', 'reportable', 'conduct', 'scheme', 'directly', 'relate', 'cps', 'work', 'administer', 'ccyp', 'ensure', 'indept', 'oversight', 'investigation']\n",
      "16 ['downer', 'truth', 'fighter', 'time', 'time', 'remember', 'matter', 'batter', 'policy', 'also']\n",
      "17 ['#apprehendeddomesticviolenceorder', '#breachofanavo', '#breachofconsentorders', '#breachofcourtorders', '#breachoffinancialorders', '#breachofparentingorders', '#breachofpropertyorders', '#definitionoffamilyviolence', '#familyviolenceinterventionorders', '#victimsofdomesticviolence']\n",
      "18 ['study', 'respond', 'brain', 'body', 'trauma', 'talk', 'rational', 'conscious', 'self', 'address', 'involuntary', 'trauma', 'response', 'learn', 'skilled', 'violenceabuse', 'specialist', 'many', 'professional', 'still', 'train', 'mi', 'recognise', 'trick']\n",
      "19 ['case', 'manager', 'mornington', 'peninsulajobs', 'work', 'aware', 'one', 'four', 'au']\n",
      "20 ['domesticfamily', 'advice', 'report', 'experience']\n",
      "21 ['post', 'card', 'arrive']\n",
      "22 ['become', 'republic', 'solve', 'homelessness', 'divisive', 'nature', 'identity', 'politics', 'amaze', 'anyone', 'think', 'solution', 'maybe', 'mean', 'zilch', 'homeless', 'transmuslimwomen', 'st', 'world', 'probs', 'pete']\n",
      "25 ['check', 'information', 'share', 'reform', 'work', 'child']\n",
      "26 ['sorry', 'hear', 'year', 'end', 'likely', 'death', 'mandurah', 'determine', 'redouble', 'effort', '#endfdv']\n",
      "27 ['hello', 'russell', 'katie', 'western', 'singer', 'songwriter', 'survivor', 'really', 'need', 'talk', 'right', 'private', 'message', 'somehow', 'friend', 'attempt', 'end', 'life', 'overdose', 'physic', 'med']\n",
      "28 ['hello', 'russell', 'brand', 'singer', 'songwriter', 'survivor', 'struggle', 'mental', 'health', 'battle', 'self', 'harm', 'since', 'ashamed']\n",
      "29 ['unfortunately', 'cheap', 'slogan', 'virtue', 'signal', 'stop', 'real', 'action', 'willwapol']\n",
      "30 ['primary', 'school', 'principal', 'slam', 'ax', 'read', 'recovery', 'program', 'read', 'program', 'magic', 'medicine', 'imperative', 'child', 'leave', 'marital', 'home', 'program', 'help', 'child', 'recover', 'social', 'skill', 'learn', 'skill']\n",
      "31 ['woman', 'die', 'maybe', 'storm', 'trooper', 'beat', 'lousy', 'partner', 'instead']\n",
      "32 ['option', 'escape', 'famiy', 'hospitalise', 'treat', 'jail', 'breach', 'human', 'right']\n",
      "34 ['hello', 'ozzy', 'osbourne', 'grow', 'music', 'father', 'survivor', 'singer', 'songwriter', 'love', 'music']\n",
      "35 ['hello', 'survivor', 'need', 'help', 'grow', 'atheist', 'household', 'change', 'private', 'message']\n",
      "36 ['hello', 'need', 'help', 'western', 'survivor', 'friend', 'day', 'overdose', 'physic', 'med', 'youth', 'mental', 'health', 'unit', 'support', 'much', 'drain']\n",
      "37 ['hello', 'boy', 'george', 'completely', 'agree', 'admire', 'lot', 'western', 'singer', 'songwriter', 'write', 'experience']\n",
      "39 ['war', 'readiness', 'corruption', 'learn', 'behaviour', 'peaceful', 'coexistence', 'allow', 'live', 'flourish']\n",
      "40 ['work', 'eliminate', 'involve', 'social', 'change', 'political', 'action', '#vaw']\n",
      "41 ['twitter', 'allow', 'abuse', 'illegal', 'law', 'eg', 'contrary', 'order']\n",
      "42 ['everyone', 'deserve', 'live', 'safe', 'free', 'experience', 'abuse', 'someone', 'close', 'always', 'someone', 'safe', 'step', 'available', 'provide', 'confidential', 'support', 'information', 'call', 'response', 'phone', 'line']\n",
      "43 ['far', 'biggest', 'terror', 'equality', 'house', 'important', 'issue']\n",
      "44 ['evan', 'jones', 'men', 'december', 'pm', 'newcastle', 'nsw', 'come']\n",
      "45 ['stuart', 'parker', 'men', 'december', 'pm', 'perth', 'big', 'shout']\n",
      "46 ['rusty', 'cook', 'men', 'december', 'pm', 'hi', 'write', 'post']\n",
      "47 ['add', 'alcohol', 'mix', 'problematic', 'nonreflective', 'way', 'start', 'year', 'guess', 'natural', 'followup', 'crass', 'consumerism', 'week', 'priorimaginary', 'friend']\n",
      "48 ['politician', 'strip', 'bang', 'carpe', 'diem', 'better']\n",
      "49 ['victoria', 'state', 'reduce', 'crime', 'rate', 'last', 'year', 'look', 'forward', 'turnbull', 'government', 'talk', 'epidemic', 'commit', 'white', 'malesbut', 'hold', 'breath', 'wait', '#auspol']\n",
      "50 ['survey', 'victim', 'employ', 'relationship', 'able', 'keep', 'job', 'abusive', 'partner', '#nz']\n",
      "51 ['grey', 'area', 'victim', 'disability']\n",
      "52 ['christmas', 'drive', 'produce', 'outstanding', 'result', 'generosity', 'compassion', 'empathy', 'everyone', 'work', 'together', 'help', 'experience', 'homelessness', 'financial', 'stress', 'get', 'back', 'foot', 'thank', '#centralcoastnsw!', '#homelessness', '#grateful']\n",
      "53 ['archbishop', 'coleridge', 'say', 'abc', 'interest', 'real', 'story', 'catholic', 'church', 'follow', 'controversial', 'report']\n"
     ]
    }
   ],
   "source": [
    "for i, sent in enumerate(data_lemmatized[:50]):\n",
    "    print(indices[i], sent)"
   ]
  },
  {
   "cell_type": "markdown",
   "metadata": {},
   "source": [
    "### Creating Bigram and Trigram Models"
   ]
  },
  {
   "cell_type": "code",
   "execution_count": 27,
   "metadata": {},
   "outputs": [],
   "source": [
    "# Build the bigram and trigram models\n",
    "bigram = gensim.models.Phrases(data_lemmatized, min_count=5, threshold=100) # higher threshold fewer phrases.\n",
    "trigram = gensim.models.Phrases(bigram[data_lemmatized], threshold=100)  \n",
    "\n",
    "# Faster way to get a Tweet clubbed as a trigram/bigram\n",
    "bigram_mod = gensim.models.phrases.Phraser(bigram)\n",
    "trigram_mod = gensim.models.phrases.Phraser(trigram)"
   ]
  },
  {
   "cell_type": "code",
   "execution_count": 28,
   "metadata": {},
   "outputs": [],
   "source": [
    "def make_bigrams(texts):\n",
    "    return [bigram_mod[doc] for doc in texts]\n",
    "\n",
    "\n",
    "def make_trigrams(texts):\n",
    "    return [trigram_mod[bigram_mod[doc]] for doc in texts]"
   ]
  },
  {
   "cell_type": "code",
   "execution_count": 29,
   "metadata": {},
   "outputs": [],
   "source": [
    "data_lemmatized = make_bigrams(data_lemmatized)"
   ]
  },
  {
   "cell_type": "markdown",
   "metadata": {},
   "source": [
    "### Create the Dictionary and Corpus needed for Topic Modeling"
   ]
  },
  {
   "cell_type": "code",
   "execution_count": 30,
   "metadata": {},
   "outputs": [
    {
     "name": "stdout",
     "output_type": "stream",
     "text": [
      "[[(0, 1), (1, 1), (2, 5), (3, 1), (4, 1), (5, 2), (6, 1), (7, 1), (8, 1), (9, 1), (10, 1), (11, 1), (12, 1), (13, 1), (14, 1), (15, 1), (16, 1), (17, 1), (18, 1)]]\n"
     ]
    }
   ],
   "source": [
    "# Create Dictionary\n",
    "id2word = corpora.Dictionary(data_lemmatized)\n",
    "\n",
    "# Create Corpus\n",
    "texts = data_lemmatized\n",
    "\n",
    "# Term Document Frequency\n",
    "corpus = [id2word.doc2bow(text) for text in texts]\n",
    "\n",
    "# View\n",
    "print(corpus[:1])"
   ]
  },
  {
   "cell_type": "markdown",
   "metadata": {},
   "source": [
    "### Building LDA Mallet Model\n",
    "Mallet’s version of LDA often gives a better quality of topics.\n",
    "Num of topics = 20 at this step."
   ]
  },
  {
   "cell_type": "code",
   "execution_count": 31,
   "metadata": {},
   "outputs": [],
   "source": [
    "# Download File: http://mallet.cs.umass.edu/dist/mallet-2.0.8.zip\n",
    "mallet_path = 'mallet-2.0.8/bin/mallet' # update this path\n",
    "# ldamallet = gensim.models.wrappers.LdaMallet(mallet_path, corpus=corpus, num_topics=12, id2word=id2word)"
   ]
  },
  {
   "cell_type": "markdown",
   "metadata": {},
   "source": [
    "### Optimal number of topics for LDA\n",
    "Build many LDA models with different values of number of topics (k) and pick the one that gives the highest coherence value."
   ]
  },
  {
   "cell_type": "code",
   "execution_count": 32,
   "metadata": {},
   "outputs": [],
   "source": [
    "def compute_coherence_values(dictionary, corpus, texts, limit, start=2, step=3):\n",
    "    \"\"\"\n",
    "    Compute c_v coherence for various number of topics\n",
    "\n",
    "    Parameters:\n",
    "    ----------\n",
    "    dictionary : Gensim dictionary\n",
    "    corpus : Gensim corpus\n",
    "    texts : List of input texts\n",
    "    limit : Max num of topics\n",
    "\n",
    "    Returns:\n",
    "    -------\n",
    "    model_list : List of LDA topic models\n",
    "    coherence_values : Coherence values corresponding to the LDA model with respective number of topics\n",
    "    \"\"\"\n",
    "    coherence_values = []\n",
    "    model_list = []\n",
    "    for num_topics in range(start, limit, step):\n",
    "        model = gensim.models.wrappers.LdaMallet(mallet_path, corpus=corpus, num_topics=num_topics, id2word=id2word)\n",
    "        model_list.append(model)\n",
    "        print(len(model_list)-1,end=' ')\n",
    "        coherencemodel = CoherenceModel(model=model, texts=texts, dictionary=dictionary, coherence='c_v')\n",
    "        coherence_values.append(coherencemodel.get_coherence())\n",
    "\n",
    "    return model_list, coherence_values"
   ]
  },
  {
   "cell_type": "markdown",
   "metadata": {},
   "source": [
    "#### Topic coherence provide a convenient measure to judge how good a given topic model is."
   ]
  },
  {
   "cell_type": "code",
   "execution_count": 33,
   "metadata": {},
   "outputs": [
    {
     "name": "stdout",
     "output_type": "stream",
     "text": [
      "1 2 3 4 5 6 7 8 "
     ]
    }
   ],
   "source": [
    "# Takes a long time to run.\n",
    "model_list, coherence_values = compute_coherence_values(dictionary=id2word, corpus=corpus, texts=data_lemmatized, start=4, limit=21, step=2)"
   ]
  },
  {
   "cell_type": "code",
   "execution_count": 38,
   "metadata": {},
   "outputs": [],
   "source": [
    "# model = gensim.models.wrappers.LdaMallet(mallet_path, corpus=corpus, num_topics=20, id2word=id2word)\n",
    "# model_list.append(model)\n",
    "# coherencemodel = CoherenceModel(model=model, texts=texts, dictionary=id2word, coherence='c_v')\n",
    "# coherence_values.append(coherencemodel.get_coherence())"
   ]
  },
  {
   "cell_type": "markdown",
   "metadata": {},
   "source": [
    "# Graph - 2018"
   ]
  },
  {
   "cell_type": "code",
   "execution_count": 39,
   "metadata": {},
   "outputs": [
    {
     "data": {
      "image/png": "[encoded data removed]",
      "text/plain": [
       "<Figure size 432x288 with 1 Axes>"
      ]
     },
     "metadata": {
      "needs_background": "light"
     },
     "output_type": "display_data"
    }
   ],
   "source": [
    "limit=21; start=4; step=2;\n",
    "x = range(start, limit, step)\n",
    "plt.plot(x, coherence_values)\n",
    "plt.xlabel(\"Num Topics\")\n",
    "plt.ylabel(\"Coherence score\")\n",
    "plt.legend((\"coherence_values\"), loc='best')\n",
    "plt.show()"
   ]
  },
  {
   "cell_type": "code",
   "execution_count": null,
   "metadata": {
    "scrolled": true
   },
   "outputs": [],
   "source": [
    "# Select the 3 optimal models\n",
    "optimal_model = model_list[1]\n",
    "model_topics = optimal_model.show_topics(formatted=False)\n",
    "# pprint(optimal_model.print_topics(num_words=10))"
   ]
  },
  {
   "cell_type": "markdown",
   "metadata": {},
   "source": [
    "### Find the most representative document for each topic"
   ]
  },
  {
   "cell_type": "code",
   "execution_count": 41,
   "metadata": {},
   "outputs": [],
   "source": [
    "# Finding the dominant topic in each Tweet\n",
    "\n",
    "\n",
    "def format_topics_sentences(ldamodel, corpus=corpus, texts=data):\n",
    "    # Init output\n",
    "    sent_topics_df = pd.DataFrame()\n",
    "\n",
    "    # Get main topic in each document\n",
    "    for i, row in enumerate(ldamodel[corpus]):\n",
    "        row = sorted(row, key=lambda x: (x[1]), reverse=True)\n",
    "        # Get the Dominant topic, Perc Contribution and Keywords for each document\n",
    "        for j, (topic_num, prop_topic) in enumerate(row):\n",
    "            if j == 0:  # => dominant topic\n",
    "                wp = ldamodel.show_topic(topic_num)\n",
    "                topic_keywords = \", \".join([word for word, prop in wp])\n",
    "                sent_topics_df = sent_topics_df.append(pd.Series([int(topic_num), round(prop_topic,4), topic_keywords]), ignore_index=True)\n",
    "            else:\n",
    "                break\n",
    "    sent_topics_df.columns = ['Dominant_Topic', 'Perc_Contribution', 'Topic_Keywords']\n",
    "\n",
    "    # Add original text to the end of the output\n",
    "    contents = pd.Series(texts)\n",
    "    sent_topics_df = pd.concat([sent_topics_df, contents], axis=1)\n",
    "    return(sent_topics_df)"
   ]
  },
  {
   "cell_type": "code",
   "execution_count": 42,
   "metadata": {
    "scrolled": true
   },
   "outputs": [],
   "source": [
    "df_topic_sents_keywords = format_topics_sentences(ldamodel=optimal_model, corpus=corpus, texts=data)\n",
    "\n",
    "# Format\n",
    "df_dominant_topic = df_topic_sents_keywords.reset_index()\n",
    "df_dominant_topic.columns = ['Document_No', 'Dominant_Topic', 'Topic_Perc_Contrib', 'Keywords', 'Text']\n",
    "\n"
   ]
  },
  {
   "cell_type": "code",
   "execution_count": 43,
   "metadata": {},
   "outputs": [
    {
     "data": {
      "text/html": [
       "<div>\n",
       "<style scoped>\n",
       "    .dataframe tbody tr th:only-of-type {\n",
       "        vertical-align: middle;\n",
       "    }\n",
       "\n",
       "    .dataframe tbody tr th {\n",
       "        vertical-align: top;\n",
       "    }\n",
       "\n",
       "    .dataframe thead th {\n",
       "        text-align: right;\n",
       "    }\n",
       "</style>\n",
       "<table border=\"1\" class=\"dataframe\">\n",
       "  <thead>\n",
       "    <tr style=\"text-align: right;\">\n",
       "      <th></th>\n",
       "      <th>Document_No</th>\n",
       "      <th>Dominant_Topic</th>\n",
       "      <th>Topic_Perc_Contrib</th>\n",
       "      <th>Keywords</th>\n",
       "      <th>Text</th>\n",
       "    </tr>\n",
       "  </thead>\n",
       "  <tbody>\n",
       "    <tr>\n",
       "      <th>0</th>\n",
       "      <td>0</td>\n",
       "      <td>1.0</td>\n",
       "      <td>0.2870</td>\n",
       "      <td>year, leave, day, survivor, find, story, home,...</td>\n",
       "      <td>But wait.  Theres more .\\n\\nAustralia also off...</td>\n",
       "    </tr>\n",
       "    <tr>\n",
       "      <th>1</th>\n",
       "      <td>1</td>\n",
       "      <td>2.0</td>\n",
       "      <td>0.2008</td>\n",
       "      <td>support, work, service, community, experience,...</td>\n",
       "      <td>Domestic Violence Survey Australia Wide.\\n@dva...</td>\n",
       "    </tr>\n",
       "    <tr>\n",
       "      <th>2</th>\n",
       "      <td>2</td>\n",
       "      <td>2.0</td>\n",
       "      <td>0.2656</td>\n",
       "      <td>support, work, service, community, experience,...</td>\n",
       "      <td>2018 is the year that we can end the cycle of ...</td>\n",
       "    </tr>\n",
       "    <tr>\n",
       "      <th>3</th>\n",
       "      <td>3</td>\n",
       "      <td>1.0</td>\n",
       "      <td>0.1782</td>\n",
       "      <td>year, leave, day, survivor, find, story, home,...</td>\n",
       "      <td>Will sex robots of the future get headaches or...</td>\n",
       "    </tr>\n",
       "    <tr>\n",
       "      <th>4</th>\n",
       "      <td>4</td>\n",
       "      <td>1.0</td>\n",
       "      <td>0.2370</td>\n",
       "      <td>year, leave, day, survivor, find, story, home,...</td>\n",
       "      <td>@CNN 5 Months paid domestic violence leave per...</td>\n",
       "    </tr>\n",
       "    <tr>\n",
       "      <th>5</th>\n",
       "      <td>5</td>\n",
       "      <td>5.0</td>\n",
       "      <td>0.2107</td>\n",
       "      <td>victim, issue, change, law, court, government,...</td>\n",
       "      <td>Just what has his government done to address t...</td>\n",
       "    </tr>\n",
       "    <tr>\n",
       "      <th>6</th>\n",
       "      <td>6</td>\n",
       "      <td>0.0</td>\n",
       "      <td>0.2055</td>\n",
       "      <td>woman, child, kill, #auspol, partner, week, ti...</td>\n",
       "      <td>“Victoria has experienced its biggest drop in ...</td>\n",
       "    </tr>\n",
       "    <tr>\n",
       "      <th>7</th>\n",
       "      <td>7</td>\n",
       "      <td>0.0</td>\n",
       "      <td>0.2074</td>\n",
       "      <td>woman, child, kill, #auspol, partner, week, ti...</td>\n",
       "      <td>Turnbull lies. \\nABC reported 14.12.2017:\\n“Vi...</td>\n",
       "    </tr>\n",
       "    <tr>\n",
       "      <th>8</th>\n",
       "      <td>8</td>\n",
       "      <td>4.0</td>\n",
       "      <td>0.2922</td>\n",
       "      <td>men, people, make, murder, stop, problem, male...</td>\n",
       "      <td>@TurnbullMalcolm You blame Victorian state gov...</td>\n",
       "    </tr>\n",
       "    <tr>\n",
       "      <th>9</th>\n",
       "      <td>9</td>\n",
       "      <td>2.0</td>\n",
       "      <td>0.2355</td>\n",
       "      <td>support, work, service, community, experience,...</td>\n",
       "      <td>2018,  is the year we can end the cycle of dom...</td>\n",
       "    </tr>\n",
       "  </tbody>\n",
       "</table>\n",
       "</div>"
      ],
      "text/plain": [
       "   Document_No  Dominant_Topic  Topic_Perc_Contrib  \\\n",
       "0            0             1.0              0.2870   \n",
       "1            1             2.0              0.2008   \n",
       "2            2             2.0              0.2656   \n",
       "3            3             1.0              0.1782   \n",
       "4            4             1.0              0.2370   \n",
       "5            5             5.0              0.2107   \n",
       "6            6             0.0              0.2055   \n",
       "7            7             0.0              0.2074   \n",
       "8            8             4.0              0.2922   \n",
       "9            9             2.0              0.2355   \n",
       "\n",
       "                                            Keywords  \\\n",
       "0  year, leave, day, survivor, find, story, home,...   \n",
       "1  support, work, service, community, experience,...   \n",
       "2  support, work, service, community, experience,...   \n",
       "3  year, leave, day, survivor, find, story, home,...   \n",
       "4  year, leave, day, survivor, find, story, home,...   \n",
       "5  victim, issue, change, law, court, government,...   \n",
       "6  woman, child, kill, #auspol, partner, week, ti...   \n",
       "7  woman, child, kill, #auspol, partner, week, ti...   \n",
       "8  men, people, make, murder, stop, problem, male...   \n",
       "9  support, work, service, community, experience,...   \n",
       "\n",
       "                                                Text  \n",
       "0  But wait.  Theres more .\\n\\nAustralia also off...  \n",
       "1  Domestic Violence Survey Australia Wide.\\n@dva...  \n",
       "2  2018 is the year that we can end the cycle of ...  \n",
       "3  Will sex robots of the future get headaches or...  \n",
       "4  @CNN 5 Months paid domestic violence leave per...  \n",
       "5  Just what has his government done to address t...  \n",
       "6  “Victoria has experienced its biggest drop in ...  \n",
       "7  Turnbull lies. \\nABC reported 14.12.2017:\\n“Vi...  \n",
       "8  @TurnbullMalcolm You blame Victorian state gov...  \n",
       "9  2018,  is the year we can end the cycle of dom...  "
      ]
     },
     "execution_count": 43,
     "metadata": {},
     "output_type": "execute_result"
    }
   ],
   "source": [
    "# # Show\n",
    "df_dominant_topic.head(10)"
   ]
  },
  {
   "cell_type": "markdown",
   "metadata": {},
   "source": [
    "### Compute dominant topic for each Tweet"
   ]
  },
  {
   "cell_type": "code",
   "execution_count": 47,
   "metadata": {},
   "outputs": [
    {
     "data": {
      "text/html": [
       "<div>\n",
       "<style scoped>\n",
       "    .dataframe tbody tr th:only-of-type {\n",
       "        vertical-align: middle;\n",
       "    }\n",
       "\n",
       "    .dataframe tbody tr th {\n",
       "        vertical-align: top;\n",
       "    }\n",
       "\n",
       "    .dataframe thead th {\n",
       "        text-align: right;\n",
       "    }\n",
       "</style>\n",
       "<table border=\"1\" class=\"dataframe\">\n",
       "  <thead>\n",
       "    <tr style=\"text-align: right;\">\n",
       "      <th></th>\n",
       "      <th>Document_No</th>\n",
       "      <th>Dominant_Topic</th>\n",
       "      <th>Topic_Perc_Contrib</th>\n",
       "      <th>Keywords</th>\n",
       "      <th>Text</th>\n",
       "    </tr>\n",
       "  </thead>\n",
       "  <tbody>\n",
       "    <tr>\n",
       "      <th>0</th>\n",
       "      <td>7510</td>\n",
       "      <td>0.0</td>\n",
       "      <td>0.3667</td>\n",
       "      <td>woman, child, kill, #auspol, partner, week, ti...</td>\n",
       "      <td>Domestic violence victims put at risk by renta...</td>\n",
       "    </tr>\n",
       "    <tr>\n",
       "      <th>1</th>\n",
       "      <td>7511</td>\n",
       "      <td>0.0</td>\n",
       "      <td>0.3553</td>\n",
       "      <td>woman, child, kill, #auspol, partner, week, ti...</td>\n",
       "      <td>Given all the problems going on with family vi...</td>\n",
       "    </tr>\n",
       "    <tr>\n",
       "      <th>2</th>\n",
       "      <td>5792</td>\n",
       "      <td>0.0</td>\n",
       "      <td>0.3349</td>\n",
       "      <td>woman, child, kill, #auspol, partner, week, ti...</td>\n",
       "      <td>@Grumpyoldwombat @Wraithaz @OddemocracyA @juan...</td>\n",
       "    </tr>\n",
       "    <tr>\n",
       "      <th>3</th>\n",
       "      <td>15606</td>\n",
       "      <td>0.0</td>\n",
       "      <td>0.3304</td>\n",
       "      <td>woman, child, kill, #auspol, partner, week, ti...</td>\n",
       "      <td>Most important group of Indigenous women in Au...</td>\n",
       "    </tr>\n",
       "    <tr>\n",
       "      <th>4</th>\n",
       "      <td>13963</td>\n",
       "      <td>0.0</td>\n",
       "      <td>0.3302</td>\n",
       "      <td>woman, child, kill, #auspol, partner, week, ti...</td>\n",
       "      <td>@KassSpeaks @amajdandzic1 I haven't witnessed ...</td>\n",
       "    </tr>\n",
       "  </tbody>\n",
       "</table>\n",
       "</div>"
      ],
      "text/plain": [
       "   Document_No  Dominant_Topic  Topic_Perc_Contrib  \\\n",
       "0         7510             0.0              0.3667   \n",
       "1         7511             0.0              0.3553   \n",
       "2         5792             0.0              0.3349   \n",
       "3        15606             0.0              0.3304   \n",
       "4        13963             0.0              0.3302   \n",
       "\n",
       "                                            Keywords  \\\n",
       "0  woman, child, kill, #auspol, partner, week, ti...   \n",
       "1  woman, child, kill, #auspol, partner, week, ti...   \n",
       "2  woman, child, kill, #auspol, partner, week, ti...   \n",
       "3  woman, child, kill, #auspol, partner, week, ti...   \n",
       "4  woman, child, kill, #auspol, partner, week, ti...   \n",
       "\n",
       "                                                Text  \n",
       "0  Domestic violence victims put at risk by renta...  \n",
       "1  Given all the problems going on with family vi...  \n",
       "2  @Grumpyoldwombat @Wraithaz @OddemocracyA @juan...  \n",
       "3  Most important group of Indigenous women in Au...  \n",
       "4  @KassSpeaks @amajdandzic1 I haven't witnessed ...  "
      ]
     },
     "execution_count": 47,
     "metadata": {},
     "output_type": "execute_result"
    }
   ],
   "source": [
    "# Group top 40 Tweets under each topic\n",
    "sent_topics_sorteddf_mallet = pd.DataFrame()\n",
    "\n",
    "sent_topics_outdf_grpd = df_dominant_topic.groupby('Dominant_Topic')\n",
    "\n",
    "for i, grp in sent_topics_outdf_grpd:\n",
    "    sent_topics_sorteddf_mallet = pd.concat([sent_topics_sorteddf_mallet, \n",
    "                                             grp.sort_values(['Topic_Perc_Contrib'], ascending=[0]).head(40)], \n",
    "                                            axis=0)\n",
    "\n",
    "# Reset Index    \n",
    "sent_topics_sorteddf_mallet.reset_index(drop=True, inplace=True)\n",
    "\n",
    "# # Format\n",
    "# sent_topics_sorteddf_mallet.columns = ['Topic_Num', \"Topic_Perc_Contrib\", \"Keywords\", \"Text\"]\n",
    "\n",
    "# Show\n",
    "sent_topics_sorteddf_mallet.head()"
   ]
  },
  {
   "cell_type": "code",
   "execution_count": null,
   "metadata": {},
   "outputs": [],
   "source": [
    "sent_topics_sorteddf_mallet.to_csv('docs/a.csv')"
   ]
  },
  {
   "cell_type": "markdown",
   "metadata": {},
   "source": [
    "## Most dominant topics and number of documents for each:"
   ]
  },
  {
   "cell_type": "code",
   "execution_count": 48,
   "metadata": {},
   "outputs": [
    {
     "data": {
      "text/html": [
       "<div>\n",
       "<style scoped>\n",
       "    .dataframe tbody tr th:only-of-type {\n",
       "        vertical-align: middle;\n",
       "    }\n",
       "\n",
       "    .dataframe tbody tr th {\n",
       "        vertical-align: top;\n",
       "    }\n",
       "\n",
       "    .dataframe thead th {\n",
       "        text-align: right;\n",
       "    }\n",
       "</style>\n",
       "<table border=\"1\" class=\"dataframe\">\n",
       "  <thead>\n",
       "    <tr style=\"text-align: right;\">\n",
       "      <th></th>\n",
       "      <th>Dominant_Topic_Idx</th>\n",
       "      <th>Topic_Keywords</th>\n",
       "      <th>Num_Documents</th>\n",
       "      <th>Perc_Documents</th>\n",
       "    </tr>\n",
       "  </thead>\n",
       "  <tbody>\n",
       "    <tr>\n",
       "      <th>0</th>\n",
       "      <td>2</td>\n",
       "      <td>support, work, service, community, experience, great, fund, program, campaign, prevention</td>\n",
       "      <td>4169</td>\n",
       "      <td>18.63%</td>\n",
       "    </tr>\n",
       "    <tr>\n",
       "      <th>1</th>\n",
       "      <td>0</td>\n",
       "      <td>woman, child, kill, #auspol, partner, week, time, death, die, care</td>\n",
       "      <td>3925</td>\n",
       "      <td>17.54%</td>\n",
       "    </tr>\n",
       "    <tr>\n",
       "      <th>2</th>\n",
       "      <td>4</td>\n",
       "      <td>men, people, make, murder, stop, problem, male, good, talk, kid</td>\n",
       "      <td>3811</td>\n",
       "      <td>17.03%</td>\n",
       "    </tr>\n",
       "    <tr>\n",
       "      <th>3</th>\n",
       "      <td>3</td>\n",
       "      <td>abuse, police, report, call, man, show, case, charge, increase, include</td>\n",
       "      <td>3745</td>\n",
       "      <td>16.74%</td>\n",
       "    </tr>\n",
       "    <tr>\n",
       "      <th>4</th>\n",
       "      <td>1</td>\n",
       "      <td>year, leave, day, survivor, find, story, home, read, pay, give</td>\n",
       "      <td>3657</td>\n",
       "      <td>16.34%</td>\n",
       "    </tr>\n",
       "    <tr>\n",
       "      <th>5</th>\n",
       "      <td>5</td>\n",
       "      <td>victim, issue, change, law, court, government, perpetrator, crime, speak, victoria</td>\n",
       "      <td>3070</td>\n",
       "      <td>13.72%</td>\n",
       "    </tr>\n",
       "  </tbody>\n",
       "</table>\n",
       "</div>"
      ],
      "text/plain": [
       "   Dominant_Topic_Idx  \\\n",
       "0                   2   \n",
       "1                   0   \n",
       "2                   4   \n",
       "3                   3   \n",
       "4                   1   \n",
       "5                   5   \n",
       "\n",
       "                                                                              Topic_Keywords  \\\n",
       "0  support, work, service, community, experience, great, fund, program, campaign, prevention   \n",
       "1                         woman, child, kill, #auspol, partner, week, time, death, die, care   \n",
       "2                            men, people, make, murder, stop, problem, male, good, talk, kid   \n",
       "3                    abuse, police, report, call, man, show, case, charge, increase, include   \n",
       "4                             year, leave, day, survivor, find, story, home, read, pay, give   \n",
       "5         victim, issue, change, law, court, government, perpetrator, crime, speak, victoria   \n",
       "\n",
       "   Num_Documents Perc_Documents  \n",
       "0           4169         18.63%  \n",
       "1           3925         17.54%  \n",
       "2           3811         17.03%  \n",
       "3           3745         16.74%  \n",
       "4           3657         16.34%  \n",
       "5           3070         13.72%  "
      ]
     },
     "execution_count": 48,
     "metadata": {},
     "output_type": "execute_result"
    }
   ],
   "source": [
    "# Number of Documents for Each Topic\n",
    "series_topic_counts = df_topic_sents_keywords['Dominant_Topic'].value_counts()\n",
    "\n",
    "idx = []\n",
    "topic_counts = []\n",
    "keywords = []\n",
    "topic_contributions = []\n",
    "\n",
    "for (i, count) in series_topic_counts.iteritems():\n",
    "    idx.append(int(i))\n",
    "    keywords.append(\", \".join([word for word, _ in optimal_model.show_topic(int(i))]))\n",
    "    topic_counts.append(count)\n",
    "    topic_contributions.append(str(round(100*count/series_topic_counts.sum(), 2))+'%')\n",
    "    \n",
    "df_dominant_topics = pd.DataFrame.from_dict({\n",
    "    'Dominant_Topic_Idx': idx,\n",
    "    'Topic_Keywords': keywords, \n",
    "    'Num_Documents': topic_counts, \n",
    "    'Perc_Documents': topic_contributions\n",
    "})\n",
    "\n",
    "# Show\n",
    "pd.options.display.max_colwidth = 100\n",
    "df_dominant_topics"
   ]
  },
  {
   "cell_type": "code",
   "execution_count": null,
   "metadata": {},
   "outputs": [],
   "source": [
    "df_dominant_topics.to_csv('docs/csv.csv')"
   ]
  },
  {
   "cell_type": "markdown",
   "metadata": {},
   "source": [
    "## Top Tweets for each topic"
   ]
  },
  {
   "cell_type": "code",
   "execution_count": null,
   "metadata": {},
   "outputs": [],
   "source": [
    "for i, row in df_dominant_topics.iterrows():\n",
    "    \n",
    "    print('-------------------------------------\\nTopic:', row['Topic_Keywords'])\n",
    "    print()\n",
    "    \n",
    "    filtered_df = sent_topics_sorteddf_mallet[sent_topics_sorteddf_mallet.Topic_Num == row['Dominant_Topic_Idx']]\n",
    "    ii = 1\n",
    "    for _, row_ in filtered_df.iterrows():\n",
    "        print(ii)\n",
    "        print(row_['Text'])\n",
    "        ii += 1\n",
    "        print()"
   ]
  },
  {
   "cell_type": "code",
   "execution_count": null,
   "metadata": {},
   "outputs": [],
   "source": []
  }
 ],
 "metadata": {
  "kernelspec": {
   "display_name": "Python 3",
   "language": "python",
   "name": "python3"
  },
  "language_info": {
   "codemirror_mode": {
    "name": "ipython",
    "version": 3
   },
   "file_extension": ".py",
   "mimetype": "text/x-python",
   "name": "python",
   "nbconvert_exporter": "python",
   "pygments_lexer": "ipython3",
   "version": "3.7.1"
  }
 },
 "nbformat": 4,
 "nbformat_minor": 2
}
